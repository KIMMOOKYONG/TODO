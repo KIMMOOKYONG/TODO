{
 "cells": [
  {
   "cell_type": "code",
   "execution_count": null,
   "id": "718f6784",
   "metadata": {},
   "outputs": [],
   "source": [
    "a = 1 \n",
    "b = 5\n",
    "c = \"안녕하세요\"\n",
    "\n",
    "print(a, b, c) "
   ]
  },
  {
   "cell_type": "markdown",
   "id": "d2e39998",
   "metadata": {},
   "source": [
    "### 숫자형: int와 float"
   ]
  },
  {
   "cell_type": "code",
   "execution_count": null,
   "id": "342a30ce",
   "metadata": {},
   "outputs": [],
   "source": [
    "a = 1\n",
    "b = 4.5\n",
    "\n",
    "print(type(a), type(b))"
   ]
  },
  {
   "cell_type": "markdown",
   "id": "e9b19e81",
   "metadata": {},
   "source": [
    "#### 형변환"
   ]
  },
  {
   "cell_type": "code",
   "execution_count": null,
   "id": "19e18763",
   "metadata": {},
   "outputs": [],
   "source": [
    "a = float(a)\n",
    "b = int(b)\n",
    "print(a, b)"
   ]
  },
  {
   "cell_type": "markdown",
   "id": "f689f100",
   "metadata": {},
   "source": [
    "#### 연산자"
   ]
  },
  {
   "cell_type": "code",
   "execution_count": null,
   "id": "c2f03972",
   "metadata": {},
   "outputs": [],
   "source": [
    "a = 5\n",
    "b = 2.5\n",
    "\n",
    "print(a + b)\n",
    "print(a - b)\n",
    "print(a * b)\n",
    "print(a / b)"
   ]
  },
  {
   "cell_type": "code",
   "execution_count": null,
   "id": "c90a24e0",
   "metadata": {},
   "outputs": [],
   "source": [
    "a = 2 ** 3  # 2의 3제곱\n",
    "b = 7 % 4   # 7 나머지 4\n",
    "c = 7 // 4  # 7을 4로 나눴을 때 몫\n",
    "print(a, b, c)"
   ]
  },
  {
   "cell_type": "markdown",
   "id": "af3a4421",
   "metadata": {},
   "source": [
    "### 문자열 자료형: str"
   ]
  },
  {
   "cell_type": "code",
   "execution_count": null,
   "id": "f65262e8",
   "metadata": {},
   "outputs": [],
   "source": [
    "x = \"python\"\n",
    "y = '안녕하세요'\n",
    "z = '12345'\n",
    "print(x, y, z)"
   ]
  },
  {
   "cell_type": "code",
   "execution_count": null,
   "id": "283b0d5f",
   "metadata": {},
   "outputs": [],
   "source": [
    "a = \"'작은따옴표가 포함'\"\n",
    "b = '\"큰따옴표가 포함\"'\n",
    "print(a, b)"
   ]
  },
  {
   "cell_type": "markdown",
   "id": "70bce5b2",
   "metadata": {},
   "source": [
    "#### 이스케이프 코드"
   ]
  },
  {
   "cell_type": "code",
   "execution_count": null,
   "id": "071221c7",
   "metadata": {},
   "outputs": [],
   "source": [
    "a = \"Life is short.\\nYou need Python\"\n",
    "print(a)"
   ]
  },
  {
   "cell_type": "code",
   "execution_count": null,
   "id": "96fd666a",
   "metadata": {},
   "outputs": [],
   "source": [
    "b = \"금융\\t데이터\\t분석\"\n",
    "print(b)"
   ]
  },
  {
   "cell_type": "code",
   "execution_count": null,
   "id": "840b7aaf",
   "metadata": {},
   "outputs": [],
   "source": [
    "c = \"이것이 역슬래시입니다: \\\\\"\n",
    "print(c)"
   ]
  },
  {
   "cell_type": "code",
   "execution_count": null,
   "id": "2a97555b",
   "metadata": {},
   "outputs": [],
   "source": [
    "print(r\"이스케이프 코드 \\n \\t 무시하기\")"
   ]
  },
  {
   "cell_type": "markdown",
   "id": "fbfe4c94",
   "metadata": {},
   "source": [
    "#### 문자열 연산자"
   ]
  },
  {
   "cell_type": "code",
   "execution_count": null,
   "id": "8c7181d0",
   "metadata": {},
   "outputs": [],
   "source": [
    "a = \"파이썬을 이용한 \"\n",
    "b = \"금융 데이터 분석\"\n",
    "print(a + b)"
   ]
  },
  {
   "cell_type": "code",
   "execution_count": null,
   "id": "8e9eea49",
   "metadata": {},
   "outputs": [],
   "source": [
    "a = \"파이썬\"\n",
    "print(a * 3)"
   ]
  },
  {
   "cell_type": "markdown",
   "id": "9cc552cc",
   "metadata": {},
   "source": [
    "#### 인덱싱과 슬라이싱"
   ]
  },
  {
   "cell_type": "code",
   "execution_count": null,
   "id": "380aff78",
   "metadata": {},
   "outputs": [],
   "source": [
    "s = \"HELLO! WORLD\"\n",
    "print(s[0])\n",
    "print(s[4])\n",
    "print(s[-2])"
   ]
  },
  {
   "cell_type": "code",
   "execution_count": null,
   "id": "a41847c5",
   "metadata": {},
   "outputs": [],
   "source": [
    "print(s[0:4:1])"
   ]
  },
  {
   "cell_type": "code",
   "execution_count": null,
   "id": "7f13863f",
   "metadata": {},
   "outputs": [],
   "source": [
    "print(s[1:4])  # 시작 = 1, 종료 = 4, 증가폭 = 1\n",
    "print(s[:4])   # 시작 = 0, 종료 = 4, 증가폭 = 1\n",
    "print(s[1::2]) # 시작 = 1, 종료 = 길이 + 1, 증가폭 = 2"
   ]
  },
  {
   "cell_type": "markdown",
   "id": "d22a95ea",
   "metadata": {},
   "source": [
    "#### 내장 함수"
   ]
  },
  {
   "cell_type": "code",
   "execution_count": null,
   "id": "5304d557",
   "metadata": {},
   "outputs": [],
   "source": [
    "x = len(\"ABC\")\n",
    "print(x)\n",
    "\n",
    "y = len(\"hello\")\n",
    "print(y)"
   ]
  },
  {
   "cell_type": "code",
   "execution_count": null,
   "id": "e7d5e6cd",
   "metadata": {},
   "outputs": [],
   "source": [
    "s = \"HELLO\"\n",
    "print(s.find(\"E\"))\n",
    "print(s.index(\"E\"))"
   ]
  },
  {
   "cell_type": "code",
   "execution_count": null,
   "id": "cd33e25a",
   "metadata": {},
   "outputs": [],
   "source": [
    "print(s.find(\"L\"))\n",
    "print(s.index(\"L\"))"
   ]
  },
  {
   "cell_type": "code",
   "execution_count": null,
   "id": "bbb4688c",
   "metadata": {},
   "outputs": [],
   "source": [
    "print(s.find(\"X\"))"
   ]
  },
  {
   "cell_type": "code",
   "execution_count": null,
   "id": "5f3a320e",
   "metadata": {},
   "outputs": [],
   "source": [
    "print(s.index(\"X\"))"
   ]
  },
  {
   "cell_type": "code",
   "execution_count": null,
   "id": "a0e92df7",
   "metadata": {},
   "outputs": [],
   "source": [
    "a = \"C언어는 배우기 쉬운 언어입니다\"\n",
    "print(a.replace(\"C언어는\", \"파이썬은\"))"
   ]
  },
  {
   "cell_type": "code",
   "execution_count": null,
   "id": "30ac0dcc",
   "metadata": {},
   "outputs": [],
   "source": [
    "x = \"A\\tB\\tC\"\n",
    "print(x.split(\"\\t\"))"
   ]
  },
  {
   "cell_type": "code",
   "execution_count": null,
   "id": "07146071",
   "metadata": {},
   "outputs": [],
   "source": [
    "A = 10\n",
    "B = 20\n",
    "C = 30\n",
    "print(\"A = {}, B = {}, C = {}\".format(A, B, C))"
   ]
  },
  {
   "cell_type": "code",
   "execution_count": null,
   "id": "d33b86d7",
   "metadata": {},
   "outputs": [],
   "source": [
    "print(\"A = {a}, B = {b}, C = {c}\".format(b = 20, c = 30, a = 10))"
   ]
  },
  {
   "cell_type": "markdown",
   "id": "399ffbd3",
   "metadata": {},
   "source": [
    "### 배열 자료형: list와 tuple"
   ]
  },
  {
   "cell_type": "code",
   "execution_count": null,
   "id": "1abff6ec",
   "metadata": {},
   "outputs": [],
   "source": [
    "L = [1,2,3,4] # 리스트\n",
    "T = (1,2,3,4) # 튜플"
   ]
  },
  {
   "cell_type": "code",
   "execution_count": null,
   "id": "db196752",
   "metadata": {},
   "outputs": [],
   "source": [
    "L = [\"abc\", 10, [\"A, B\"], (1, 2, 3)]"
   ]
  },
  {
   "cell_type": "markdown",
   "id": "ae671ac3",
   "metadata": {},
   "source": [
    "#### 인덱싱과 슬라이싱"
   ]
  },
  {
   "cell_type": "code",
   "execution_count": null,
   "id": "825e43e9",
   "metadata": {},
   "outputs": [],
   "source": [
    "L = [\"A\", \"B\", \"C\", \"D\", \"E\"]\n",
    "print(\"0번째 요소: {}, 3번째 요소: {}\".format(L[0], L[3]))"
   ]
  },
  {
   "cell_type": "code",
   "execution_count": null,
   "id": "cb4a5c15",
   "metadata": {},
   "outputs": [],
   "source": [
    "T = (\"A\", \"B\", \"C\", \"D\", \"E\")\n",
    "print(\"0번째 요소: {}, -1번째 요소: {}\".format(T[0], T[-1]))"
   ]
  },
  {
   "cell_type": "code",
   "execution_count": null,
   "id": "f3f69891",
   "metadata": {},
   "outputs": [],
   "source": [
    "print(L[1:3])\n",
    "print(T[1:3])"
   ]
  },
  {
   "cell_type": "code",
   "execution_count": null,
   "id": "edb0968e",
   "metadata": {
    "scrolled": true
   },
   "outputs": [],
   "source": [
    "A = [[1,2,3], [4,5,6]]\n",
    "print(A[0][1])"
   ]
  },
  {
   "cell_type": "markdown",
   "id": "d681eb0d",
   "metadata": {},
   "source": [
    "#### 연산자"
   ]
  },
  {
   "cell_type": "code",
   "execution_count": null,
   "id": "564f8e86",
   "metadata": {},
   "outputs": [],
   "source": [
    "print((1,2,3) + (4,5))"
   ]
  },
  {
   "cell_type": "code",
   "execution_count": null,
   "id": "2a892da6",
   "metadata": {},
   "outputs": [],
   "source": [
    "print([1,2,3] + [4, 5])"
   ]
  },
  {
   "cell_type": "markdown",
   "id": "5e23a5cf",
   "metadata": {},
   "source": [
    "#### 변경가능"
   ]
  },
  {
   "cell_type": "code",
   "execution_count": null,
   "id": "8cb6f176",
   "metadata": {},
   "outputs": [],
   "source": [
    "L[0] = \"X\"\n",
    "print(L)"
   ]
  },
  {
   "cell_type": "code",
   "execution_count": null,
   "id": "0c5080ea",
   "metadata": {},
   "outputs": [],
   "source": [
    "T[0] = \"Y\""
   ]
  },
  {
   "cell_type": "markdown",
   "id": "3c6b7ca3",
   "metadata": {},
   "source": [
    "#### 내장 함수"
   ]
  },
  {
   "cell_type": "code",
   "execution_count": null,
   "id": "b4a5cf0a",
   "metadata": {},
   "outputs": [],
   "source": [
    "X = [1, 2, 3]\n",
    "X.append(4)\n",
    "print(X)"
   ]
  },
  {
   "cell_type": "code",
   "execution_count": null,
   "id": "4c182ba4",
   "metadata": {},
   "outputs": [],
   "source": [
    "a = \"C언어는 배우기 쉬운 언어입니다\"\n",
    "a.replace(\"C언어는\", \"파이썬은\")\n",
    "print(a)"
   ]
  },
  {
   "cell_type": "code",
   "execution_count": null,
   "id": "e7d25143",
   "metadata": {},
   "outputs": [],
   "source": [
    "X = [1, 2, 3]\n",
    "print(X.append(4))\n",
    "\n",
    "a = \"C언어는 배우기 쉬운 언어입니다\"\n",
    "print(a.replace(\"C언어는\", \"파이썬은\"))"
   ]
  },
  {
   "cell_type": "code",
   "execution_count": null,
   "id": "abe3214c",
   "metadata": {},
   "outputs": [],
   "source": [
    "L = [1, 3, 4, 5]\n",
    "L.insert(1, 2) # 1의 위치에 2를 추가\n",
    "print(L)"
   ]
  },
  {
   "cell_type": "code",
   "execution_count": null,
   "id": "b57d1ca6",
   "metadata": {},
   "outputs": [],
   "source": [
    "L = [\"a\", \"b\", \"c\"]\n",
    "L.remove(\"a\") # \"a\"를 L에서 삭제\n",
    "print(L)"
   ]
  },
  {
   "cell_type": "code",
   "execution_count": null,
   "id": "b39a289a",
   "metadata": {},
   "outputs": [],
   "source": [
    "L = [3,1,2,3,2,3]\n",
    "L.remove(3)\n",
    "print(L)"
   ]
  },
  {
   "cell_type": "code",
   "execution_count": null,
   "id": "5bfa19c9",
   "metadata": {},
   "outputs": [],
   "source": [
    "L = [1,2,3]\n",
    "L.remove(5)"
   ]
  },
  {
   "cell_type": "code",
   "execution_count": null,
   "id": "aee2824e",
   "metadata": {},
   "outputs": [],
   "source": [
    "L = [1,2,3]\n",
    "L.pop(1)\n",
    "print(L)"
   ]
  },
  {
   "cell_type": "code",
   "execution_count": null,
   "id": "34fb4b1a",
   "metadata": {},
   "outputs": [],
   "source": [
    "L = [1,2,3]\n",
    "L.pop()\n",
    "print(L)"
   ]
  },
  {
   "cell_type": "code",
   "execution_count": null,
   "id": "7a7adc4a",
   "metadata": {},
   "outputs": [],
   "source": [
    "A = [\"a\", \"b\", \"c\", \"d\"]\n",
    "i = 1\n",
    "print(A[:i] + A[i+1:])"
   ]
  },
  {
   "cell_type": "code",
   "execution_count": null,
   "id": "6089a79f",
   "metadata": {},
   "outputs": [],
   "source": [
    "L = [\"a\", \"b\", 1, 2]\n",
    "T = (1, 2, 3)\n",
    "print(len(L), len(T))"
   ]
  },
  {
   "cell_type": "code",
   "execution_count": null,
   "id": "57b51f9d",
   "metadata": {},
   "outputs": [],
   "source": [
    "L = [[1, 2, 3], [4, 5, 6]]\n",
    "print(len(L))"
   ]
  },
  {
   "cell_type": "markdown",
   "id": "df2978b2",
   "metadata": {},
   "source": [
    "#### 튜플을 이용한 변수 할당"
   ]
  },
  {
   "cell_type": "code",
   "execution_count": null,
   "id": "74b01d85",
   "metadata": {},
   "outputs": [],
   "source": [
    "(a, b) = (1, 2)\n",
    "print(a, b)"
   ]
  },
  {
   "cell_type": "code",
   "execution_count": null,
   "id": "f8fcb5bc",
   "metadata": {},
   "outputs": [],
   "source": [
    "(a, b) = (b, a)\n",
    "print(a, b)"
   ]
  },
  {
   "cell_type": "code",
   "execution_count": null,
   "id": "b5d470c8",
   "metadata": {},
   "outputs": [],
   "source": [
    "a = b\n",
    "b = a\n",
    "print(a, b)"
   ]
  },
  {
   "cell_type": "code",
   "execution_count": null,
   "id": "1b1a0b56",
   "metadata": {},
   "outputs": [],
   "source": [
    "T = 1, 2, 3\n",
    "print(type(T)) "
   ]
  },
  {
   "cell_type": "code",
   "execution_count": null,
   "id": "1d7ae27a",
   "metadata": {
    "scrolled": true
   },
   "outputs": [],
   "source": [
    "a, b = 1, 2\n",
    "print(a, b)"
   ]
  },
  {
   "cell_type": "markdown",
   "id": "f9d7681d",
   "metadata": {},
   "source": [
    "### 집합 자료형: set"
   ]
  },
  {
   "cell_type": "code",
   "execution_count": null,
   "id": "efc3823f",
   "metadata": {},
   "outputs": [],
   "source": [
    "S1 = {1, 2, 3, 2, 1}\n",
    "S2 = set([1, 2, 3, 2, 1])\n",
    "print(S1, S2)"
   ]
  },
  {
   "cell_type": "code",
   "execution_count": null,
   "id": "f3b18846",
   "metadata": {},
   "outputs": [],
   "source": [
    "L = [1,2,3,1,2,3]\n",
    "L = list(set(L))\n",
    "print(L)"
   ]
  },
  {
   "cell_type": "markdown",
   "id": "dc83b59e",
   "metadata": {},
   "source": [
    "#### 연산자"
   ]
  },
  {
   "cell_type": "code",
   "execution_count": null,
   "id": "5b6f1e04",
   "metadata": {},
   "outputs": [],
   "source": [
    "S1 = {1, 2, 3, 4}\n",
    "S2 = {3, 4, 5, 6}\n",
    "print(S1 & S2)\n",
    "print(S1.intersection(S2))"
   ]
  },
  {
   "cell_type": "code",
   "execution_count": null,
   "id": "3adae502",
   "metadata": {},
   "outputs": [],
   "source": [
    "S1 = {1, 2, 3, 4}\n",
    "S2 = {3, 4, 5, 6}\n",
    "print(S1 | S2)\n",
    "print(S1.union(S2))"
   ]
  },
  {
   "cell_type": "code",
   "execution_count": null,
   "id": "be79cc44",
   "metadata": {},
   "outputs": [],
   "source": [
    "S1 = {1, 2, 3, 4}\n",
    "S2 = {3, 4, 5, 6}\n",
    "print(S1 - S2)\n",
    "print(S1.difference(S2))"
   ]
  },
  {
   "cell_type": "markdown",
   "id": "b44877e5",
   "metadata": {},
   "source": [
    "### 사전 자료형"
   ]
  },
  {
   "cell_type": "code",
   "execution_count": null,
   "id": "fbb84fa6",
   "metadata": {},
   "outputs": [],
   "source": [
    "X = {\"A\":1, \"B\":2, \"C\":3}"
   ]
  },
  {
   "cell_type": "code",
   "execution_count": null,
   "id": "ccc1d252",
   "metadata": {},
   "outputs": [],
   "source": [
    "print(X[\"A\"])"
   ]
  },
  {
   "cell_type": "code",
   "execution_count": null,
   "id": "6798f3ea",
   "metadata": {},
   "outputs": [],
   "source": [
    "print(X[\"D\"])"
   ]
  },
  {
   "cell_type": "code",
   "execution_count": null,
   "id": "4ce66216",
   "metadata": {},
   "outputs": [],
   "source": [
    "X[\"D\"] = 4\n",
    "X[\"B\"] = 20\n",
    "print(X)"
   ]
  },
  {
   "cell_type": "code",
   "execution_count": null,
   "id": "706bb14f",
   "metadata": {},
   "outputs": [],
   "source": [
    "del(X[\"A\"])\n",
    "print(X)"
   ]
  },
  {
   "cell_type": "code",
   "execution_count": null,
   "id": "abf6a1ba",
   "metadata": {},
   "outputs": [],
   "source": [
    "X = {1:\"A\", 2:\"B\", 3:\"C\"}\n",
    "print(X.keys())\n",
    "print(X.values())\n",
    "print(X.items())"
   ]
  },
  {
   "cell_type": "markdown",
   "id": "a1c843cd",
   "metadata": {},
   "source": [
    "### 부울 자료형"
   ]
  },
  {
   "cell_type": "code",
   "execution_count": null,
   "id": "04c65944",
   "metadata": {},
   "outputs": [],
   "source": [
    "a = True\n",
    "b = False\n",
    "print(a, b)\n",
    "print(type(a), type(b))"
   ]
  },
  {
   "cell_type": "markdown",
   "id": "ed752ef4",
   "metadata": {},
   "source": [
    "#### 연산자"
   ]
  },
  {
   "cell_type": "code",
   "execution_count": null,
   "id": "821dd700",
   "metadata": {},
   "outputs": [],
   "source": [
    "print(True and True)  # True\n",
    "print(True and False) # False\n",
    "print(False & False)  # False\n",
    "print(False & True)   # False"
   ]
  },
  {
   "cell_type": "code",
   "execution_count": null,
   "id": "ea3087a7",
   "metadata": {},
   "outputs": [],
   "source": [
    "print(True or False)      # True\n",
    "print(True|False)         # True\n",
    "print(False|False|False) # False"
   ]
  },
  {
   "cell_type": "code",
   "execution_count": null,
   "id": "ff1ce006",
   "metadata": {},
   "outputs": [],
   "source": [
    "print(True + True)   # 2\n",
    "print(True * False)  # 0 \n",
    "print(False - True)  # -1\n",
    "print(True / True)   # -1.0"
   ]
  }
 ],
 "metadata": {
  "kernelspec": {
   "display_name": "Python 3",
   "language": "python",
   "name": "python3"
  },
  "language_info": {
   "codemirror_mode": {
    "name": "ipython",
    "version": 3
   },
   "file_extension": ".py",
   "mimetype": "text/x-python",
   "name": "python",
   "nbconvert_exporter": "python",
   "pygments_lexer": "ipython3",
   "version": "3.8.8"
  }
 },
 "nbformat": 4,
 "nbformat_minor": 5
}
