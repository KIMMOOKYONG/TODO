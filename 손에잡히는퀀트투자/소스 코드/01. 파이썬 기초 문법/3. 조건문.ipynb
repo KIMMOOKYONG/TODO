{
 "cells": [
  {
   "cell_type": "markdown",
   "id": "a5baee29",
   "metadata": {},
   "source": [
    "### 기본 구조: if와 else"
   ]
  },
  {
   "cell_type": "code",
   "execution_count": null,
   "id": "3bb3a11c",
   "metadata": {},
   "outputs": [],
   "source": [
    "cond = True\n",
    "if cond:\n",
    "    print(\"참\")\n",
    "else:\n",
    "    print(\"거짓\")"
   ]
  },
  {
   "cell_type": "markdown",
   "id": "72bdadf0",
   "metadata": {},
   "source": [
    "### 비교 및 논리 연산자"
   ]
  },
  {
   "cell_type": "code",
   "execution_count": null,
   "id": "f2c94e21",
   "metadata": {},
   "outputs": [],
   "source": [
    "print(3 < 2)           # 3이 2보다 작으면 True\n",
    "print(3 == 3)          # 3이 3과 같으면 True\n",
    "print(2+2 != 5)        # 2+2가 5와 같지 않으면 True\n",
    "print(len(\"ABC\") >= 2) # ABC의 길이가 2보다 크거나 같으면 True"
   ]
  },
  {
   "cell_type": "code",
   "execution_count": null,
   "id": "97df1e74",
   "metadata": {},
   "outputs": [],
   "source": [
    "L = [1, 2, 3]\n",
    "S = \"abcde\"\n",
    "D = {\"A\":1, \"B\":2, \"C\": 3}\n",
    "\n",
    "print(1 in L)           # 1이 L 안에 있으면 True \n",
    "print(2 not in L)      # 2가 L 안에 없으면 True\n",
    "print(\"abc\" in S)      # abc가 abcde 안에 있으면 True\n",
    "print(\"ac\" in S)       # ac가 abcde 안에 있으면 True\n",
    "print(\"A\" in D.keys()) # A가 D의 키에 있으면 True"
   ]
  },
  {
   "cell_type": "markdown",
   "id": "667341a9",
   "metadata": {},
   "source": [
    "### elif문"
   ]
  },
  {
   "cell_type": "code",
   "execution_count": null,
   "id": "800c402c",
   "metadata": {},
   "outputs": [],
   "source": [
    "x = ''' 1 D = {\"B\":30}\n",
    " 2 if \"A\" not in D.keys():\n",
    " 3     D[\"A\"] = 0\n",
    " 4 \n",
    " 5 if \"B\" not in D.keys():\n",
    " 6     D[\"B\"] = 0\n",
    " 7     \n",
    " 8 if \"C\" not in D.keys():\n",
    " 9     D[\"C\"] = 0\n",
    "10     \n",
    "11 print(D)\n",
    "\n",
    "'''"
   ]
  },
  {
   "cell_type": "code",
   "execution_count": null,
   "id": "22a48254",
   "metadata": {},
   "outputs": [],
   "source": [
    "L = [1, 2, 3, 4, 5]\n",
    "if 1 in L and 6 in L:\n",
    "    print(\"1과 6 모두 L안에 있습니다.\")\n",
    "elif 1 in L:\n",
    "    print(\"6은 없지만, 1은 L 안에 있습니다.\")\n",
    "elif 6 in L:\n",
    "    print(\"1은 없지만, 6은 L 안에 있습니다.\")\n",
    "else:\n",
    "    print(\"1과 6 모두 L 안에 없습니다. \")"
   ]
  },
  {
   "cell_type": "code",
   "execution_count": null,
   "id": "3072fbdb",
   "metadata": {},
   "outputs": [],
   "source": [
    "D = {\"B\":30}\n",
    "if \"A\" not in D.keys():  # \"A\"가 D.keys()에 없으면 \n",
    "    D[\"A\"] = 0            # D[\"A\"] = 0을 추가\n",
    "if \"B\" not in D.keys():  # \"B\"가 D.keys()에 없으면 \n",
    "    D[\"B\"] = 0            # D[\"B\"] = 0을 추가\n",
    "if \"C\" not in D.keys():  # \"C\"가 D.keys()에 없으면 \n",
    "    D[\"C\"] = 0            # D[\"C\"] = 0을 추가\n",
    "     \n",
    "print(D)"
   ]
  }
 ],
 "metadata": {
  "kernelspec": {
   "display_name": "Python 3",
   "language": "python",
   "name": "python3"
  },
  "language_info": {
   "codemirror_mode": {
    "name": "ipython",
    "version": 3
   },
   "file_extension": ".py",
   "mimetype": "text/x-python",
   "name": "python",
   "nbconvert_exporter": "python",
   "pygments_lexer": "ipython3",
   "version": "3.8.8"
  }
 },
 "nbformat": 4,
 "nbformat_minor": 5
}
