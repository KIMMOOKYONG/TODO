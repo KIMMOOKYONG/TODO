{
 "cells": [
  {
   "cell_type": "markdown",
   "id": "fdda768c",
   "metadata": {},
   "source": [
    "### for문"
   ]
  },
  {
   "cell_type": "code",
   "execution_count": null,
   "id": "555f18a0",
   "metadata": {},
   "outputs": [],
   "source": [
    "L = [\"A\", \"B\", \"C\"]\n",
    "for i in L: # i가 L을 순회함\n",
    "    print(i)"
   ]
  },
  {
   "cell_type": "code",
   "execution_count": null,
   "id": "09216fc2",
   "metadata": {},
   "outputs": [],
   "source": [
    "T = (1, 2, 3, 4, 5)\n",
    "for a in T:\n",
    "    x = a ** 2\n",
    "    y = a ** 3\n",
    "    print(a, x, y)"
   ]
  },
  {
   "cell_type": "code",
   "execution_count": null,
   "id": "087989f3",
   "metadata": {},
   "outputs": [],
   "source": [
    "X = [[1, \"A\"], [2, \"B\"], [3, \"C\"]]\n",
    "for a, b in X:\n",
    "    print(a, b)"
   ]
  },
  {
   "cell_type": "markdown",
   "id": "25368fed",
   "metadata": {},
   "source": [
    "#### zip 함수"
   ]
  },
  {
   "cell_type": "code",
   "execution_count": null,
   "id": "fadc0d86",
   "metadata": {},
   "outputs": [],
   "source": [
    "A = [1, 2, 3]\n",
    "B = [\"A\", \"B\", \"C\"]\n",
    "\n",
    "for a, b in zip(A, B): #a는 A를, b는 B를 순회함\n",
    "    print(a, b)"
   ]
  },
  {
   "cell_type": "code",
   "execution_count": null,
   "id": "ce61f398",
   "metadata": {},
   "outputs": [],
   "source": [
    "A = [1, 2]\n",
    "B = [\"A\", \"B\", \"C\"]\n",
    "\n",
    "for a, b in zip(A, B):\n",
    "    print(a, b)"
   ]
  },
  {
   "cell_type": "markdown",
   "id": "c41418eb",
   "metadata": {},
   "source": [
    "#### range 함수"
   ]
  },
  {
   "cell_type": "code",
   "execution_count": null,
   "id": "3d840b36",
   "metadata": {},
   "outputs": [],
   "source": [
    "print(range(1, 10, 2))"
   ]
  },
  {
   "cell_type": "code",
   "execution_count": null,
   "id": "5ea49a80",
   "metadata": {},
   "outputs": [],
   "source": [
    "for i in range(5):\n",
    "    print(i)"
   ]
  },
  {
   "cell_type": "code",
   "execution_count": null,
   "id": "207b16e3",
   "metadata": {},
   "outputs": [],
   "source": [
    "print(list(range(5)))\n",
    "print(tuple(range(5)))"
   ]
  },
  {
   "cell_type": "markdown",
   "id": "08d8a8d1",
   "metadata": {},
   "source": [
    "#### 인덱스를 이용한 순회"
   ]
  },
  {
   "cell_type": "code",
   "execution_count": null,
   "id": "480c39da",
   "metadata": {},
   "outputs": [],
   "source": [
    "A = [1, 2, 3]\n",
    "B = [\"A\", \"B\", \"C\"]\n",
    "\n",
    "for i in range(len(A)):\n",
    "    print(A[i], B[i])"
   ]
  },
  {
   "cell_type": "code",
   "execution_count": null,
   "id": "77d1bf53",
   "metadata": {},
   "outputs": [],
   "source": [
    "L = [\"A\", \"B\", \"C\"]\n",
    "for idx, value in enumerate(L):\n",
    "    print(idx, value)"
   ]
  },
  {
   "cell_type": "markdown",
   "id": "a5964ef9",
   "metadata": {},
   "source": [
    "#### 중첩 for문"
   ]
  },
  {
   "cell_type": "code",
   "execution_count": null,
   "id": "d8881ba0",
   "metadata": {},
   "outputs": [],
   "source": [
    "for i in [\"A\", \"B\"]:\n",
    "    print(\"첫 번째 반복문\")\n",
    "    for j in [1, 2]:\n",
    "        print(i, j)"
   ]
  },
  {
   "cell_type": "code",
   "execution_count": null,
   "id": "5a68af69",
   "metadata": {},
   "outputs": [],
   "source": [
    "A = [1, 2, 3]\n",
    "B = [\"A\", \"B\", \"C\"]\n",
    "L = []\n",
    "\n",
    "for a in A:\n",
    "    for b in B:\n",
    "        L.append((a, b)) # (a, b)를 L에 추가\n",
    "         \n",
    "print(L)"
   ]
  },
  {
   "cell_type": "markdown",
   "id": "ffed725c",
   "metadata": {},
   "source": [
    "#### if문과 for문"
   ]
  },
  {
   "cell_type": "code",
   "execution_count": null,
   "id": "cab13c1a",
   "metadata": {},
   "outputs": [],
   "source": [
    "even_sum = 0\n",
    "for number in range(1, 101):\n",
    "    if number % 2 == 0:\n",
    "        even_sum += number\n",
    "\n",
    "print(even_sum)"
   ]
  },
  {
   "cell_type": "markdown",
   "id": "490aec25",
   "metadata": {},
   "source": [
    "### while 문"
   ]
  },
  {
   "cell_type": "code",
   "execution_count": null,
   "id": "4c5ddd82",
   "metadata": {},
   "outputs": [],
   "source": [
    "x = 1\n",
    "while x <= 5:\n",
    "    print(x)\n",
    "    x += 1"
   ]
  },
  {
   "cell_type": "code",
   "execution_count": null,
   "id": "ca9305b2",
   "metadata": {},
   "outputs": [],
   "source": [
    "for i in range(1, 6):\n",
    "    print(i)"
   ]
  },
  {
   "cell_type": "code",
   "execution_count": null,
   "id": "16a356b0",
   "metadata": {},
   "outputs": [],
   "source": [
    "n = 1\n",
    "while 2 ** n < 10 ** 8:\n",
    "     n += 1\n",
    "print(n)"
   ]
  },
  {
   "cell_type": "markdown",
   "id": "1fe71e6d",
   "metadata": {},
   "source": [
    "#### 무한 루프와 break문"
   ]
  },
  {
   "cell_type": "code",
   "execution_count": null,
   "id": "67c6b36d",
   "metadata": {},
   "outputs": [],
   "source": [
    "n = 1\n",
    "while True:\n",
    "    if 2 ** n >= 10 ** 8:\n",
    "        break\n",
    "    n += 1\n",
    "print(n)"
   ]
  }
 ],
 "metadata": {
  "kernelspec": {
   "display_name": "Python 3",
   "language": "python",
   "name": "python3"
  },
  "language_info": {
   "codemirror_mode": {
    "name": "ipython",
    "version": 3
   },
   "file_extension": ".py",
   "mimetype": "text/x-python",
   "name": "python",
   "nbconvert_exporter": "python",
   "pygments_lexer": "ipython3",
   "version": "3.8.8"
  }
 },
 "nbformat": 4,
 "nbformat_minor": 5
}
