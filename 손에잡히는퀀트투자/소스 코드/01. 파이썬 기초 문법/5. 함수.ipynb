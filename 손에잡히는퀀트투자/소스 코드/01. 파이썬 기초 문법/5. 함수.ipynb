{
 "cells": [
  {
   "cell_type": "markdown",
   "id": "3a19d5a2",
   "metadata": {},
   "source": [
    "### 함수의 기본 구조"
   ]
  },
  {
   "cell_type": "code",
   "execution_count": null,
   "id": "6616ce1b",
   "metadata": {},
   "outputs": [],
   "source": [
    "def f(x): # 인자가 x인 f를 정의합니다. \n",
    "    y = 2 * x - 1\n",
    "    return y\n",
    "\n",
    "print(f(1))"
   ]
  },
  {
   "cell_type": "code",
   "execution_count": null,
   "id": "7d2962c9",
   "metadata": {},
   "outputs": [],
   "source": [
    "def minus(a, b):\n",
    "    return a - b\n",
    "\n",
    "print(minus(3, 5))"
   ]
  },
  {
   "cell_type": "code",
   "execution_count": null,
   "id": "96c04d86",
   "metadata": {},
   "outputs": [],
   "source": [
    "print(minus(b = 3, a = 5))"
   ]
  },
  {
   "cell_type": "markdown",
   "id": "d215fe31",
   "metadata": {},
   "source": [
    "### 기본값"
   ]
  },
  {
   "cell_type": "code",
   "execution_count": null,
   "id": "adc38b80",
   "metadata": {},
   "outputs": [],
   "source": [
    "def print_n_times(msg, n = 2): # n의 기본값은 2로 설정\n",
    "    for _ in range(n):\n",
    "        print(msg)"
   ]
  },
  {
   "cell_type": "code",
   "execution_count": null,
   "id": "9931569c",
   "metadata": {},
   "outputs": [],
   "source": [
    "print_n_times(\"안녕하세요\")"
   ]
  },
  {
   "cell_type": "code",
   "execution_count": null,
   "id": "ebd55435",
   "metadata": {},
   "outputs": [],
   "source": [
    "print_n_times(\"안녕하세요\", 1)"
   ]
  },
  {
   "cell_type": "code",
   "execution_count": null,
   "id": "0fb02e1c",
   "metadata": {},
   "outputs": [],
   "source": [
    "print_n_times()"
   ]
  },
  {
   "cell_type": "code",
   "execution_count": null,
   "id": "e932300e",
   "metadata": {},
   "outputs": [],
   "source": [
    "def print_n_times(n = 2, msg):\n",
    "    for _ in range(n):\n",
    "        print(msg)"
   ]
  },
  {
   "cell_type": "markdown",
   "id": "1b337b37",
   "metadata": {},
   "source": [
    "### 출력이 없는 함수"
   ]
  },
  {
   "cell_type": "code",
   "execution_count": null,
   "id": "55b80c2d",
   "metadata": {},
   "outputs": [],
   "source": [
    "result = print_n_times(\"출력이 없는 함수\", n = 1)\n",
    "print(result)"
   ]
  },
  {
   "cell_type": "code",
   "execution_count": null,
   "id": "9d363d30",
   "metadata": {},
   "outputs": [],
   "source": [
    "L = [1,2,3]\n",
    "print(L.append(4))\n",
    "print(L)"
   ]
  },
  {
   "cell_type": "markdown",
   "id": "ab22864e",
   "metadata": {},
   "source": [
    "### lambda 함수"
   ]
  },
  {
   "cell_type": "code",
   "execution_count": null,
   "id": "2d962ed6",
   "metadata": {},
   "outputs": [],
   "source": [
    "minus = lambda x, y: x - y"
   ]
  },
  {
   "cell_type": "code",
   "execution_count": null,
   "id": "c6df0ca3",
   "metadata": {},
   "outputs": [],
   "source": [
    "def minus(x, y):\n",
    "    return x-y"
   ]
  }
 ],
 "metadata": {
  "kernelspec": {
   "display_name": "Python 3",
   "language": "python",
   "name": "python3"
  },
  "language_info": {
   "codemirror_mode": {
    "name": "ipython",
    "version": 3
   },
   "file_extension": ".py",
   "mimetype": "text/x-python",
   "name": "python",
   "nbconvert_exporter": "python",
   "pygments_lexer": "ipython3",
   "version": "3.8.8"
  }
 },
 "nbformat": 4,
 "nbformat_minor": 5
}
