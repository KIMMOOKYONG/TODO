{
 "cells": [
  {
   "cell_type": "markdown",
   "id": "96e6fedc",
   "metadata": {},
   "source": [
    "### 클래스 기초"
   ]
  },
  {
   "cell_type": "code",
   "execution_count": null,
   "id": "c91848d5",
   "metadata": {},
   "outputs": [],
   "source": [
    "class Ourclass:\n",
    "    pass"
   ]
  },
  {
   "cell_type": "code",
   "execution_count": null,
   "id": "c4afed9c",
   "metadata": {},
   "outputs": [],
   "source": [
    "a = Ourclass()\n",
    "b = Ourclass()"
   ]
  },
  {
   "cell_type": "markdown",
   "id": "5d8a31f7",
   "metadata": {},
   "source": [
    "### 생성자와 속성"
   ]
  },
  {
   "cell_type": "code",
   "execution_count": null,
   "id": "3b6cbbe7",
   "metadata": {},
   "outputs": [],
   "source": [
    "class Stock: # 클래스 선언\n",
    "    def __init__(self, name, market = \"코스피\"): # 생성자\n",
    "        self.name = name                         # 속성 정의 1\n",
    "        self.market = market                     # 속성 정의 2\n",
    "\n",
    "samsung = Stock(\"삼성전자\", \"코스피\")            # 객체 생성\n",
    "print(samsung.name, samsung.market)"
   ]
  },
  {
   "cell_type": "code",
   "execution_count": null,
   "id": "846107aa",
   "metadata": {},
   "outputs": [],
   "source": [
    "samsung.name = \"현대자동차\"\n",
    "print(samsung.name)"
   ]
  },
  {
   "cell_type": "markdown",
   "id": "1578613f",
   "metadata": {},
   "source": [
    "### 메서드"
   ]
  },
  {
   "cell_type": "code",
   "execution_count": null,
   "id": "d9a3cab3",
   "metadata": {},
   "outputs": [],
   "source": [
    "class calculator:\n",
    "    def __init__(self, value): # 생성자\n",
    "        self.value = value\n",
    "    \n",
    "    def add_ver1(self, input_value): # 메서드 정의 1\n",
    "        self.value += input_value\n",
    "    \n",
    "    def add_ver2(self, input_value): # 메서드 정의 2\n",
    "        return self.value + input_value"
   ]
  },
  {
   "cell_type": "code",
   "execution_count": null,
   "id": "257fde9a",
   "metadata": {},
   "outputs": [],
   "source": [
    "a = calculator(10)\n",
    "b = calculator(10)\n",
    "\n",
    "print(a.add_ver1(5))\n",
    "print(b.add_ver2(5))\n",
    "\n",
    "print(a.value)\n",
    "print(b.value)"
   ]
  },
  {
   "cell_type": "code",
   "execution_count": null,
   "id": "65341ce7",
   "metadata": {},
   "outputs": [],
   "source": [
    "a = calculator(10)\n",
    "b = calculator(10)\n",
    "\n",
    "a.add_ver1(5)\n",
    "b.value = b.add_ver2(5)\n",
    "\n",
    "print(a.value)\n",
    "print(b.value)"
   ]
  }
 ],
 "metadata": {
  "kernelspec": {
   "display_name": "Python 3",
   "language": "python",
   "name": "python3"
  },
  "language_info": {
   "codemirror_mode": {
    "name": "ipython",
    "version": 3
   },
   "file_extension": ".py",
   "mimetype": "text/x-python",
   "name": "python",
   "nbconvert_exporter": "python",
   "pygments_lexer": "ipython3",
   "version": "3.8.8"
  }
 },
 "nbformat": 4,
 "nbformat_minor": 5
}
