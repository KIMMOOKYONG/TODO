{
 "cells": [
  {
   "cell_type": "markdown",
   "id": "d6ba81b5",
   "metadata": {},
   "source": [
    "### 모듈 임포트 및 함수 사용 방법"
   ]
  },
  {
   "cell_type": "markdown",
   "id": "1101d9e9",
   "metadata": {},
   "source": [
    "#### 사용 방법 1: import만 사용하기"
   ]
  },
  {
   "cell_type": "code",
   "execution_count": 1,
   "id": "93724368",
   "metadata": {},
   "outputs": [
    {
     "name": "stdout",
     "output_type": "stream",
     "text": [
      "2.0\n"
     ]
    }
   ],
   "source": [
    "import math # math 불러오기\n",
    "print(math.sqrt(4)) # math 내의 함수 sqrt 사용"
   ]
  },
  {
   "cell_type": "markdown",
   "id": "7c4eae57",
   "metadata": {},
   "source": [
    "#### 사용 방법 2: import와 as를 사용하기"
   ]
  },
  {
   "cell_type": "code",
   "execution_count": 2,
   "id": "61a3c638",
   "metadata": {},
   "outputs": [
    {
     "name": "stdout",
     "output_type": "stream",
     "text": [
      "2.0\n"
     ]
    }
   ],
   "source": [
    "import math as M # math를 M으로 불러오기\n",
    "print(M.sqrt(4)) # M 내의 함수 sqrt 사용"
   ]
  },
  {
   "cell_type": "markdown",
   "id": "53c926e8",
   "metadata": {},
   "source": [
    "#### 사용 방법 3: from을 사용하여 특정 함수 하나만 불러오기"
   ]
  },
  {
   "cell_type": "code",
   "execution_count": 3,
   "id": "3af29735",
   "metadata": {},
   "outputs": [
    {
     "name": "stdout",
     "output_type": "stream",
     "text": [
      "2.0\n"
     ]
    },
    {
     "ename": "NameError",
     "evalue": "name 'sin' is not defined",
     "output_type": "error",
     "traceback": [
      "\u001b[1;31m---------------------------------------------------------------------------\u001b[0m",
      "\u001b[1;31mNameError\u001b[0m                                 Traceback (most recent call last)",
      "\u001b[1;32m<ipython-input-3-bbc0de36c7b5>\u001b[0m in \u001b[0;36m<module>\u001b[1;34m\u001b[0m\n\u001b[0;32m      1\u001b[0m \u001b[1;32mfrom\u001b[0m \u001b[0mmath\u001b[0m \u001b[1;32mimport\u001b[0m \u001b[0msqrt\u001b[0m \u001b[1;31m# math 내의 sqrt 함수만 사용\u001b[0m\u001b[1;33m\u001b[0m\u001b[1;33m\u001b[0m\u001b[0m\n\u001b[0;32m      2\u001b[0m \u001b[0mprint\u001b[0m\u001b[1;33m(\u001b[0m\u001b[0msqrt\u001b[0m\u001b[1;33m(\u001b[0m\u001b[1;36m4\u001b[0m\u001b[1;33m)\u001b[0m\u001b[1;33m)\u001b[0m\u001b[1;33m\u001b[0m\u001b[1;33m\u001b[0m\u001b[0m\n\u001b[1;32m----> 3\u001b[1;33m \u001b[0mprint\u001b[0m\u001b[1;33m(\u001b[0m\u001b[0msin\u001b[0m\u001b[1;33m(\u001b[0m\u001b[1;36m0\u001b[0m\u001b[1;33m)\u001b[0m\u001b[1;33m)\u001b[0m\u001b[1;33m\u001b[0m\u001b[1;33m\u001b[0m\u001b[0m\n\u001b[0m",
      "\u001b[1;31mNameError\u001b[0m: name 'sin' is not defined"
     ]
    }
   ],
   "source": [
    "from math import sqrt # math 내의 sqrt 함수만 사용\n",
    "print(sqrt(4))\n",
    "print(sin(0))"
   ]
  },
  {
   "cell_type": "code",
   "execution_count": 4,
   "id": "d50a0c13",
   "metadata": {},
   "outputs": [
    {
     "name": "stdout",
     "output_type": "stream",
     "text": [
      "2.0\n",
      "0.0\n"
     ]
    }
   ],
   "source": [
    "from math import sqrt, sin # math 내의 sqrt와 sin 함수만 사용\n",
    "print(sqrt(4))\n",
    "print(sin(0))"
   ]
  },
  {
   "cell_type": "markdown",
   "id": "4b49b27a",
   "metadata": {},
   "source": [
    "#### 사용 방법 4: from을 사용하여 모든 함수 불러오기"
   ]
  },
  {
   "cell_type": "code",
   "execution_count": 5,
   "id": "83cbb884",
   "metadata": {},
   "outputs": [
    {
     "name": "stdout",
     "output_type": "stream",
     "text": [
      "2.0\n",
      "0.0\n"
     ]
    }
   ],
   "source": [
    "from math import *\n",
    "print(sqrt(4))\n",
    "print(sin(0))"
   ]
  },
  {
   "cell_type": "markdown",
   "id": "b2ebebef",
   "metadata": {},
   "source": [
    "### 패키지에 속한 모듈 불러오기"
   ]
  },
  {
   "cell_type": "code",
   "execution_count": 6,
   "id": "dc37094d",
   "metadata": {},
   "outputs": [
    {
     "data": {
      "text/plain": [
       "<function scipy.spatial.distance.cdist(XA, XB, metric='euclidean', *args, **kwargs)>"
      ]
     },
     "execution_count": 6,
     "metadata": {},
     "output_type": "execute_result"
    }
   ],
   "source": [
    "from scipy.spatial.distance import cdist\n",
    "cdist"
   ]
  },
  {
   "cell_type": "code",
   "execution_count": 7,
   "id": "59f19c02",
   "metadata": {},
   "outputs": [
    {
     "data": {
      "text/plain": [
       "<function scipy.spatial.distance.cdist(XA, XB, metric='euclidean', *args, **kwargs)>"
      ]
     },
     "execution_count": 7,
     "metadata": {},
     "output_type": "execute_result"
    }
   ],
   "source": [
    "from scipy.spatial import distance\n",
    "distance.cdist"
   ]
  },
  {
   "cell_type": "code",
   "execution_count": 8,
   "id": "4f0f4bb7",
   "metadata": {},
   "outputs": [
    {
     "data": {
      "text/plain": [
       "<function scipy.spatial.distance.cdist(XA, XB, metric='euclidean', *args, **kwargs)>"
      ]
     },
     "execution_count": 8,
     "metadata": {},
     "output_type": "execute_result"
    }
   ],
   "source": [
    "from scipy import spatial\n",
    "spatial.distance.cdist"
   ]
  },
  {
   "cell_type": "code",
   "execution_count": 9,
   "id": "f9c6be28",
   "metadata": {},
   "outputs": [
    {
     "data": {
      "text/plain": [
       "<function scipy.spatial.distance.cdist(XA, XB, metric='euclidean', *args, **kwargs)>"
      ]
     },
     "execution_count": 9,
     "metadata": {},
     "output_type": "execute_result"
    }
   ],
   "source": [
    "import scipy\n",
    "scipy.spatial.distance.cdist"
   ]
  }
 ],
 "metadata": {
  "kernelspec": {
   "display_name": "Python 3",
   "language": "python",
   "name": "python3"
  },
  "language_info": {
   "codemirror_mode": {
    "name": "ipython",
    "version": 3
   },
   "file_extension": ".py",
   "mimetype": "text/x-python",
   "name": "python",
   "nbconvert_exporter": "python",
   "pygments_lexer": "ipython3",
   "version": "3.8.8"
  }
 },
 "nbformat": 4,
 "nbformat_minor": 5
}
