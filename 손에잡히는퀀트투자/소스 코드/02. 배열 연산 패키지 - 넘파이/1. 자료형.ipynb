{
 "cells": [
  {
   "cell_type": "markdown",
   "id": "bd40ad95",
   "metadata": {},
   "source": [
    "### ndarray 생성"
   ]
  },
  {
   "cell_type": "markdown",
   "id": "fcbcdda3",
   "metadata": {},
   "source": [
    "#### array 함수"
   ]
  },
  {
   "cell_type": "code",
   "execution_count": null,
   "id": "b7abd6c7",
   "metadata": {},
   "outputs": [],
   "source": [
    "import numpy as np\n",
    "arr1 = np.array([1, 2, 3])   # int로만 구성\n",
    "arr2 = np.array([1, 2, 3.0]) # float 포함\n",
    "arr3 = np.array([1, 2, \"3\"]) # str 포함\n",
    "\n",
    "print(arr1, arr1.dtype)\n",
    "print(arr2, arr2.dtype)\n",
    "print(arr3, arr3.dtype)"
   ]
  },
  {
   "cell_type": "code",
   "execution_count": null,
   "id": "5dd50941",
   "metadata": {},
   "outputs": [],
   "source": [
    "arr1 = np.array([1, 2, 3])                             # 1차원\n",
    "arr2 = np.array([[1, 2, 3], [4, 5, 6]])                # 2차원\n",
    "arr3 = np.array([[[1, 2], [3, 4]], [[5, 6], [7, 8]]])  # 3차원\n",
    "\n",
    "print(arr1.shape)                                      # arr1의 모양 출력\n",
    "print(arr2.shape)\n",
    "print(arr3.shape)"
   ]
  },
  {
   "cell_type": "markdown",
   "id": "a33c0b7b",
   "metadata": {},
   "source": [
    "#### arange와 linspace 함수"
   ]
  },
  {
   "cell_type": "code",
   "execution_count": null,
   "id": "dc00aa61",
   "metadata": {},
   "outputs": [],
   "source": [
    "arr1 = np.arange(5)             # 0부터 5까지 1씩 증가\n",
    "arr2 = np.arange(-1, 4.5, 1.5) # -1부터 4.5까지 1.5씩 증가 \n",
    "arr3 = np.arange(10, 1, -1)    # 10부터 1까지 -1씩 증가\n",
    "arr4 = np.linspace(0, 1, 11)   # 0부터 1까지 등간격의 10개의 요소 생성\n",
    "\n",
    "print(\"np.arange(5):{}\".format(arr1))\n",
    "print(\"np.arange(-1, 4.5, 1.5):{}\".format(arr2))\n",
    "print(\"np.arange(10, 1, -1):{}\".format(arr3))\n",
    "print(\"np.linspace(0, 1, 10):{}\".format(arr4))"
   ]
  },
  {
   "cell_type": "markdown",
   "id": "44011d59",
   "metadata": {},
   "source": [
    "#### zeros 함수"
   ]
  },
  {
   "cell_type": "code",
   "execution_count": null,
   "id": "0f2cb09a",
   "metadata": {},
   "outputs": [],
   "source": [
    "arr1 = np.zeros(5)                     # 크기: 5\n",
    "arr2 = np.zeros((3, 2))                # 크기: (3, 2)\n",
    "arr3 = np.zeros((2, 2), dtype = bool)  # 크기 (2,2), 자료형: bool\n",
    "\n",
    "print(arr1)\n",
    "print(arr2)\n",
    "print(arr3)"
   ]
  },
  {
   "cell_type": "markdown",
   "id": "9c4901c1",
   "metadata": {},
   "source": [
    "#### random 모듈"
   ]
  },
  {
   "cell_type": "code",
   "execution_count": null,
   "id": "4e05a8ec",
   "metadata": {},
   "outputs": [],
   "source": [
    "arr1 = np.random.random(5)\n",
    "arr2 = np.random.random((2, 2))\n",
    "print(arr1)\n",
    "print(arr2)"
   ]
  },
  {
   "cell_type": "code",
   "execution_count": null,
   "id": "f2f59c20",
   "metadata": {},
   "outputs": [],
   "source": [
    "arr1 = np.random.normal(0, 1, 5)\n",
    "arr2 = np.random.normal(10, 3, (3, 3))\n",
    "print(arr1)\n",
    "print(arr2)"
   ]
  },
  {
   "cell_type": "markdown",
   "id": "ccc5e84b",
   "metadata": {},
   "source": [
    "### 배열 구조 변경: reshape 메서드"
   ]
  },
  {
   "cell_type": "code",
   "execution_count": null,
   "id": "60edd9fb",
   "metadata": {},
   "outputs": [],
   "source": [
    "arr1 = np.array([1, 2, 3, 4, 5, 6])\n",
    "arr2 = np.array([[1, 2, 3], [4, 5, 6]])\n",
    "\n",
    "print(arr1.reshape(3, 2))  #  (3, 2)로 구조 변경\n",
    "print(arr2.reshape(-1, 2)) # 열 개수를 2개로 구조 변경\n",
    "print(arr1.reshape(-1, 1)) # 열 개수를 1개로 구조 변경"
   ]
  },
  {
   "cell_type": "code",
   "execution_count": null,
   "id": "e5a12691",
   "metadata": {},
   "outputs": [],
   "source": [
    "arr2.reshape(4, 2)"
   ]
  }
 ],
 "metadata": {
  "kernelspec": {
   "display_name": "Python 3",
   "language": "python",
   "name": "python3"
  },
  "language_info": {
   "codemirror_mode": {
    "name": "ipython",
    "version": 3
   },
   "file_extension": ".py",
   "mimetype": "text/x-python",
   "name": "python",
   "nbconvert_exporter": "python",
   "pygments_lexer": "ipython3",
   "version": "3.8.8"
  }
 },
 "nbformat": 4,
 "nbformat_minor": 5
}
