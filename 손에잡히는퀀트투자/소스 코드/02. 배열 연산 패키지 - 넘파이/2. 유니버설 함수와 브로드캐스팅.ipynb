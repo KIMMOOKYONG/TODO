{
 "cells": [
  {
   "cell_type": "markdown",
   "id": "970c8acc",
   "metadata": {},
   "source": [
    "### 유니버설 함수"
   ]
  },
  {
   "cell_type": "markdown",
   "id": "957273ff",
   "metadata": {},
   "source": [
    "#### 반복문과의 속도 비교"
   ]
  },
  {
   "cell_type": "code",
   "execution_count": null,
   "id": "7c647a1f",
   "metadata": {},
   "outputs": [],
   "source": [
    "import numpy as np\n",
    "x1 = np.random.random(10 ** 6) # 크기 100만의 난수 배열 생성\n",
    "x2 = np.random.random(10 ** 6)"
   ]
  },
  {
   "cell_type": "code",
   "execution_count": null,
   "id": "5a69dbcb",
   "metadata": {},
   "outputs": [],
   "source": [
    "%%timeit\n",
    "s = x1 + x2"
   ]
  },
  {
   "cell_type": "code",
   "execution_count": null,
   "id": "08870c56",
   "metadata": {},
   "outputs": [],
   "source": [
    "%%timeit\n",
    "s = []\n",
    "for e1, e2 in zip(x1, x2):\n",
    "    s.append(e1 + e2)"
   ]
  },
  {
   "cell_type": "markdown",
   "id": "6529dd62",
   "metadata": {},
   "source": [
    "#### 배열 산술 연산"
   ]
  },
  {
   "cell_type": "code",
   "execution_count": null,
   "id": "7c74c9e8",
   "metadata": {},
   "outputs": [],
   "source": [
    "x = np.arange(4)\n",
    "y = np.linspace(1, 10, 4)\n",
    "print(\"x     =\", x)\n",
    "print(\"y     =\", y)\n",
    "print(\"x + 5 =\", x + 5)\n",
    "print(\"x + y =\", x + y)\n",
    "print(\"x - 5 =\", x - 5)\n",
    "print(\"x * 2 =\", x * 2)\n",
    "print(\"x * y =\", x * y)\n",
    "print(\"x / 2 =\", x / 2)\n",
    "print(\"-x     = \", -x)\n",
    "print(\"x ** 2 = \", x ** 2)\n",
    "print(\"x % 2  = \", x % 2)"
   ]
  },
  {
   "cell_type": "markdown",
   "id": "7f1aa610",
   "metadata": {},
   "source": [
    "#### 절댓값 연산"
   ]
  },
  {
   "cell_type": "code",
   "execution_count": null,
   "id": "523651aa",
   "metadata": {},
   "outputs": [],
   "source": [
    "x = np.array([-2, -1, 0, 1, 2])\n",
    "print(\"abs(x) =\", np.abs(x))"
   ]
  },
  {
   "cell_type": "markdown",
   "id": "8b98bc30",
   "metadata": {},
   "source": [
    "#### 지수 로그 연산"
   ]
  },
  {
   "cell_type": "code",
   "execution_count": null,
   "id": "9efc0c85",
   "metadata": {},
   "outputs": [],
   "source": [
    "x = np.array([1, 2, 3])\n",
    "print(\"x     =\", x)\n",
    "print(\"e^x   =\", np.exp(x))\n",
    "print(\"2^x   =\", np.exp2(x))\n",
    "print(\"3^x   =\", np.power(3, x))\n",
    "print(\"4^x   =\", np.power(4, x))\n",
    "print(\"ln(x) =\", np.log(x)) \n",
    "print(\"log2(x) =\", np.log2(x)) \n",
    "print(\"log10(x) =\", np.log10(x))"
   ]
  },
  {
   "cell_type": "markdown",
   "id": "85ee0c4b",
   "metadata": {},
   "source": [
    "#### 비교 연산"
   ]
  },
  {
   "cell_type": "code",
   "execution_count": null,
   "id": "fd6bd71b",
   "metadata": {},
   "outputs": [],
   "source": [
    "x = np.array([1,2,3])\n",
    "y = np.array([1,3,-2])\n",
    "\n",
    "print(\"x == y: \", x == y)\n",
    "print(\"x > y:\", x > y)\n",
    "print(\"x>=1:\", x>=1)"
   ]
  },
  {
   "cell_type": "code",
   "execution_count": null,
   "id": "84029a68",
   "metadata": {},
   "outputs": [],
   "source": [
    "print(sum(x >= 2))"
   ]
  },
  {
   "cell_type": "markdown",
   "id": "7d7b9f09",
   "metadata": {},
   "source": [
    "### 브로드캐스팅"
   ]
  },
  {
   "cell_type": "code",
   "execution_count": null,
   "id": "fb11e4c6",
   "metadata": {},
   "outputs": [],
   "source": [
    "x = np.arange(4)\n",
    "print(x + 4)"
   ]
  },
  {
   "cell_type": "code",
   "execution_count": null,
   "id": "9bf2bafd",
   "metadata": {},
   "outputs": [],
   "source": [
    "a = np.array([[1, 2], [3, 4]])\n",
    "b = np.array([-1, -2])\n",
    "print(a + b)"
   ]
  }
 ],
 "metadata": {
  "kernelspec": {
   "display_name": "Python 3",
   "language": "python",
   "name": "python3"
  },
  "language_info": {
   "codemirror_mode": {
    "name": "ipython",
    "version": 3
   },
   "file_extension": ".py",
   "mimetype": "text/x-python",
   "name": "python",
   "nbconvert_exporter": "python",
   "pygments_lexer": "ipython3",
   "version": "3.8.8"
  }
 },
 "nbformat": 4,
 "nbformat_minor": 5
}
