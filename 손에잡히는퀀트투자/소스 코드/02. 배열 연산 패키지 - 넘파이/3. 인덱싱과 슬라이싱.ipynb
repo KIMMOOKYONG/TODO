{
 "cells": [
  {
   "cell_type": "markdown",
   "id": "97ecc29b",
   "metadata": {},
   "source": [
    "### 기본 인덱싱과 슬라이싱"
   ]
  },
  {
   "cell_type": "code",
   "execution_count": null,
   "id": "b27e8787",
   "metadata": {},
   "outputs": [],
   "source": [
    "import numpy as np\n",
    "X = [[1, 2], [3, 4]]\n",
    "print(X[0][1])\n",
    "\n",
    "X = np.array(X)\n",
    "print(X[0, 1])"
   ]
  },
  {
   "cell_type": "markdown",
   "id": "ecb57bc3",
   "metadata": {},
   "source": [
    "### 리스트를 활용한 인덱싱과 슬라이싱"
   ]
  },
  {
   "cell_type": "code",
   "execution_count": null,
   "id": "9d68d8ae",
   "metadata": {},
   "outputs": [],
   "source": [
    "X = np.arange(1, 10)\n",
    "print(X[[0, 3]]) # 0번째 요소와 3번째 요소 인덱싱"
   ]
  },
  {
   "cell_type": "code",
   "execution_count": null,
   "id": "5149ee58",
   "metadata": {},
   "outputs": [],
   "source": [
    "X = np.array([[1, 2], [3, 4], [5, 6]])\n",
    "print(X[0, 1])   # 0행 1열에 있는 값 출력\n",
    "print(X[[0, 1]]) # 0번째 요소, 1번째 요소 출력"
   ]
  },
  {
   "cell_type": "code",
   "execution_count": null,
   "id": "d75b2e1e",
   "metadata": {},
   "outputs": [],
   "source": [
    "X = np.arange(20).reshape(4, 5)\n",
    "print(X[1, [1,-1]])      # 1번째 행의 1번째 열과 -1번째 열 인덱싱\n",
    "print(X[0, 0:3])         # 0번째 행의 0번째 열부터 3번째 열까지 슬라이싱\n",
    "print(X[[0, 1], [2, 3]]) # (0, 2), (1, 3) 셀 인덱싱"
   ]
  },
  {
   "cell_type": "markdown",
   "id": "7c44329b",
   "metadata": {},
   "source": [
    "### 부울 배열을 활용한 인덱싱과 슬라이싱"
   ]
  },
  {
   "cell_type": "code",
   "execution_count": null,
   "id": "d0da3246",
   "metadata": {},
   "outputs": [],
   "source": [
    "x = np.array([1,2,3,4,5])\n",
    "b = [True, False, True, True, False]\n",
    "print(x[b])"
   ]
  },
  {
   "cell_type": "code",
   "execution_count": null,
   "id": "3fb3c97b",
   "metadata": {},
   "outputs": [],
   "source": [
    "x = np.array([1,2,3,4,5])\n",
    "cond = x >= 3\n",
    "print(cond)\n",
    "print(x[cond])"
   ]
  },
  {
   "cell_type": "code",
   "execution_count": null,
   "id": "49c27627",
   "metadata": {},
   "outputs": [],
   "source": [
    "print(x[x>=3])"
   ]
  }
 ],
 "metadata": {
  "kernelspec": {
   "display_name": "Python 3",
   "language": "python",
   "name": "python3"
  },
  "language_info": {
   "codemirror_mode": {
    "name": "ipython",
    "version": 3
   },
   "file_extension": ".py",
   "mimetype": "text/x-python",
   "name": "python",
   "nbconvert_exporter": "python",
   "pygments_lexer": "ipython3",
   "version": "3.8.8"
  }
 },
 "nbformat": 4,
 "nbformat_minor": 5
}
