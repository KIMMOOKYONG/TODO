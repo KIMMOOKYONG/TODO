{
 "cells": [
  {
   "cell_type": "code",
   "execution_count": 1,
   "id": "d1175595",
   "metadata": {},
   "outputs": [
    {
     "data": {
      "text/plain": [
       "array([[ 0,  1,  2],\n",
       "       [ 3,  4,  5],\n",
       "       [ 6,  7,  8],\n",
       "       [ 9, 10, 11],\n",
       "       [12, 13, 14]])"
      ]
     },
     "metadata": {},
     "output_type": "display_data"
    }
   ],
   "source": [
    "import numpy as np\n",
    "x = np.arange(15).reshape(5, 3)\n",
    "display(x)"
   ]
  },
  {
   "cell_type": "markdown",
   "id": "31ee8ea8",
   "metadata": {},
   "source": [
    "### 합계 함수와 axis 키워드"
   ]
  },
  {
   "cell_type": "code",
   "execution_count": 2,
   "id": "727134cd",
   "metadata": {},
   "outputs": [
    {
     "name": "stdout",
     "output_type": "stream",
     "text": [
      "105\n",
      "105\n"
     ]
    }
   ],
   "source": [
    "print(np.sum(x))\n",
    "print(x.sum())"
   ]
  },
  {
   "cell_type": "code",
   "execution_count": 3,
   "id": "962fdaa6",
   "metadata": {},
   "outputs": [
    {
     "name": "stdout",
     "output_type": "stream",
     "text": [
      "[30 35 40]\n",
      "[30 35 40]\n",
      "[ 3 12 21 30 39]\n",
      "[ 3 12 21 30 39]\n"
     ]
    }
   ],
   "source": [
    "# 행 방향 계산\n",
    "print(np.sum(x, axis = 0))\n",
    "print(x.sum(axis = 0))\n",
    "\n",
    "# 열 방향 계산\n",
    "print(np.sum(x, axis = 1))\n",
    "print(x.sum(axis = 1))"
   ]
  },
  {
   "cell_type": "markdown",
   "id": "70c3d805",
   "metadata": {},
   "source": [
    "### 자주 사용하는 집계 함수"
   ]
  },
  {
   "cell_type": "code",
   "execution_count": 4,
   "id": "a8536bed",
   "metadata": {},
   "outputs": [
    {
     "name": "stdout",
     "output_type": "stream",
     "text": [
      "열별 합계: [30 35 40]\n",
      "전체 합계: 105\n",
      "행별 최솟값: [ 0  3  6  9 12]\n",
      "행 방향 최솟값: [0 1 2]\n",
      "전체 최댓값: 14\n",
      "열별 표준편차: [4.24264069 4.24264069 4.24264069]\n",
      "전체 중위수: 7.0\n",
      "전체 상위 20%: 2.8000000000000003\n",
      "유니크한 값 목록: [ 0  1  2  3  4  5  6  7  8  9 10 11 12 13 14]\n"
     ]
    }
   ],
   "source": [
    "print(\"열별 합계: {}\".format(np.sum(x, axis = 0)))\n",
    "print(\"전체 합계: {}\".format(np.sum(x)))\n",
    "print(\"행별 최솟값: {}\".format(x.min(axis = 1)))\n",
    "print(\"행 방향 최솟값: {}\".format(x.min(axis = 0)))\n",
    "print(\"전체 최댓값: {}\".format(x.max()))\n",
    "print(\"열별 표준편차: {}\".format(np.std(x, axis = 0)))\n",
    "print(\"전체 중위수: {}\".format(np.median(x)))\n",
    "print(\"전체 상위 20%: {}\".format(np.quantile(x, 0.2)))\n",
    "print(\"유니크한 값 목록: {}\".format(np.unique(x)))"
   ]
  }
 ],
 "metadata": {
  "kernelspec": {
   "display_name": "Python 3",
   "language": "python",
   "name": "python3"
  },
  "language_info": {
   "codemirror_mode": {
    "name": "ipython",
    "version": 3
   },
   "file_extension": ".py",
   "mimetype": "text/x-python",
   "name": "python",
   "nbconvert_exporter": "python",
   "pygments_lexer": "ipython3",
   "version": "3.8.8"
  }
 },
 "nbformat": 4,
 "nbformat_minor": 5
}
