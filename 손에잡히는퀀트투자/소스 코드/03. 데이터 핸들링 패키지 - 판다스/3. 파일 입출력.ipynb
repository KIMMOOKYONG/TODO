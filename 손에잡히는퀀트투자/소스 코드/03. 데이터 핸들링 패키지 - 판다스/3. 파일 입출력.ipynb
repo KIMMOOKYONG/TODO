{
 "cells": [
  {
   "cell_type": "markdown",
   "id": "0940a494",
   "metadata": {},
   "source": [
    "### 경로 설정 방법"
   ]
  },
  {
   "cell_type": "markdown",
   "id": "a4b610e4",
   "metadata": {},
   "source": [
    "#### 파일 경로 설정을 통한 파일 불러오기"
   ]
  },
  {
   "cell_type": "code",
   "execution_count": null,
   "id": "a65901d6",
   "metadata": {},
   "outputs": [],
   "source": [
    "import pandas as pd\n",
    "path = r\"C:\\Users\\<사용자명>\\Desktop\\my_quant\\데이터\\판다스\\base_sample.csv\"\n",
    "df = pd.read_csv(path)\n",
    "display(df)"
   ]
  },
  {
   "cell_type": "markdown",
   "id": "cf65cd60",
   "metadata": {},
   "source": [
    "#### 기본 경로 설정을 통한 파일 불러오기"
   ]
  },
  {
   "cell_type": "code",
   "execution_count": null,
   "id": "30588ae8",
   "metadata": {},
   "outputs": [],
   "source": [
    "import os\n",
    "os.chdir(r\"C:\\Users\\<사용자명>\\Desktop\\my_quant\\데이터\\판다스\")\n",
    "df = pd.read_csv(\"base_sample.csv\")"
   ]
  },
  {
   "cell_type": "markdown",
   "id": "d7287e2b",
   "metadata": {},
   "source": [
    "#### 상대 경로를 통한 파일 불러오기"
   ]
  },
  {
   "cell_type": "code",
   "execution_count": null,
   "id": "169909e0",
   "metadata": {},
   "outputs": [],
   "source": [
    "os.chdir(r\"C:\\Users\\<사용자명>\\Desktop\\my_quant\\소스 코드\\03. 데이터 핸들링 패키지 - 판다스\")"
   ]
  },
  {
   "cell_type": "code",
   "execution_count": null,
   "id": "dae3c320",
   "metadata": {},
   "outputs": [],
   "source": [
    "print(os.getcwd())"
   ]
  },
  {
   "cell_type": "code",
   "execution_count": null,
   "id": "7613e89c",
   "metadata": {},
   "outputs": [],
   "source": [
    "os.chdir(\"..\") # 상위 폴더로 이동\n",
    "print(os.getcwd())"
   ]
  },
  {
   "cell_type": "code",
   "execution_count": null,
   "id": "41e6a3b3",
   "metadata": {},
   "outputs": [],
   "source": [
    "os.chdir(\"03. 데이터 핸들링 패키지 - 판다스\")\n",
    "print(os.getcwd())"
   ]
  },
  {
   "cell_type": "code",
   "execution_count": null,
   "id": "dbfedf3f",
   "metadata": {},
   "outputs": [],
   "source": [
    "df = pd.read_csv(\"../../데이터/판다스/base_sample.csv\")"
   ]
  },
  {
   "cell_type": "markdown",
   "id": "2173b4c7",
   "metadata": {},
   "source": [
    "### 인코딩 설정: encoding"
   ]
  },
  {
   "cell_type": "code",
   "execution_count": null,
   "id": "c56695e6",
   "metadata": {},
   "outputs": [],
   "source": [
    "df = pd.read_csv(\"../../데이터/판다스/한글_샘플.csv\") # 인코딩 미설정\n",
    "display(df)"
   ]
  },
  {
   "cell_type": "code",
   "execution_count": null,
   "id": "b43aad28",
   "metadata": {},
   "outputs": [],
   "source": [
    "df = pd.read_csv(\"../../데이터/판다스/한글_샘플.csv\", encoding = \"euc-kr\") # 인코딩 설정\n",
    "display(df)"
   ]
  },
  {
   "cell_type": "markdown",
   "id": "5c88eb57",
   "metadata": {},
   "source": [
    "### 날짜 자료형 컬럼 설정: parse_dates"
   ]
  },
  {
   "cell_type": "code",
   "execution_count": null,
   "id": "9ba80d1d",
   "metadata": {},
   "outputs": [],
   "source": [
    "df1 = pd.read_csv(\"../../데이터/판다스/날짜_샘플.csv\")\n",
    "df2 = pd.read_csv(\"../../데이터/판다스/날짜_샘플.csv\", parse_dates = [\"Date\"])\n",
    "display(df1[\"Date\"].head())\n",
    "display(df2[\"Date\"].head())"
   ]
  },
  {
   "cell_type": "markdown",
   "id": "fe25e6c4",
   "metadata": {},
   "source": [
    "### 불러올 컬럼 지정: usecols"
   ]
  },
  {
   "cell_type": "code",
   "execution_count": null,
   "id": "89d56981",
   "metadata": {},
   "outputs": [],
   "source": [
    "df1 = pd.read_csv(\"../../데이터/판다스/변수10개_샘플.csv\")\n",
    "df2 = pd.read_csv(\"../../데이터/판다스/변수10개_샘플.csv\", usecols = [\"A\", \"B\", \"C\"])\n",
    "display(df1.columns)\n",
    "display(df2.columns)"
   ]
  },
  {
   "cell_type": "markdown",
   "id": "246d5c6f",
   "metadata": {},
   "source": [
    "### 구분자 설정: sep"
   ]
  },
  {
   "cell_type": "code",
   "execution_count": null,
   "id": "415abc89",
   "metadata": {},
   "outputs": [],
   "source": [
    "df1 = pd.read_csv(\"../../데이터/판다스/tsv_샘플.txt\")\n",
    "df2 = pd.read_csv(\"../../데이터/판다스/tsv_샘플.txt\", sep = \"\t\")\n",
    "display(df1.head(2))\n",
    "display(df2.head(2))"
   ]
  }
 ],
 "metadata": {
  "kernelspec": {
   "display_name": "Python 3",
   "language": "python",
   "name": "python3"
  },
  "language_info": {
   "codemirror_mode": {
    "name": "ipython",
    "version": 3
   },
   "file_extension": ".py",
   "mimetype": "text/x-python",
   "name": "python",
   "nbconvert_exporter": "python",
   "pygments_lexer": "ipython3",
   "version": "3.8.8"
  }
 },
 "nbformat": 4,
 "nbformat_minor": 5
}
