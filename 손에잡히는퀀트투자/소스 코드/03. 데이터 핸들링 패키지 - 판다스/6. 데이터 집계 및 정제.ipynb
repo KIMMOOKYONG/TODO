{
 "cells": [
  {
   "cell_type": "code",
   "execution_count": null,
   "id": "8776ef48",
   "metadata": {},
   "outputs": [],
   "source": [
    "import pandas as pd\n",
    "df = pd.read_csv(\"../../데이터/판다스/재무제표샘플데이터.csv\", encoding = \"euc-kr\")"
   ]
  },
  {
   "cell_type": "markdown",
   "id": "82108966",
   "metadata": {},
   "source": [
    "### 데이터 확인"
   ]
  },
  {
   "cell_type": "markdown",
   "id": "a5f1816a",
   "metadata": {},
   "source": [
    "#### head와 tail 메서드"
   ]
  },
  {
   "cell_type": "code",
   "execution_count": null,
   "id": "72cb0c15",
   "metadata": {},
   "outputs": [],
   "source": [
    "display(df.head(5))\n",
    "display(df.tail(5))"
   ]
  },
  {
   "cell_type": "markdown",
   "id": "fd7e7e8e",
   "metadata": {},
   "source": [
    "#### shape 속성"
   ]
  },
  {
   "cell_type": "code",
   "execution_count": null,
   "id": "7c5b2e0a",
   "metadata": {},
   "outputs": [],
   "source": [
    "print(df.shape)"
   ]
  },
  {
   "cell_type": "markdown",
   "id": "e84f1ed2",
   "metadata": {},
   "source": [
    "#### index와 columns 속성"
   ]
  },
  {
   "cell_type": "code",
   "execution_count": null,
   "id": "fded7837",
   "metadata": {
    "scrolled": true
   },
   "outputs": [],
   "source": [
    "print(df.index)\n",
    "print(df.columns)"
   ]
  },
  {
   "cell_type": "markdown",
   "id": "46dd24cf",
   "metadata": {},
   "source": [
    "### 변수 분포 확인"
   ]
  },
  {
   "cell_type": "markdown",
   "id": "0f5b8493",
   "metadata": {},
   "source": [
    "#### value_counts 메서드"
   ]
  },
  {
   "cell_type": "code",
   "execution_count": null,
   "id": "337b6218",
   "metadata": {},
   "outputs": [],
   "source": [
    "df[\"부채비율>50\"] = df[\"부채비율\"] > 50\n",
    "display(df[\"부채비율>50\"].value_counts())"
   ]
  },
  {
   "cell_type": "code",
   "execution_count": null,
   "id": "c7bfb614",
   "metadata": {},
   "outputs": [],
   "source": [
    "display(df[\"부채비율>50\"].value_counts(normalize = True))"
   ]
  },
  {
   "cell_type": "code",
   "execution_count": null,
   "id": "08ee0877",
   "metadata": {},
   "outputs": [],
   "source": [
    "result = df[\"부채비율>50\"].value_counts()\n",
    "print(result.index[0], result.iloc[0])"
   ]
  },
  {
   "cell_type": "code",
   "execution_count": null,
   "id": "b2c4c2bc",
   "metadata": {},
   "outputs": [],
   "source": [
    "display(df[\"부채비율>50\"].value_counts(normalize = True).plot(kind = \"bar\"))"
   ]
  },
  {
   "cell_type": "code",
   "execution_count": null,
   "id": "fc6f7b39",
   "metadata": {},
   "outputs": [],
   "source": [
    "display(df[\"부채비율>50\"].value_counts(normalize = True).plot(kind = \"pie\"))"
   ]
  },
  {
   "cell_type": "markdown",
   "id": "4d4dc265",
   "metadata": {},
   "source": [
    "### 데이터 통계량 확인"
   ]
  },
  {
   "cell_type": "markdown",
   "id": "86a34e2e",
   "metadata": {},
   "source": [
    "#### describe 메서드"
   ]
  },
  {
   "cell_type": "code",
   "execution_count": null,
   "id": "a2839ab9",
   "metadata": {},
   "outputs": [],
   "source": [
    "display(df.describe())"
   ]
  },
  {
   "cell_type": "code",
   "execution_count": null,
   "id": "cb895ab3",
   "metadata": {},
   "outputs": [],
   "source": [
    "display(df.mean())"
   ]
  },
  {
   "cell_type": "code",
   "execution_count": null,
   "id": "2492cf71",
   "metadata": {},
   "outputs": [],
   "source": [
    "display(df.max())"
   ]
  },
  {
   "cell_type": "markdown",
   "id": "4e3e876b",
   "metadata": {},
   "source": [
    "#### quantile 메서드"
   ]
  },
  {
   "cell_type": "code",
   "execution_count": null,
   "id": "ab436bcf",
   "metadata": {},
   "outputs": [],
   "source": [
    "df[['매출액', '영업이익', '당기순이익']].quantile(0.7)"
   ]
  },
  {
   "cell_type": "code",
   "execution_count": null,
   "id": "d3650c85",
   "metadata": {},
   "outputs": [],
   "source": [
    "display(df.quantile(0.7))"
   ]
  },
  {
   "cell_type": "markdown",
   "id": "d098fbf0",
   "metadata": {},
   "source": [
    "### 조건부 연산: groupby 메서드"
   ]
  },
  {
   "cell_type": "code",
   "execution_count": null,
   "id": "a20934bf",
   "metadata": {},
   "outputs": [],
   "source": [
    "display(df.groupby(\"기업\")[\"영업이익\"].max())"
   ]
  },
  {
   "cell_type": "code",
   "execution_count": null,
   "id": "35a41800",
   "metadata": {},
   "outputs": [],
   "source": [
    "result = df.groupby([\"연도\", \"부채비율>50\"])[\"영업이익\"].max()\n",
    "display(result) "
   ]
  },
  {
   "cell_type": "code",
   "execution_count": null,
   "id": "7f7ddb6d",
   "metadata": {},
   "outputs": [],
   "source": [
    "display(result.index)"
   ]
  },
  {
   "cell_type": "markdown",
   "id": "c7ce0fb4",
   "metadata": {},
   "source": [
    "#### as_index 인자"
   ]
  },
  {
   "cell_type": "code",
   "execution_count": null,
   "id": "baeebf92",
   "metadata": {},
   "outputs": [],
   "source": [
    "display(df.groupby([\"연도\", \"부채비율>50\"], as_index = False)[\"영업이익\"].max())"
   ]
  },
  {
   "cell_type": "markdown",
   "id": "ba472ed2",
   "metadata": {},
   "source": [
    "#### agg 메서드"
   ]
  },
  {
   "cell_type": "code",
   "execution_count": null,
   "id": "9f6c7a39",
   "metadata": {},
   "outputs": [],
   "source": [
    "import numpy as np\n",
    "result = df.groupby(\"기업\", as_index = False)[[\"영업이익\", \"매출액\"]].agg([max, min, np.mean])\n",
    "display(result)"
   ]
  },
  {
   "cell_type": "code",
   "execution_count": null,
   "id": "086e001e",
   "metadata": {},
   "outputs": [],
   "source": [
    "result = df.groupby(\"기업\", as_index = False)[[\"영업이익\", \"매출액\"]].agg({\"영업이익\":[max, min], \"매출액\":[np.mean]})\n",
    "display(result)"
   ]
  },
  {
   "cell_type": "markdown",
   "id": "8bd1b032",
   "metadata": {},
   "source": [
    "### 결측 처리"
   ]
  },
  {
   "cell_type": "markdown",
   "id": "9c781b28",
   "metadata": {},
   "source": [
    "#### 결측 생성"
   ]
  },
  {
   "cell_type": "code",
   "execution_count": null,
   "id": "61b2441a",
   "metadata": {
    "scrolled": true
   },
   "outputs": [],
   "source": [
    "import numpy as np\n",
    "np_nan_value = np.nan\n",
    "float_nan_value = float('nan')\n",
    "print(type(np_nan_value), np_nan_value)\n",
    "print(type(float_nan_value), float_nan_value)"
   ]
  },
  {
   "cell_type": "markdown",
   "id": "07ca9728",
   "metadata": {},
   "source": [
    "#### 결측 판단: isnull과 notnull 메서드"
   ]
  },
  {
   "cell_type": "code",
   "execution_count": null,
   "id": "b67f445b",
   "metadata": {},
   "outputs": [],
   "source": [
    "s_df = df.iloc[4:8, 2:6]\n",
    "display(s_df)\n",
    "display(s_df.isnull())\n",
    "display(s_df.notnull())"
   ]
  },
  {
   "cell_type": "code",
   "execution_count": null,
   "id": "7b4516ad",
   "metadata": {},
   "outputs": [],
   "source": [
    "display(df.isnull().sum(axis = 0))"
   ]
  },
  {
   "cell_type": "markdown",
   "id": "b12a55e4",
   "metadata": {},
   "source": [
    "#### 결측 제거: dropna 메서드"
   ]
  },
  {
   "cell_type": "code",
   "execution_count": null,
   "id": "20b2a685",
   "metadata": {
    "scrolled": true
   },
   "outputs": [],
   "source": [
    "display(df.dropna().shape)"
   ]
  },
  {
   "cell_type": "code",
   "execution_count": null,
   "id": "760417ee",
   "metadata": {},
   "outputs": [],
   "source": [
    "display(s_df.fillna(0))"
   ]
  },
  {
   "cell_type": "code",
   "execution_count": null,
   "id": "3ad4d600",
   "metadata": {},
   "outputs": [],
   "source": [
    "display(s_df.fillna(method = \"ffill\"))"
   ]
  },
  {
   "cell_type": "markdown",
   "id": "89312e3d",
   "metadata": {},
   "source": [
    "### 중복 처리"
   ]
  },
  {
   "cell_type": "markdown",
   "id": "ce4d8031",
   "metadata": {},
   "source": [
    "#### drop_duplicates 메서드"
   ]
  },
  {
   "cell_type": "code",
   "execution_count": null,
   "id": "3ff176c7",
   "metadata": {
    "scrolled": true
   },
   "outputs": [],
   "source": [
    "display(df.drop_duplicates([\"기업\"], keep = \"first\"))"
   ]
  },
  {
   "cell_type": "markdown",
   "id": "8a757146",
   "metadata": {},
   "source": [
    "#### unique 메서드"
   ]
  },
  {
   "cell_type": "code",
   "execution_count": null,
   "id": "83dda951",
   "metadata": {},
   "outputs": [],
   "source": [
    "display(df[\"기업\"].unique())"
   ]
  },
  {
   "cell_type": "markdown",
   "id": "fd28755c",
   "metadata": {},
   "source": [
    "### 데이터 정렬"
   ]
  },
  {
   "cell_type": "code",
   "execution_count": null,
   "id": "acd08737",
   "metadata": {},
   "outputs": [],
   "source": [
    "display(df.sort_values([\"영업이익\", \"당기순이익\"], ascending = False).head(10))"
   ]
  }
 ],
 "metadata": {
  "kernelspec": {
   "display_name": "Python 3",
   "language": "python",
   "name": "python3"
  },
  "language_info": {
   "codemirror_mode": {
    "name": "ipython",
    "version": 3
   },
   "file_extension": ".py",
   "mimetype": "text/x-python",
   "name": "python",
   "nbconvert_exporter": "python",
   "pygments_lexer": "ipython3",
   "version": "3.8.8"
  }
 },
 "nbformat": 4,
 "nbformat_minor": 5
}
