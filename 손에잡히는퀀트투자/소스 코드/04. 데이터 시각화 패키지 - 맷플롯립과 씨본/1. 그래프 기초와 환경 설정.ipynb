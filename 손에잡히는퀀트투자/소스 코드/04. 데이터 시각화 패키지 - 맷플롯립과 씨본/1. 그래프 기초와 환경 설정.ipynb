{
 "cells": [
  {
   "cell_type": "code",
   "execution_count": null,
   "id": "3f76485c",
   "metadata": {},
   "outputs": [],
   "source": [
    "def ff(x):\n",
    "    import re\n",
    "    x = x.replace('“', '\"')\n",
    "    x = x.replace('”', '\"')\n",
    "    depth_list = []\n",
    "    for a in x.split('\\n'):\n",
    "        try:\n",
    "            idx = re.search('\\d+', a).span()[1]\n",
    "            r = a[idx+1:]\n",
    "            d = re.search(\"\\S+\", r).span()[0]\n",
    "            if d == 3:\n",
    "                r = r.replace(' ' * 3, ' ' * 4)\n",
    "            elif d == 7:\n",
    "                r = r.replace(' ' * 7, ' ' * 8)\n",
    "            elif d == 11:\n",
    "                r = r.replace(' ' * 9, ' ' * 11)\n",
    "            print(r)\n",
    "        except:\n",
    "            print()"
   ]
  },
  {
   "cell_type": "markdown",
   "id": "00cba8bd",
   "metadata": {},
   "source": [
    "### 그래프 기초"
   ]
  },
  {
   "cell_type": "code",
   "execution_count": null,
   "id": "d42f9ef3",
   "metadata": {},
   "outputs": [],
   "source": [
    "from matplotlib import pyplot as plt\n",
    "plt.scatter([1,2,3], [4,5,6])\n",
    "plt.show()"
   ]
  },
  {
   "cell_type": "code",
   "execution_count": null,
   "id": "cffb4655",
   "metadata": {},
   "outputs": [],
   "source": [
    "plt.scatter([1,2,3], [4,5,6])\n",
    "plt.scatter([1.5, 2.5], [3.5, 5.5])\n",
    "plt.show()"
   ]
  },
  {
   "cell_type": "markdown",
   "id": "da262d31",
   "metadata": {},
   "source": [
    "### 매직 키워드 설정"
   ]
  },
  {
   "cell_type": "code",
   "execution_count": null,
   "id": "f49c5279",
   "metadata": {},
   "outputs": [],
   "source": [
    "%matplotlib inline"
   ]
  },
  {
   "cell_type": "code",
   "execution_count": null,
   "id": "898d05b5",
   "metadata": {},
   "outputs": [],
   "source": [
    "plt.scatter([1,2,3], [4,5,6])"
   ]
  },
  {
   "cell_type": "markdown",
   "id": "ac7ad44e",
   "metadata": {},
   "source": [
    "### 그래프 제목 및 축 이름 설정"
   ]
  },
  {
   "cell_type": "code",
   "execution_count": null,
   "id": "7efc8424",
   "metadata": {},
   "outputs": [],
   "source": [
    "plt.scatter([1,2,3], [4,5,6])\n",
    "plt.title(\"example\") # 제목 설정\n",
    "plt.xlabel(\"x axis\") # x축 이름 설정\n",
    "plt.ylabel(\"y axis\") # y축 이름 설정"
   ]
  },
  {
   "cell_type": "code",
   "execution_count": null,
   "id": "845c7b35",
   "metadata": {},
   "outputs": [],
   "source": [
    "plt.xlabel(\"x axis\")\n",
    "plt.ylabel(\"y axis\")\n",
    "plt.scatter([1,2,3], [4,5,6])\n",
    "plt.title(\"예제\") # 한글 포함"
   ]
  },
  {
   "cell_type": "markdown",
   "id": "24235e47",
   "metadata": {},
   "source": [
    "### 폰트 설정"
   ]
  },
  {
   "cell_type": "code",
   "execution_count": null,
   "id": "5251482f",
   "metadata": {},
   "outputs": [],
   "source": [
    "import matplotlib.font_manager\n",
    "fpaths = matplotlib.font_manager.findSystemFonts()\n",
    "font_names = []\n",
    "for i in fpaths:\n",
    "    f = matplotlib.font_manager.get_font(i)\n",
    "    font_names.append(f.family_name)\n",
    "\n",
    "print(font_names[:10])"
   ]
  },
  {
   "cell_type": "code",
   "execution_count": null,
   "id": "cbe1dc67",
   "metadata": {},
   "outputs": [],
   "source": [
    "for fn in font_names:\n",
    "    if 'malgun' in fn.lower():\n",
    "        print(fn)"
   ]
  },
  {
   "cell_type": "code",
   "execution_count": null,
   "id": "8a8c4ea2",
   "metadata": {},
   "outputs": [],
   "source": [
    "from matplotlib import rcParams\n",
    "rcParams[\"font.family\"] = \"Malgun Gothic\""
   ]
  },
  {
   "cell_type": "code",
   "execution_count": null,
   "id": "490d80d9",
   "metadata": {},
   "outputs": [],
   "source": [
    "rcParams[\"axes.unicode_minus\"] = False"
   ]
  },
  {
   "cell_type": "code",
   "execution_count": null,
   "id": "b3e8f947",
   "metadata": {},
   "outputs": [],
   "source": [
    "plt.xlabel(\"x axis\")\n",
    "plt.ylabel(\"y axis\")\n",
    "plt.scatter([1,2,3], [4,5,6])\n",
    "plt.title(\"예제\") # 한글 포함"
   ]
  },
  {
   "cell_type": "markdown",
   "id": "a8d36f91",
   "metadata": {},
   "source": [
    "### 축 범위 설정"
   ]
  },
  {
   "cell_type": "code",
   "execution_count": null,
   "id": "f5241f5f",
   "metadata": {},
   "outputs": [],
   "source": [
    "plt.scatter([1,2,3], [4,5,6])\n",
    "plt.xlim(0, 4)\n",
    "plt.ylim(3, 7)"
   ]
  },
  {
   "cell_type": "code",
   "execution_count": null,
   "id": "a3a23878",
   "metadata": {},
   "outputs": [],
   "source": [
    "plt.scatter([1,2,3], [4,5,6])\n",
    "plt.xlim(left = 0.5)\n",
    "plt.ylim(top = 7)"
   ]
  },
  {
   "cell_type": "markdown",
   "id": "8fe42de8",
   "metadata": {},
   "source": [
    "### 눈금 값 설정"
   ]
  },
  {
   "cell_type": "code",
   "execution_count": null,
   "id": "b6c53f8b",
   "metadata": {},
   "outputs": [],
   "source": [
    "plt.scatter([1,2,3], [4,5,6])\n",
    "plt.xticks([1,2,3], [\"A\",\"B\",\"C\"])"
   ]
  },
  {
   "cell_type": "markdown",
   "id": "c2e4fc09",
   "metadata": {},
   "source": [
    "### 범례 설정"
   ]
  },
  {
   "cell_type": "code",
   "execution_count": null,
   "id": "bf7c49ac",
   "metadata": {},
   "outputs": [],
   "source": [
    "plt.scatter([1, 1, 1], [1,2,3], label = \"x=1\") # 그래프 라벨 설정\n",
    "plt.scatter([-1,-1,-1], [1,2,3], label = \"x=-1\") # 그래프 라벨 설정\n",
    "plt.legend() # 라벨 출력"
   ]
  },
  {
   "cell_type": "code",
   "execution_count": null,
   "id": "a3ed8119",
   "metadata": {},
   "outputs": [],
   "source": [
    "plt.scatter([1, 1, 1], [1,2,3], label = \"x=1\")\n",
    "plt.scatter([-1,-1,-1], [1,2,3], label = \"x=-1\")\n",
    "plt.legend(loc = \"upper center\")"
   ]
  },
  {
   "cell_type": "markdown",
   "id": "849f9a56",
   "metadata": {},
   "source": [
    "### 그래프 크기 및 스타일 설정"
   ]
  },
  {
   "cell_type": "code",
   "execution_count": null,
   "id": "1120b3e8",
   "metadata": {},
   "outputs": [],
   "source": [
    "plt.figure(figsize = (5, 3)) # 크기 (5, 3)으로 그래프 생성\n",
    "plt.scatter([1,2,3], [4,5,6])"
   ]
  },
  {
   "cell_type": "code",
   "execution_count": null,
   "id": "95d67147",
   "metadata": {},
   "outputs": [],
   "source": [
    "import seaborn as sns\n",
    "sns.set() # 기본값 (style = \"darkgrid\")\n",
    "plt.scatter([1,2,3], [4,5,6])"
   ]
  },
  {
   "cell_type": "code",
   "execution_count": null,
   "id": "6039d536",
   "metadata": {},
   "outputs": [],
   "source": [
    "sns.set(style = \"whitegrid\")\n",
    "plt.scatter([1,2,3], [4,5,6])"
   ]
  },
  {
   "cell_type": "markdown",
   "id": "279b016e",
   "metadata": {},
   "source": [
    "### 그래프 저장"
   ]
  },
  {
   "cell_type": "code",
   "execution_count": null,
   "id": "bb5db17c",
   "metadata": {},
   "outputs": [],
   "source": [
    "plt.scatter([1,2,3], [4,5,6])\n",
    "plt.savefig(\"sample_graph.png\", dpi = 100)"
   ]
  }
 ],
 "metadata": {
  "kernelspec": {
   "display_name": "Python 3",
   "language": "python",
   "name": "python3"
  },
  "language_info": {
   "codemirror_mode": {
    "name": "ipython",
    "version": 3
   },
   "file_extension": ".py",
   "mimetype": "text/x-python",
   "name": "python",
   "nbconvert_exporter": "python",
   "pygments_lexer": "ipython3",
   "version": "3.8.8"
  }
 },
 "nbformat": 4,
 "nbformat_minor": 5
}
