{
 "cells": [
  {
   "cell_type": "code",
   "execution_count": null,
   "id": "be885060",
   "metadata": {},
   "outputs": [],
   "source": [
    "import seaborn as sns\n",
    "from matplotlib import pyplot as plt\n",
    "from matplotlib import rcParams\n",
    "\n",
    "sns.set()\n",
    "%matplotlib inline\n",
    "\n",
    "rcParams[\"font.family\"] = \"Malgun Gothic\"\n",
    "rcParams[\"axes.unicode_minus\"] = False"
   ]
  },
  {
   "cell_type": "markdown",
   "id": "8d5ee0f8",
   "metadata": {},
   "source": [
    "### 선 그래프"
   ]
  },
  {
   "cell_type": "code",
   "execution_count": null,
   "id": "48c92d06",
   "metadata": {},
   "outputs": [],
   "source": [
    "plt.plot([1,2,3], [4,1,2], label = \"line1\")\n",
    "plt.plot([1,2,3], [5,6,0], label = \"line2\")\n",
    "plt.legend(loc = \"upper right\") "
   ]
  },
  {
   "cell_type": "markdown",
   "id": "4b97eb1d",
   "metadata": {},
   "source": [
    "#### 색상 설정"
   ]
  },
  {
   "cell_type": "code",
   "execution_count": null,
   "id": "50750c55",
   "metadata": {},
   "outputs": [],
   "source": [
    "plt.plot([1,2,3], [4,1,2], color = \"black\", label = \"line1\")\n",
    "plt.plot([1,2,3], [5,6,0], color = \"red\", label = \"line2\")\n",
    "plt.legend(loc = \"upper right\")"
   ]
  },
  {
   "cell_type": "markdown",
   "id": "5a07999e",
   "metadata": {},
   "source": [
    "#### 선 스타일 및 두께 설정"
   ]
  },
  {
   "cell_type": "code",
   "execution_count": null,
   "id": "e482d1c8",
   "metadata": {},
   "outputs": [],
   "source": [
    "plt.plot([1,2,3], [4,1,2], linestyle = \"dashed\", linewidth = 4, label = \"line1\")\n",
    "plt.plot([1,2,3], [5,6,0], linestyle = \"dotted\", linewidth = 3, label = \"line2\")\n",
    "plt.legend(loc = \"upper right\")"
   ]
  },
  {
   "cell_type": "markdown",
   "id": "e30fb3cd",
   "metadata": {},
   "source": [
    "#### 마커 설정"
   ]
  },
  {
   "cell_type": "code",
   "execution_count": null,
   "id": "bfe36f65",
   "metadata": {},
   "outputs": [],
   "source": [
    "plt.plot([1,2,3], [4,1,2], marker = \"s\", markersize = 8, label = \"line1\")\n",
    "plt.plot([1,2,3], [5,6,0], marker = \"o\", markersize = 8, label = \"line2\")\n",
    "plt.legend(loc = \"upper right\")"
   ]
  },
  {
   "cell_type": "markdown",
   "id": "4b0953f1",
   "metadata": {},
   "source": [
    "### 산점도"
   ]
  },
  {
   "cell_type": "code",
   "execution_count": null,
   "id": "e2cf657d",
   "metadata": {},
   "outputs": [],
   "source": [
    "plt.scatter([1,2,3], [4,1,2], label = \"scatter1\")\n",
    "plt.scatter([1,2,3], [5,6,0], label = \"scatter2\")\n",
    "plt.legend(loc = \"upper right\")"
   ]
  },
  {
   "cell_type": "markdown",
   "id": "7f52c2d2",
   "metadata": {},
   "source": [
    "#### 마커 설정"
   ]
  },
  {
   "cell_type": "code",
   "execution_count": null,
   "id": "26ca67bf",
   "metadata": {},
   "outputs": [],
   "source": [
    "plt.scatter([1,2,3], [4,1,2], marker = \"*\", s = 80, color = \"red\", label = \"scatter1\")\n",
    "plt.scatter([1,2,3], [5,6,0], marker = \"o\", s = 80, color = \"green\", label = \"scatter2\")\n",
    "plt.legend(loc = \"upper right\")"
   ]
  },
  {
   "cell_type": "markdown",
   "id": "57e77381",
   "metadata": {},
   "source": [
    "#### 투명도 설정"
   ]
  },
  {
   "cell_type": "code",
   "execution_count": null,
   "id": "5ce8e5ea",
   "metadata": {},
   "outputs": [],
   "source": [
    "import numpy as np\n",
    "x = np.random.normal(0, 1, 10000)\n",
    "y = np.random.normal(0, 1, 10000)"
   ]
  },
  {
   "cell_type": "code",
   "execution_count": null,
   "id": "fb3dad83",
   "metadata": {},
   "outputs": [],
   "source": [
    "plt.scatter(x, y)"
   ]
  },
  {
   "cell_type": "code",
   "execution_count": null,
   "id": "4a031386",
   "metadata": {},
   "outputs": [],
   "source": [
    "plt.scatter(x, y, alpha = 0.05)"
   ]
  },
  {
   "cell_type": "markdown",
   "id": "0272943e",
   "metadata": {},
   "source": [
    "### 막대 그래프"
   ]
  },
  {
   "cell_type": "code",
   "execution_count": null,
   "id": "734d0160",
   "metadata": {},
   "outputs": [],
   "source": [
    "plt.bar(range(3), [10,20,30])"
   ]
  },
  {
   "cell_type": "markdown",
   "id": "230495ad",
   "metadata": {},
   "source": [
    "#### 눈금 값 설정"
   ]
  },
  {
   "cell_type": "code",
   "execution_count": null,
   "id": "ad872e4d",
   "metadata": {},
   "outputs": [],
   "source": [
    "plt.bar(range(3), [10,20,30])\n",
    "plt.xticks(range(3), [\"A\", \"B\", \"C\"])"
   ]
  },
  {
   "cell_type": "markdown",
   "id": "d56a3096",
   "metadata": {},
   "source": [
    "#### 스타일 설정"
   ]
  },
  {
   "cell_type": "code",
   "execution_count": null,
   "id": "0d421afe",
   "metadata": {},
   "outputs": [],
   "source": [
    "plt.bar(range(3), [10,20,30], width = 0.5, color = \"orange\", linewidth = 3.5)\n",
    "plt.xticks(range(3), [\"A\", \"B\", \"C\"])"
   ]
  },
  {
   "cell_type": "code",
   "execution_count": null,
   "id": "ce1d2d43",
   "metadata": {},
   "outputs": [],
   "source": [
    "plt.bar(\n",
    "    range(3), [10, 20, 30], width=0.5, color=[\"orange\", \"blue\", \"green\"], linewidth=3.5\n",
    ")\n",
    "plt.xticks(range(3), [\"A\", \"B\", \"C\"])"
   ]
  },
  {
   "cell_type": "markdown",
   "id": "08f62019",
   "metadata": {},
   "source": [
    "### 박스플롯"
   ]
  },
  {
   "cell_type": "code",
   "execution_count": null,
   "id": "b3476819",
   "metadata": {},
   "outputs": [],
   "source": [
    "x = np.random.normal(10, 5, 100)\n",
    "plt.boxplot(x)"
   ]
  },
  {
   "cell_type": "code",
   "execution_count": null,
   "id": "af74620d",
   "metadata": {},
   "outputs": [],
   "source": [
    "x1 = np.random.normal(10, 5, 1000)\n",
    "x2 = np.random.normal(10, 10, 100)\n",
    "plt.boxplot([x1, x2])\n",
    "plt.show()"
   ]
  },
  {
   "cell_type": "markdown",
   "id": "00909f05",
   "metadata": {},
   "source": [
    "#### 눈금 값 설정"
   ]
  },
  {
   "cell_type": "code",
   "execution_count": null,
   "id": "854cc86a",
   "metadata": {},
   "outputs": [],
   "source": [
    "x1 = np.random.normal(10, 5, 1000)\n",
    "x2 = np.random.normal(10, 10, 100)\n",
    "plt.boxplot([x1, x2])\n",
    "plt.xticks([1, 2], [\"x1\", \"x2\"])\n",
    "plt.show()"
   ]
  },
  {
   "cell_type": "markdown",
   "id": "6e2ec532",
   "metadata": {},
   "source": [
    "### 히스토그램"
   ]
  },
  {
   "cell_type": "code",
   "execution_count": null,
   "id": "710c9eff",
   "metadata": {},
   "outputs": [],
   "source": [
    "x = np.random.normal(10, 2, 100)"
   ]
  },
  {
   "cell_type": "code",
   "execution_count": null,
   "id": "1c1d2db8",
   "metadata": {},
   "outputs": [],
   "source": [
    "plt.hist(x)\n",
    "plt.show()"
   ]
  },
  {
   "cell_type": "code",
   "execution_count": null,
   "id": "d7fbf65f",
   "metadata": {},
   "outputs": [],
   "source": [
    "plt.hist(x, bins = 5)\n",
    "plt.show()"
   ]
  },
  {
   "cell_type": "code",
   "execution_count": null,
   "id": "f826d71e",
   "metadata": {},
   "outputs": [],
   "source": [
    "plt.hist(x, bins = 20)\n",
    "plt.show()"
   ]
  },
  {
   "cell_type": "markdown",
   "id": "11a8ac01",
   "metadata": {},
   "source": [
    "### 히트맵"
   ]
  },
  {
   "cell_type": "code",
   "execution_count": null,
   "id": "9a3ea235",
   "metadata": {},
   "outputs": [],
   "source": [
    "import pandas as pd\n",
    "data = pd.DataFrame({\"수학\": [100, 80, 90], \"영어\": [70, 90, 80]}, \n",
    "                   index=[\"철수\", \"영희\", \"민수\"])\n",
    "display(data)"
   ]
  },
  {
   "cell_type": "code",
   "execution_count": null,
   "id": "3871c148",
   "metadata": {},
   "outputs": [],
   "source": [
    "sns.heatmap(data)"
   ]
  },
  {
   "cell_type": "markdown",
   "id": "983266c3",
   "metadata": {},
   "source": [
    "#### 눈금 값 설정"
   ]
  },
  {
   "cell_type": "code",
   "execution_count": null,
   "id": "bb4d99b7",
   "metadata": {},
   "outputs": [],
   "source": [
    "sns.heatmap(data.values)\n",
    "plt.xticks([0.5, 1.5], [\"수학\", \"영어\"])\n",
    "plt.yticks([0.5, 1.5, 2.5], [\"철수\", \"영희\", \"민수\"]) "
   ]
  },
  {
   "cell_type": "markdown",
   "id": "7b75316d",
   "metadata": {},
   "source": [
    "#### 데이터 표시"
   ]
  },
  {
   "cell_type": "code",
   "execution_count": null,
   "id": "8e5efd8c",
   "metadata": {},
   "outputs": [],
   "source": [
    "sns.heatmap(data, annot = True, fmt = \"d\")"
   ]
  },
  {
   "cell_type": "code",
   "execution_count": null,
   "id": "528f2051",
   "metadata": {},
   "outputs": [],
   "source": [
    "sns.heatmap(data, annot = True, fmt = \".2f\")"
   ]
  },
  {
   "cell_type": "markdown",
   "id": "514c3c3d",
   "metadata": {},
   "source": [
    "#### 선 스타일 설정"
   ]
  },
  {
   "cell_type": "code",
   "execution_count": null,
   "id": "d2949d65",
   "metadata": {},
   "outputs": [],
   "source": [
    "sns.heatmap(data, annot = True, fmt = \".2f\", linewidth = 1, linecolor = \"black\")"
   ]
  },
  {
   "cell_type": "markdown",
   "id": "16329c8c",
   "metadata": {},
   "source": [
    "#### 컬러맵 설정"
   ]
  },
  {
   "cell_type": "code",
   "execution_count": null,
   "id": "a557d39c",
   "metadata": {},
   "outputs": [],
   "source": [
    "sns.heatmap(data, annot = True, fmt = \".2f\", cmap = \"Greys\", linewidth = 1, linecolor = \"black\")"
   ]
  }
 ],
 "metadata": {
  "kernelspec": {
   "display_name": "Python 3",
   "language": "python",
   "name": "python3"
  },
  "language_info": {
   "codemirror_mode": {
    "name": "ipython",
    "version": 3
   },
   "file_extension": ".py",
   "mimetype": "text/x-python",
   "name": "python",
   "nbconvert_exporter": "python",
   "pygments_lexer": "ipython3",
   "version": "3.8.8"
  }
 },
 "nbformat": 4,
 "nbformat_minor": 5
}
