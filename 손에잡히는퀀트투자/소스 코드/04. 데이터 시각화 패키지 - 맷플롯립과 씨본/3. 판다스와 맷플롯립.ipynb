{
 "cells": [
  {
   "cell_type": "code",
   "execution_count": null,
   "id": "be885060",
   "metadata": {},
   "outputs": [],
   "source": [
    "import seaborn as sns\n",
    "from matplotlib import pyplot as plt\n",
    "from matplotlib import rcParams\n",
    "\n",
    "sns.set()\n",
    "%matplotlib inline\n",
    "\n",
    "rcParams[\"font.family\"] = \"Malgun Gothic\"\n",
    "rcParams[\"axes.unicode_minus\"] = False"
   ]
  },
  {
   "cell_type": "code",
   "execution_count": null,
   "id": "3001a00f",
   "metadata": {},
   "outputs": [],
   "source": [
    "import pandas as pd\n",
    "df = pd.read_csv(\"../../데이터/판다스/재무제표샘플_대원미디어.csv\", encoding = \"euc-kr\")\n",
    "display(df)"
   ]
  },
  {
   "cell_type": "code",
   "execution_count": null,
   "id": "cdf0300c",
   "metadata": {},
   "outputs": [],
   "source": [
    "df.plot(kind = \"line\", x = \"연도\", y = [\"영업이익\", \"당기순이익\"],\n",
    "        figsize = (10, 6),\n",
    "        xticks = [2016, 2017, 2018, 2019, 2020])"
   ]
  },
  {
   "cell_type": "code",
   "execution_count": null,
   "id": "990be320",
   "metadata": {},
   "outputs": [],
   "source": [
    "df.plot(kind = \"bar\", x = \"연도\", y = [\"영업이익\", \"당기순이익\"], figsize = (10, 6))"
   ]
  },
  {
   "cell_type": "code",
   "execution_count": null,
   "id": "0f639817",
   "metadata": {},
   "outputs": [],
   "source": [
    "df.plot(kind = \"barh\", x = \"연도\", y = [\"영업이익\", \"당기순이익\"], figsize = (10, 6))"
   ]
  },
  {
   "cell_type": "code",
   "execution_count": null,
   "id": "85e7a3dc",
   "metadata": {},
   "outputs": [],
   "source": [
    "df.plot(kind = \"box\", y = [\"영업이익\", \"당기순이익\"])"
   ]
  },
  {
   "cell_type": "code",
   "execution_count": null,
   "id": "ec0ef288",
   "metadata": {},
   "outputs": [],
   "source": [
    "df.plot(kind = \"hist\", y = \"영업이익\")"
   ]
  }
 ],
 "metadata": {
  "kernelspec": {
   "display_name": "Python 3",
   "language": "python",
   "name": "python3"
  },
  "language_info": {
   "codemirror_mode": {
    "name": "ipython",
    "version": 3
   },
   "file_extension": ".py",
   "mimetype": "text/x-python",
   "name": "python",
   "nbconvert_exporter": "python",
   "pygments_lexer": "ipython3",
   "version": "3.8.8"
  }
 },
 "nbformat": 4,
 "nbformat_minor": 5
}
