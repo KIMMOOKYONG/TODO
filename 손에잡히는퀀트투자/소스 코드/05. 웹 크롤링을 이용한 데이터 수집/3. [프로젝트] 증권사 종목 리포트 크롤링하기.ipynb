{
 "cells": [
  {
   "cell_type": "markdown",
   "id": "e72df93a",
   "metadata": {},
   "source": [
    "#### 파이썬을 이용한 리포트 수집"
   ]
  },
  {
   "cell_type": "code",
   "execution_count": null,
   "id": "59297097",
   "metadata": {},
   "outputs": [],
   "source": [
    "import requests\n",
    "from bs4 import BeautifulSoup as BS"
   ]
  },
  {
   "cell_type": "code",
   "execution_count": null,
   "id": "b328f5e6",
   "metadata": {},
   "outputs": [],
   "source": [
    "url = \"http://www.paxnet.co.kr/stock/report/report?wlog_rpt=jm&menuCode=2222\"\n",
    "response = requests.get(url)\n",
    "html = response.content\n",
    "html = BS(html)"
   ]
  },
  {
   "cell_type": "code",
   "execution_count": null,
   "id": "3fd54425",
   "metadata": {},
   "outputs": [],
   "source": [
    "div = html.find(\"div\", attrs = {\"class\":\"board-type\"})\n",
    "li_list = div.find_all(\"li\")"
   ]
  },
  {
   "cell_type": "markdown",
   "id": "f95feeff",
   "metadata": {},
   "source": [
    "#### 수집 대상 행 결정"
   ]
  },
  {
   "cell_type": "code",
   "execution_count": null,
   "id": "c19588ad",
   "metadata": {},
   "outputs": [],
   "source": [
    "print(li_list[0])"
   ]
  },
  {
   "cell_type": "code",
   "execution_count": null,
   "id": "5c33e534",
   "metadata": {},
   "outputs": [],
   "source": [
    "print(li_list[1])"
   ]
  },
  {
   "cell_type": "code",
   "execution_count": null,
   "id": "f3bc34b8",
   "metadata": {},
   "outputs": [],
   "source": [
    "print(li_list[-1])"
   ]
  },
  {
   "cell_type": "code",
   "execution_count": null,
   "id": "ca9dabc0",
   "metadata": {},
   "outputs": [],
   "source": [
    "check_str = '<strong class=\"color-cate\"><span class=\"bracket\">'"
   ]
  },
  {
   "cell_type": "code",
   "execution_count": null,
   "id": "2860ba6d",
   "metadata": {},
   "outputs": [],
   "source": [
    "print(check_str in str(li_list[1]))\n",
    "print(check_str in str(li_list[0]))\n",
    "print(check_str in str(li_list[-1]))"
   ]
  },
  {
   "cell_type": "markdown",
   "id": "2c1755f5",
   "metadata": {},
   "source": [
    "#### 파싱 전략 수립"
   ]
  },
  {
   "cell_type": "code",
   "execution_count": null,
   "id": "fcc0099b",
   "metadata": {},
   "outputs": [],
   "source": [
    "stock = li_list[1].find_all(\"a\")[0].text\n",
    "print(stock)"
   ]
  },
  {
   "cell_type": "code",
   "execution_count": null,
   "id": "5043a780",
   "metadata": {},
   "outputs": [],
   "source": [
    "title = li_list[1].find_all(\"a\")[1].text\n",
    "print(title)"
   ]
  },
  {
   "cell_type": "code",
   "execution_count": null,
   "id": "2b5befab",
   "metadata": {},
   "outputs": [],
   "source": [
    "price = li_list[1].find(\"div\", attrs = {\"class\":\"line3\"}).text\n",
    "display(price)"
   ]
  },
  {
   "cell_type": "code",
   "execution_count": null,
   "id": "6a077e30",
   "metadata": {},
   "outputs": [],
   "source": [
    "price = price.replace('\\r', '').replace('\\t', '').replace('\\n', '')\n",
    "price = price.split(' ')[1].replace(',', '')[:-1]\n",
    "display(price)"
   ]
  },
  {
   "cell_type": "code",
   "execution_count": null,
   "id": "e649dcff",
   "metadata": {
    "scrolled": true
   },
   "outputs": [],
   "source": [
    "opinion = li_list[1].find_all(\"div\", attrs = {\"class\":\"line3\"})[1].text\n",
    "display(opinion)"
   ]
  },
  {
   "cell_type": "code",
   "execution_count": null,
   "id": "b0e6663a",
   "metadata": {},
   "outputs": [],
   "source": [
    "opinion = opinion.replace('\\t', '').replace('\\n', '').replace('\\r', '')\n",
    "display(opinion)"
   ]
  },
  {
   "cell_type": "code",
   "execution_count": null,
   "id": "b998848b",
   "metadata": {},
   "outputs": [],
   "source": [
    "trading_firm = li_list[1].find_all(\"div\", attrs = {\"class\":\"line3\"})[2].text\n",
    "display(trading_firm)"
   ]
  },
  {
   "cell_type": "code",
   "execution_count": null,
   "id": "ca5cdd4f",
   "metadata": {},
   "outputs": [],
   "source": [
    "date = li_list[1].find_all(\"div\", attrs = {\"class\":\"line3\"})[3].text\n",
    "display(date)"
   ]
  },
  {
   "cell_type": "code",
   "execution_count": null,
   "id": "dfa7ee65",
   "metadata": {},
   "outputs": [],
   "source": [
    "import pandas as pd\n",
    "date = pd.to_datetime(date)\n",
    "display(date)"
   ]
  },
  {
   "cell_type": "markdown",
   "id": "a79655ed",
   "metadata": {},
   "source": [
    "#### 단일 리포트 파싱"
   ]
  },
  {
   "cell_type": "code",
   "execution_count": null,
   "id": "6a340bc0",
   "metadata": {},
   "outputs": [],
   "source": [
    "def parsing_li(li):\n",
    "    stock = li.find_all(\"a\")[0].text # 종목명\n",
    "    title = li.find_all(\"a\")[1].text # 리포트 제목\n",
    "    price = li.find(\"div\", attrs = {\"class\":\"line3\"}).text # 적정가격\n",
    "    price = price.replace('\\r', '').replace('\\t', '').replace('\\n', '')\n",
    "    price = price.split(' ')[1].replace(',', '')[:-1]\n",
    "    opinion = li.find_all(\"div\", attrs = {\"class\":\"line3\"})[1].text # 의견\n",
    "    opinion = opinion.replace('\\t', '').replace('\\n', '').replace('\\r', '')\n",
    "    trading_firm = li.find_all(\"div\", attrs = {\"class\":\"line3\"})[2].text # 증권사\n",
    "    date = li.find_all(\"div\", attrs = {\"class\":\"line3\"})[3].text # 날짜\n",
    "    date = pd.to_datetime(date)\n",
    "    \n",
    "    return [stock, title, price, opinion, trading_firm, date]"
   ]
  },
  {
   "cell_type": "code",
   "execution_count": null,
   "id": "c1e8164d",
   "metadata": {},
   "outputs": [],
   "source": [
    "print(parsing_li(li_list[1]))"
   ]
  },
  {
   "cell_type": "markdown",
   "id": "d17eac9d",
   "metadata": {},
   "source": [
    "#### 한 페이지 내 모든 리포트 수집 및 정제"
   ]
  },
  {
   "cell_type": "code",
   "execution_count": null,
   "id": "02777815",
   "metadata": {},
   "outputs": [],
   "source": [
    "data = []\n",
    "for li in li_list:\n",
    "    if check_str in str(li):\n",
    "        record = parsing_li(li)\n",
    "        data.append(record)\n",
    "data = pd.DataFrame(data, columns = [\"종목명\", \"리포트제목\", \"적정가격\", \"의견\", \"증권사\", \"날짜\"])"
   ]
  },
  {
   "cell_type": "code",
   "execution_count": null,
   "id": "5450e69a",
   "metadata": {},
   "outputs": [],
   "source": [
    "display(data.head(10))"
   ]
  },
  {
   "cell_type": "code",
   "execution_count": null,
   "id": "c7b743ae",
   "metadata": {},
   "outputs": [],
   "source": [
    "import time\n",
    "base_url = \"http://www.paxnet.co.kr/stock/report/report?menuCode=2222&currentPageNo={}&reportId=0&searchKey=stock&searchValue=\"\n",
    "data = []\n",
    "\n",
    "for page_no in range(1, 563):\n",
    "    # 웹 페이지 소스 가져오기\n",
    "    url = base_url.format(page_no)\n",
    "    while True:\n",
    "        response = requests.get(url)\n",
    "        if response.status_code == 200:\n",
    "            time.sleep(1)\n",
    "            break\n",
    "        else:\n",
    "            time.sleep(10 * 60)    \n",
    "    html = response.content\n",
    "    html = BS(html)\n",
    "    \n",
    "    # 웹 페이지 소스에서 필요한 부분만 가져오기\n",
    "    div = html.find(\"div\", attrs = {\"class\":\"board-type\"})\n",
    "    li_list = div.find_all(\"li\")\n",
    "    for li in li_list:\n",
    "        if check_str in str(li):\n",
    "            record = parsing_li(li)\n",
    "            data.append(record)\n",
    "\n",
    "data = pd.DataFrame(data, columns = [\"종목명\", \"리포트제목\", \"적정가격\", \"의견\", \"증권사\", \"날짜\"])    "
   ]
  },
  {
   "cell_type": "code",
   "execution_count": null,
   "id": "24fbd747",
   "metadata": {},
   "outputs": [],
   "source": [
    "data.to_csv(\"../../데이터/종목리포트.txt\", sep = \"\\t\", encoding = \"euc-kr\", index = False)"
   ]
  }
 ],
 "metadata": {
  "kernelspec": {
   "display_name": "Python 3",
   "language": "python",
   "name": "python3"
  },
  "language_info": {
   "codemirror_mode": {
    "name": "ipython",
    "version": 3
   },
   "file_extension": ".py",
   "mimetype": "text/x-python",
   "name": "python",
   "nbconvert_exporter": "python",
   "pygments_lexer": "ipython3",
   "version": "3.8.8"
  }
 },
 "nbformat": 4,
 "nbformat_minor": 5
}
