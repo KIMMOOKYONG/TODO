{
 "cells": [
  {
   "cell_type": "markdown",
   "id": "a3888f81",
   "metadata": {},
   "source": [
    "### 모듈 및 드라이버 설치"
   ]
  },
  {
   "cell_type": "code",
   "execution_count": null,
   "id": "4b07ed60",
   "metadata": {},
   "outputs": [],
   "source": [
    "import selenium"
   ]
  },
  {
   "cell_type": "markdown",
   "id": "297ed824",
   "metadata": {},
   "source": [
    "### 셀레니움 기초"
   ]
  },
  {
   "cell_type": "markdown",
   "id": "af764cb2",
   "metadata": {},
   "source": [
    "#### 드라이버 연결"
   ]
  },
  {
   "cell_type": "code",
   "execution_count": null,
   "id": "2bed6a07",
   "metadata": {
    "scrolled": true
   },
   "outputs": [],
   "source": [
    "from selenium import webdriver\n",
    "driver = webdriver.Chrome(\"../chromedriver.exe\")"
   ]
  },
  {
   "cell_type": "markdown",
   "id": "b18ed742",
   "metadata": {},
   "source": [
    "#### get 메서드"
   ]
  },
  {
   "cell_type": "code",
   "execution_count": null,
   "id": "3ebccb66",
   "metadata": {},
   "outputs": [],
   "source": [
    "url = \"https://news.naver.com/\"\n",
    "driver.get(url)"
   ]
  },
  {
   "cell_type": "markdown",
   "id": "2665adb5",
   "metadata": {},
   "source": [
    "#### implicitly_wait 메서드"
   ]
  },
  {
   "cell_type": "code",
   "execution_count": null,
   "id": "b7ac906b",
   "metadata": {},
   "outputs": [],
   "source": [
    "driver.implicitly_wait(10) "
   ]
  },
  {
   "cell_type": "markdown",
   "id": "b3f3c7b4",
   "metadata": {},
   "source": [
    "### 엘리먼트 찾기: find_element와 find_elements 함수"
   ]
  },
  {
   "cell_type": "code",
   "execution_count": null,
   "id": "4e0093d2",
   "metadata": {},
   "outputs": [],
   "source": [
    "from selenium.webdriver.common.by import By"
   ]
  },
  {
   "cell_type": "markdown",
   "id": "425dc1f7",
   "metadata": {},
   "source": [
    "#### CLASS_NAME 속성"
   ]
  },
  {
   "cell_type": "code",
   "execution_count": null,
   "id": "5d68d603",
   "metadata": {},
   "outputs": [],
   "source": [
    "elements = driver.find_elements(By.CLASS_NAME, \"hdline_article_tit\")\n",
    "print(elements)"
   ]
  },
  {
   "cell_type": "markdown",
   "id": "03db2364",
   "metadata": {},
   "source": [
    "#### ID 속성"
   ]
  },
  {
   "cell_type": "code",
   "execution_count": null,
   "id": "fc031128",
   "metadata": {},
   "outputs": [],
   "source": [
    "driver.find_elements(By.ID, \"section_economy\")"
   ]
  },
  {
   "cell_type": "markdown",
   "id": "40188c05",
   "metadata": {},
   "source": [
    "#### LINK_TEXT와 PARTIAL_LINK_TEXT 속성"
   ]
  },
  {
   "cell_type": "code",
   "execution_count": null,
   "id": "dd682f3f",
   "metadata": {},
   "outputs": [],
   "source": [
    "driver.find_elements(By.LINK_TEXT, \"IT/과학\")\n",
    "driver.find_elements(By.PARTIAL_LINK_TEXT, \"IT\")"
   ]
  },
  {
   "cell_type": "markdown",
   "id": "5f024d49",
   "metadata": {},
   "source": [
    "#### NAME 속성"
   ]
  },
  {
   "cell_type": "code",
   "execution_count": null,
   "id": "43bc96bb",
   "metadata": {},
   "outputs": [],
   "source": [
    "driver.find_elements(By.NAME, \"query\")"
   ]
  },
  {
   "cell_type": "markdown",
   "id": "5f246d5f",
   "metadata": {},
   "source": [
    "#### TAG_NAME 속성"
   ]
  },
  {
   "cell_type": "code",
   "execution_count": null,
   "id": "56feca45",
   "metadata": {},
   "outputs": [],
   "source": [
    "driver.find_elements(By.TAG_NAME, \"strong\")"
   ]
  },
  {
   "cell_type": "markdown",
   "id": "f7163082",
   "metadata": {},
   "source": [
    "#### CSS_SELECTOR와 XPATH 속성"
   ]
  },
  {
   "cell_type": "code",
   "execution_count": null,
   "id": "0596fdef",
   "metadata": {},
   "outputs": [],
   "source": [
    "driver.find_elements(By.CSS_SELECTOR, \"#today_main_news > div.hdline_news > ul > li:nth-child(1) > div.hdline_article_tit > a\")\n",
    "driver.find_elements(By.XPATH, '//*[@id=\"section_politics\"]/div[2]/div/ul/li[1]/a/strong')"
   ]
  },
  {
   "cell_type": "markdown",
   "id": "4a771a91",
   "metadata": {},
   "source": [
    "### 속성 가져오기"
   ]
  },
  {
   "cell_type": "code",
   "execution_count": null,
   "id": "611c458d",
   "metadata": {},
   "outputs": [],
   "source": [
    "article = driver.find_element(By.CLASS_NAME, \"hdline_article_tit\")"
   ]
  },
  {
   "cell_type": "code",
   "execution_count": null,
   "id": "6f5835e2",
   "metadata": {},
   "outputs": [],
   "source": [
    "article.click()"
   ]
  },
  {
   "cell_type": "code",
   "execution_count": null,
   "id": "57bc90ed",
   "metadata": {},
   "outputs": [],
   "source": [
    "title = driver.find_element(By.ID, \"articleTitle\")"
   ]
  },
  {
   "cell_type": "code",
   "execution_count": null,
   "id": "28592a90",
   "metadata": {},
   "outputs": [],
   "source": [
    "print(title.get_attribute(\"class\")) # class 속성값 가져오기\n",
    "print(title.get_attribute(\"innerHTML\")) # 내용 가져오기 "
   ]
  },
  {
   "cell_type": "code",
   "execution_count": null,
   "id": "1a79fe30",
   "metadata": {},
   "outputs": [],
   "source": [
    "driver.back()"
   ]
  },
  {
   "cell_type": "code",
   "execution_count": null,
   "id": "9946275f",
   "metadata": {},
   "outputs": [],
   "source": [
    "print(driver.current_url)"
   ]
  }
 ],
 "metadata": {
  "kernelspec": {
   "display_name": "Python 3",
   "language": "python",
   "name": "python3"
  },
  "language_info": {
   "codemirror_mode": {
    "name": "ipython",
    "version": 3
   },
   "file_extension": ".py",
   "mimetype": "text/x-python",
   "name": "python",
   "nbconvert_exporter": "python",
   "pygments_lexer": "ipython3",
   "version": "3.8.8"
  }
 },
 "nbformat": 4,
 "nbformat_minor": 5
}
