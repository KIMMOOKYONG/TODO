{
 "cells": [
  {
   "cell_type": "markdown",
   "id": "6aee7553",
   "metadata": {},
   "source": [
    "### 단일 리뷰 크롤링"
   ]
  },
  {
   "cell_type": "code",
   "execution_count": null,
   "id": "9ffd42b6",
   "metadata": {
    "scrolled": true
   },
   "outputs": [],
   "source": [
    "from selenium import webdriver\n",
    "from selenium.webdriver.common.by import By\n",
    "driver = webdriver.Chrome('../chromedriver.exe')"
   ]
  },
  {
   "cell_type": "code",
   "execution_count": null,
   "id": "fa7d3dc4",
   "metadata": {},
   "outputs": [],
   "source": [
    "corp = \"SK하이닉스\"\n",
    "url = \"https://www.jobplanet.co.kr/companies/20561/reviews/%EC%97%90%EC%8A%A4%EC%BC%80%EC%9D%B4%ED%95%98%EC%9D%B4%EB%8B%89%EC%8A%A4\""
   ]
  },
  {
   "cell_type": "code",
   "execution_count": null,
   "id": "452a4909",
   "metadata": {},
   "outputs": [],
   "source": [
    "# url 들어가기\n",
    "driver.get(url)\n",
    "driver.implicitly_wait(10) # 페이지가 전부 로딩될때까지 최대 10초 기다리기"
   ]
  },
  {
   "cell_type": "code",
   "execution_count": null,
   "id": "aff3776c",
   "metadata": {},
   "outputs": [],
   "source": [
    "# 팝업 창이 뜨면 끄기 \n",
    "try:\n",
    "    driver.find_element(By.CLASS_NAME, \"btn_close_x_ty1\").click() \n",
    "except:\n",
    "    pass"
   ]
  },
  {
   "cell_type": "code",
   "execution_count": null,
   "id": "4ea58a5a",
   "metadata": {},
   "outputs": [],
   "source": [
    "review_list = driver.find_elements(By.CLASS_NAME, \"content_wrap\")"
   ]
  },
  {
   "cell_type": "code",
   "execution_count": null,
   "id": "8b76971f",
   "metadata": {},
   "outputs": [],
   "source": [
    "review = review_list[0]"
   ]
  },
  {
   "cell_type": "code",
   "execution_count": null,
   "id": "46d8a898",
   "metadata": {},
   "outputs": [],
   "source": [
    "date = review.find_elements(By.CLASS_NAME, \"txt1\")[-1].get_attribute('innerHTML')\n",
    "print(date)"
   ]
  },
  {
   "cell_type": "code",
   "execution_count": null,
   "id": "d220affe",
   "metadata": {},
   "outputs": [],
   "source": [
    "score_list = review.find_element(By.CLASS_NAME, \"ctbody_lft\") "
   ]
  },
  {
   "cell_type": "code",
   "execution_count": null,
   "id": "a9fd7e41",
   "metadata": {},
   "outputs": [],
   "source": [
    "star_score = score_list.find_element(By.CLASS_NAME, \"star_score\").get_attribute('style')\n",
    "print(star_score)"
   ]
  },
  {
   "cell_type": "code",
   "execution_count": null,
   "id": "46777149",
   "metadata": {},
   "outputs": [],
   "source": [
    "# 항목별 평점\n",
    "bl_score_list = score_list.find_elements(By.CLASS_NAME, \"bl_score\")\n",
    "welfare_salary = bl_score_list[0].get_attribute(\"style\")\n",
    "work_life_balance = bl_score_list[1].get_attribute(\"style\")\n",
    "culture = bl_score_list[2].get_attribute(\"style\")\n",
    "promotion_opp = bl_score_list[3].get_attribute(\"style\")\n",
    "management = bl_score_list[4].get_attribute(\"style\")\n",
    "print(welfare_salary, work_life_balance, culture, promotion_opp, management)"
   ]
  },
  {
   "cell_type": "code",
   "execution_count": null,
   "id": "ba71b039",
   "metadata": {},
   "outputs": [],
   "source": [
    "def convert_width_to_score(width):\n",
    "    width_percent = int(width.split(' ')[1][:-2])\n",
    "    score = int(width_percent / 20)\n",
    "    return score"
   ]
  },
  {
   "cell_type": "code",
   "execution_count": null,
   "id": "49f633be",
   "metadata": {},
   "outputs": [],
   "source": [
    "print(convert_width_to_score(star_score))"
   ]
  },
  {
   "cell_type": "code",
   "execution_count": null,
   "id": "e232734c",
   "metadata": {},
   "outputs": [],
   "source": [
    "def extract_score_from_review(review):\n",
    "    # 출력 초기화\n",
    "    output = []\n",
    "    # 리뷰에서 평점과 관련된 부분만 가져오기\n",
    "    score_list = review.find_element(By.CLASS_NAME, \"ctbody_lft\")\n",
    "    # 총 평점 가져와서 추가\n",
    "    star_score = score_list.find_element(By.CLASS_NAME, \"star_score\").get_attribute('style')\n",
    "    output.append(convert_width_to_score(star_score))\n",
    "    # 항목별 평점 가져와서 추가\n",
    "    other_score_elements = score_list.find_elements(By.CLASS_NAME, \"bl_score\")\n",
    "    for element in other_score_elements:\n",
    "        output.append(convert_width_to_score(element.get_attribute(\"style\")))\n",
    "    return output"
   ]
  },
  {
   "cell_type": "code",
   "execution_count": null,
   "id": "f97cd5d8",
   "metadata": {},
   "outputs": [],
   "source": [
    "print(extract_score_from_review(review))"
   ]
  },
  {
   "cell_type": "markdown",
   "id": "58116e1c",
   "metadata": {},
   "source": [
    "### 전체 리뷰 크롤링"
   ]
  },
  {
   "cell_type": "markdown",
   "id": "2e887f8c",
   "metadata": {},
   "source": [
    "#### 전체 페이지 수 획득"
   ]
  },
  {
   "cell_type": "code",
   "execution_count": null,
   "id": "bce44083",
   "metadata": {},
   "outputs": [],
   "source": [
    "btn_pglast = driver.find_element(By.CLASS_NAME, \"btn_pglast\")\n",
    "num_pages = int(btn_pglast.get_attribute(\"href\").split('=')[1])"
   ]
  },
  {
   "cell_type": "markdown",
   "id": "6ca989da",
   "metadata": {},
   "source": [
    "#### 다음 페이지로 이동"
   ]
  },
  {
   "cell_type": "code",
   "execution_count": null,
   "id": "d71f3b91",
   "metadata": {},
   "outputs": [],
   "source": [
    "import time\n",
    "def get_url(driver, url):\n",
    "    while True:\n",
    "        try:\n",
    "            driver.get(url)\n",
    "            driver.implicitly_wait(10) # 페이지가 전부 로딩될때까지 최대 10초 기다리기\n",
    "            break\n",
    "        except:\n",
    "            driver.close()\n",
    "            driver = webdriver.Chrome('../chromedriver.exe')\n",
    "            time.sleep(60)"
   ]
  },
  {
   "cell_type": "markdown",
   "id": "bcc1820d",
   "metadata": {},
   "source": [
    "#### 리뷰 수집"
   ]
  },
  {
   "cell_type": "code",
   "execution_count": null,
   "id": "685f14a2",
   "metadata": {
    "scrolled": true
   },
   "outputs": [],
   "source": [
    "import pandas as pd\n",
    "input_data = pd.read_excel(\"../../데이터/종목별_잡플래닛url.xlsx\")\n",
    "data = [] \n",
    "\n",
    "for corp, url in input_data[['종목명', 'URL']].values:\n",
    "    # 초기 url 들어가기\n",
    "    get_url(driver, url)\n",
    "    # 전체 페이지 수 계산\n",
    "    btn_pglast = driver.find_element(By.CLASS_NAME, \"btn_pglast\")\n",
    "    num_pages = int(btn_pglast.get_attribute(\"href\").split('=')[1])\n",
    "    # 페이지 순회 시작\n",
    "    for page in range(num_pages - 1):\n",
    "        print(\"{}:{}/{}\".format(corp, page+1, num_pages))\n",
    "        current_url = url + \"?page={}\".format(page+1)\n",
    "        get_url(driver, current_url)\n",
    "\n",
    "        # 팝업 창이 뜨면 끄기 \n",
    "        try:\n",
    "            driver.find_element(By.CLASS_NAME, \"btn_close_x_ty1\").click()\n",
    "            time.sleep(0.5)\n",
    "        except:\n",
    "            pass\n",
    "        \n",
    "        # 현재 페이지에서 데이터 가져오기\n",
    "        while True:\n",
    "            time.sleep(0.5)\n",
    "            try:\n",
    "                temp = []\n",
    "                review_list = driver.find_elements(By.CLASS_NAME, \"content_wrap\")\n",
    "                for review in review_list:\n",
    "                    date = review.find_elements(By.CLASS_NAME, \"txt1\")[-1].get_attribute('innerHTML')\n",
    "                    score = extract_score_from_review(review)\n",
    "                    record = [corp, date] + score # score는 리스트임\n",
    "                    temp.append(record)\n",
    "                data += temp\n",
    "                break\n",
    "            except:\n",
    "                driver.close()\n",
    "                driver = webdriver.Chrome('../chromedriver.exe')\n",
    "                get_url(driver, current_url)\n",
    "                time.sleep(60)\n",
    "\n",
    "data = pd.DataFrame(data, columns = [\"기업\", \"날짜\", \"전체평점\", \"승진기회및가능성\", \"복지및급여\", \"업무와삶의균형\", \"사내문화\", \"경영진\"])"
   ]
  },
  {
   "cell_type": "code",
   "execution_count": null,
   "id": "c5a885b1",
   "metadata": {},
   "outputs": [],
   "source": [
    "display(data.head())"
   ]
  },
  {
   "cell_type": "code",
   "execution_count": null,
   "id": "0ecd922e",
   "metadata": {},
   "outputs": [],
   "source": [
    "# 데이터 정제\n",
    "data = data.groupby(['기업', '날짜'], as_index = False)[[\"전체평점\", \"승진기회및가능성\", \"복지및급여\", \"업무와삶의균형\", \"사내문화\", \"경영진\"]].mean()\n",
    "data.sort_values(by = ['기업', '날짜'], inplace = True)\n",
    "display(data.head(10))"
   ]
  },
  {
   "cell_type": "code",
   "execution_count": null,
   "id": "c714dd8c",
   "metadata": {},
   "outputs": [],
   "source": [
    "data.to_csv(\"../../데이터/기업월별평점.csv\", index = False, encoding = \"euc-kr\")"
   ]
  }
 ],
 "metadata": {
  "kernelspec": {
   "display_name": "Python 3",
   "language": "python",
   "name": "python3"
  },
  "language_info": {
   "codemirror_mode": {
    "name": "ipython",
    "version": 3
   },
   "file_extension": ".py",
   "mimetype": "text/x-python",
   "name": "python",
   "nbconvert_exporter": "python",
   "pygments_lexer": "ipython3",
   "version": "3.8.8"
  }
 },
 "nbformat": 4,
 "nbformat_minor": 5
}
