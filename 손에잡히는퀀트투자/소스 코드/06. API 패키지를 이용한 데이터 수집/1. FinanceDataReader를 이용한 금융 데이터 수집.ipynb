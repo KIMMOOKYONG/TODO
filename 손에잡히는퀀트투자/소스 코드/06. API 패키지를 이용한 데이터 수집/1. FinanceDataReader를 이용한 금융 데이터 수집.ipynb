{
 "cells": [
  {
   "cell_type": "code",
   "execution_count": null,
   "id": "951657f0",
   "metadata": {},
   "outputs": [],
   "source": [
    "import FinanceDataReader as fdr"
   ]
  },
  {
   "cell_type": "markdown",
   "id": "51d0975d",
   "metadata": {},
   "source": [
    "### 증시 데이터 수집"
   ]
  },
  {
   "cell_type": "markdown",
   "id": "8d8ddac2",
   "metadata": {},
   "source": [
    "#### 주식 데이터"
   ]
  },
  {
   "cell_type": "code",
   "execution_count": null,
   "id": "3a46b025",
   "metadata": {},
   "outputs": [],
   "source": [
    "KP_stock_list = fdr.StockListing(\"KOSPI\") # 코스피 종목 목록\n",
    "display(KP_stock_list) "
   ]
  },
  {
   "cell_type": "code",
   "execution_count": null,
   "id": "4b8f5853",
   "metadata": {},
   "outputs": [],
   "source": [
    "sp_data = fdr.DataReader(\"005380\", \"2020-10-01\", \"2021-09-30\")\n",
    "display(sp_data)"
   ]
  },
  {
   "cell_type": "code",
   "execution_count": null,
   "id": "720dd5dc",
   "metadata": {},
   "outputs": [],
   "source": [
    "SP500_stock_list = fdr.StockListing(\"SP500\")\n",
    "display(SP500_stock_list)"
   ]
  },
  {
   "cell_type": "code",
   "execution_count": null,
   "id": "ba50035c",
   "metadata": {},
   "outputs": [],
   "source": [
    "sp_data = fdr.DataReader(\"MMM\", \"2020-10-01\", \"2021-09-30\")\n",
    "display(sp_data)"
   ]
  },
  {
   "cell_type": "markdown",
   "id": "1c90d92c",
   "metadata": {},
   "source": [
    "#### 주요 지수 데이터"
   ]
  },
  {
   "cell_type": "code",
   "execution_count": null,
   "id": "499d585d",
   "metadata": {},
   "outputs": [],
   "source": [
    "KP_idx_data = fdr.DataReader(\"KS11\", \"2010-01-01\", \"2020-12-31\")\n",
    "display(KP_idx_data)"
   ]
  },
  {
   "cell_type": "code",
   "execution_count": null,
   "id": "264af85d",
   "metadata": {},
   "outputs": [],
   "source": [
    "DJI_idx_data = fdr.DataReader(\"DJI\", \"2010-01-01\", \"2020-12-31\")\n",
    "display(DJI_idx_data)"
   ]
  },
  {
   "cell_type": "markdown",
   "id": "4c53ee5e",
   "metadata": {},
   "source": [
    "### 기타 금융 데이터 수집"
   ]
  },
  {
   "cell_type": "code",
   "execution_count": null,
   "id": "e23281c1",
   "metadata": {},
   "outputs": [],
   "source": [
    "display(fdr.DataReader(\"CL\", \"2020-01-01\", \"2020-12-31\")) # WTI유 선물"
   ]
  },
  {
   "cell_type": "code",
   "execution_count": null,
   "id": "f2ace52a",
   "metadata": {},
   "outputs": [],
   "source": [
    "display(fdr.DataReader(\"USD/KRW\", \"2020-01-01\", \"2020-12-31\")) #달러/원 환율"
   ]
  },
  {
   "cell_type": "code",
   "execution_count": null,
   "id": "9092444a",
   "metadata": {},
   "outputs": [],
   "source": [
    "display(fdr.DataReader(\"KR10YT=RR\", \"2020-01-01\", \"2020-12-31\")) # 10년만기 한국 국채"
   ]
  }
 ],
 "metadata": {
  "kernelspec": {
   "display_name": "Python 3",
   "language": "python",
   "name": "python3"
  },
  "language_info": {
   "codemirror_mode": {
    "name": "ipython",
    "version": 3
   },
   "file_extension": ".py",
   "mimetype": "text/x-python",
   "name": "python",
   "nbconvert_exporter": "python",
   "pygments_lexer": "ipython3",
   "version": "3.8.8"
  }
 },
 "nbformat": 4,
 "nbformat_minor": 5
}
