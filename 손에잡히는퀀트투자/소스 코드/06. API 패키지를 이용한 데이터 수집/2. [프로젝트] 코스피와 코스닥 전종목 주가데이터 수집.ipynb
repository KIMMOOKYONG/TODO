{
 "cells": [
  {
   "cell_type": "code",
   "execution_count": null,
   "id": "f27ab934",
   "metadata": {},
   "outputs": [],
   "source": [
    "import FinanceDataReader as fdr"
   ]
  },
  {
   "cell_type": "markdown",
   "id": "63dd28bb",
   "metadata": {},
   "source": [
    "#### 코스피 및 코스닥 종목 정보 수집"
   ]
  },
  {
   "cell_type": "code",
   "execution_count": null,
   "id": "3a10eed2",
   "metadata": {},
   "outputs": [],
   "source": [
    "# 종목 목록 가져오기\n",
    "stock_list = fdr.StockListing('KRX') "
   ]
  },
  {
   "cell_type": "code",
   "execution_count": null,
   "id": "6358ece8",
   "metadata": {},
   "outputs": [],
   "source": [
    "# 코넥스 종목 제외\n",
    "stock_list = stock_list.loc[stock_list['Market'] != \"KONEX\"]"
   ]
  },
  {
   "cell_type": "code",
   "execution_count": null,
   "id": "bc3ab0d3",
   "metadata": {},
   "outputs": [],
   "source": [
    "# 지역이 있는 종목만 필터링하기\n",
    "stock_list = stock_list.loc[stock_list['Region'].notnull()] # 선물, 우선주 등이 지역 정보가 없음"
   ]
  },
  {
   "cell_type": "code",
   "execution_count": null,
   "id": "7e72bd97",
   "metadata": {},
   "outputs": [],
   "source": [
    "# 종목 정보 내보내기 (csv로 저장하면 0으로 시작하는 종목 정보가 깨지는 경우가 있어 텍스트로 저장)\n",
    "stock_list.to_csv(\"../../데이터/종목정보.txt\", sep = \"\\t\", index = False, encoding = \"euc-kr\") "
   ]
  },
  {
   "cell_type": "markdown",
   "id": "d40276e7",
   "metadata": {},
   "source": [
    "#### 코스피 및 코스닥 전종목 주가 데이터 수집"
   ]
  },
  {
   "cell_type": "code",
   "execution_count": null,
   "id": "bdc75c14",
   "metadata": {},
   "outputs": [],
   "source": [
    "# 전 종목 순회 및 데이터 저장\n",
    "import time\n",
    "for code, name in stock_list[['Symbol', \"Name\"]].values:\n",
    "    print(code, name)\n",
    "    while True:\n",
    "        try:\n",
    "            data = fdr.DataReader(code, \"2011-01-01\", \"2021-09-30\")\n",
    "            if len(data) > 300:\n",
    "                data.to_csv(\"../../데이터/주가데이터/{}.csv\".format(name))\n",
    "            time.sleep(1)\n",
    "            break # 정상적으로 데이터 저장까지 완료되면 반복문에서 빠져나감\n",
    "        except:\n",
    "            time.sleep(10 * 60) # 연결이 끊어지면 10분 재움"
   ]
  }
 ],
 "metadata": {
  "kernelspec": {
   "display_name": "Python 3",
   "language": "python",
   "name": "python3"
  },
  "language_info": {
   "codemirror_mode": {
    "name": "ipython",
    "version": 3
   },
   "file_extension": ".py",
   "mimetype": "text/x-python",
   "name": "python",
   "nbconvert_exporter": "python",
   "pygments_lexer": "ipython3",
   "version": "3.8.8"
  }
 },
 "nbformat": 4,
 "nbformat_minor": 5
}
