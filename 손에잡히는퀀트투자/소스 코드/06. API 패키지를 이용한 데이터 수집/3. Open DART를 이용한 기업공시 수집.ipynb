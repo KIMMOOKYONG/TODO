{
 "cells": [
  {
   "cell_type": "code",
   "execution_count": null,
   "id": "057b46a4",
   "metadata": {},
   "outputs": [],
   "source": [
    "import OpenDartReader"
   ]
  },
  {
   "cell_type": "markdown",
   "id": "febeddf0",
   "metadata": {},
   "source": [
    "### 객체 생성"
   ]
  },
  {
   "cell_type": "code",
   "execution_count": null,
   "id": "42ae5345",
   "metadata": {},
   "outputs": [],
   "source": [
    "import OpenDartReader # 모듈 불러오기\n",
    "my_api = \"my_api\" # API KEY 지정 \n",
    "dart = OpenDartReader(my_api) # OpenDartReader 객체 생성하기"
   ]
  },
  {
   "cell_type": "markdown",
   "id": "67d1f28d",
   "metadata": {},
   "source": [
    "### 주요 메서드"
   ]
  },
  {
   "cell_type": "markdown",
   "id": "475cf31a",
   "metadata": {},
   "source": [
    "#### list 메서드"
   ]
  },
  {
   "cell_type": "code",
   "execution_count": null,
   "id": "9e33f6ba",
   "metadata": {},
   "outputs": [],
   "source": [
    "result = dart.list(\"삼성전자\", start = \"2020-01-01\", end = \"2020-12-31\")\n",
    "display(result.head()) # 위 5개 행 출력\n",
    "display(result.shape) # 데이터프레임 구조 출력"
   ]
  },
  {
   "cell_type": "markdown",
   "id": "3dc4bc81",
   "metadata": {},
   "source": [
    "#### document 메서드"
   ]
  },
  {
   "cell_type": "code",
   "execution_count": null,
   "id": "e618aabd",
   "metadata": {},
   "outputs": [],
   "source": [
    "doc = dart.document(\"20201231000272\")\n",
    "print(doc)"
   ]
  },
  {
   "cell_type": "markdown",
   "id": "bc584238",
   "metadata": {},
   "source": [
    "#### company 메서드"
   ]
  },
  {
   "cell_type": "code",
   "execution_count": null,
   "id": "54acad57",
   "metadata": {},
   "outputs": [],
   "source": [
    "print(dart.company(\"현대자동차\"))"
   ]
  },
  {
   "cell_type": "markdown",
   "id": "fd5da0a9",
   "metadata": {},
   "source": [
    "#### report 메서드"
   ]
  },
  {
   "cell_type": "code",
   "execution_count": null,
   "id": "cb277326",
   "metadata": {},
   "outputs": [],
   "source": [
    "display(dart.report(\"SK하이닉스\", \"배당\", 2020, \"11011\"))"
   ]
  },
  {
   "cell_type": "markdown",
   "id": "7efcc1f7",
   "metadata": {},
   "source": [
    "#### finstate 메서드"
   ]
  },
  {
   "cell_type": "code",
   "execution_count": null,
   "id": "26cc5091",
   "metadata": {},
   "outputs": [],
   "source": [
    "result = dart.finstate(\"LG전자\", 2020, \"11011\") \n",
    "result = result.loc[result[\"fs_nm\"] == \"연결재무제표\"] \n",
    "result = result.loc[result[\"account_nm\"].isin([\"당기순이익\", \"영업이익\", \"매출액\"])] \n",
    "result = result.loc[:, [\"account_nm\", \"fs_nm\", \"sj_nm\", \"thstrm_dt\", \"thstrm_amount\"]]\n",
    "display(result)"
   ]
  },
  {
   "cell_type": "code",
   "execution_count": null,
   "id": "63ff288b",
   "metadata": {},
   "outputs": [],
   "source": [
    "print(result[\"thstrm_amount\"].dtype) # 데이터 타입 확인"
   ]
  },
  {
   "cell_type": "code",
   "execution_count": null,
   "id": "d2b643d0",
   "metadata": {},
   "outputs": [],
   "source": [
    "def remove_comma(value):\n",
    "    return float(value.replace(\",\", \"\"))\n",
    "\n",
    "display(result[\"thstrm_amount\"].apply(remove_comma))"
   ]
  },
  {
   "cell_type": "code",
   "execution_count": null,
   "id": "37575be2",
   "metadata": {},
   "outputs": [],
   "source": [
    "display(result[\"thstrm_amount\"].str.replace(\",\", \"\").astype(float))"
   ]
  }
 ],
 "metadata": {
  "kernelspec": {
   "display_name": "Python 3",
   "language": "python",
   "name": "python3"
  },
  "language_info": {
   "codemirror_mode": {
    "name": "ipython",
    "version": 3
   },
   "file_extension": ".py",
   "mimetype": "text/x-python",
   "name": "python",
   "nbconvert_exporter": "python",
   "pygments_lexer": "ipython3",
   "version": "3.8.8"
  }
 },
 "nbformat": 4,
 "nbformat_minor": 5
}
