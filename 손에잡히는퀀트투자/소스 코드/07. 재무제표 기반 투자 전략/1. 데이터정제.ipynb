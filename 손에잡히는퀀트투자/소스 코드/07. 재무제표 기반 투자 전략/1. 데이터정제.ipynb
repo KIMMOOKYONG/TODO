{
 "cells": [
  {
   "cell_type": "markdown",
   "id": "a9bc64bb",
   "metadata": {},
   "source": [
    "###  주가 데이터 병합"
   ]
  },
  {
   "cell_type": "markdown",
   "id": "5a537f04",
   "metadata": {},
   "source": [
    "#### 데이터 불러오기"
   ]
  },
  {
   "cell_type": "code",
   "execution_count": null,
   "id": "6f6ddaf0",
   "metadata": {},
   "outputs": [],
   "source": [
    "import pandas as pd\n",
    "data = pd.read_csv(\"../../데이터/주요재무지표.csv\", encoding = \"euc-kr\")\n",
    "data.drop(['자산총계', '부채총계', '자본총계', '매출액', '영업이익', '당기순이익'],\n",
    "          axis = 1, inplace = True)"
   ]
  },
  {
   "cell_type": "code",
   "execution_count": null,
   "id": "c8bc80e4",
   "metadata": {},
   "outputs": [],
   "source": [
    "stock_info_data = pd.read_csv(\"../../데이터/종목정보.txt\", sep = \"\\t\", encoding = \"euc-kr\")\n",
    "settle_month_dict = stock_info_data.set_index('Name')['SettleMonth']\n",
    "settle_month_dict = settle_month_dict.apply(lambda x:int(x[:-1])).to_dict()"
   ]
  },
  {
   "cell_type": "code",
   "execution_count": null,
   "id": "26d172ed",
   "metadata": {},
   "outputs": [],
   "source": [
    "sub_due_data = pd.read_csv(\"../../데이터/사업보고서_제출마감일.csv\", encoding =\"euc-kr\")\n",
    "sub_due_dict = sub_due_data.set_index(['결산월', '사업연도'])['제출마감일'].to_dict()"
   ]
  },
  {
   "cell_type": "code",
   "execution_count": null,
   "id": "b937d788",
   "metadata": {},
   "outputs": [],
   "source": [
    "import os\n",
    "sp_data_dict = dict()\n",
    "for stock in data['기업'].unique():\n",
    "    if stock + \".csv\" in os.listdir(\"../../데이터/주가데이터\"):\n",
    "        sp_data = pd.read_csv(\"../../데이터/주가데이터/\" + stock + \".csv\",\n",
    "                              usecols = [\"Date\", \"Close\"],\n",
    "                              parse_dates = [\"Date\"])\n",
    "        sp_data_dict[stock] = sp_data    "
   ]
  },
  {
   "cell_type": "markdown",
   "id": "b591936b",
   "metadata": {},
   "source": [
    "#### 데이터 병합"
   ]
  },
  {
   "cell_type": "code",
   "execution_count": null,
   "id": "fdfaa949",
   "metadata": {},
   "outputs": [],
   "source": [
    "def find_closest_stock_price(sp_data, date):\n",
    "    date = pd.to_datetime(date) # 날짜 자료형으로 변환\n",
    "    # 주가 데이터를 벗어나는 범위의 날짜가 입력되면 결측을 반환\n",
    "    if sp_data['Date'].max() < date: \n",
    "        return np.nan\n",
    "    else:\n",
    "        while True:\n",
    "            # date와 같은 날짜가 Date에 있으면\n",
    "            if sum(sp_data['Date'] == date) > 0: \n",
    "                # 해당 날짜의 종가를 저장\n",
    "                value = sp_data.loc[sp_data['Date'] == date, 'Close'].iloc[0]  \n",
    "                break\n",
    "            else: # date와 같은 날짜의 Date가 없으면, 하루 증가\n",
    "                date += pd.to_timedelta(1, 'D')\n",
    "        return value"
   ]
  },
  {
   "cell_type": "code",
   "execution_count": null,
   "id": "5175529f",
   "metadata": {
    "scrolled": true
   },
   "outputs": [],
   "source": [
    "import numpy as np\n",
    "\n",
    "cur_sp_list = [] # 현재 주가\n",
    "next_sp_list = [] # 미래 주가\n",
    "\n",
    "for corp, year in data[['기업', '연도']].values:\n",
    "    print(corp, year)\n",
    "    if corp not in sp_data_dict.keys(): # 데이터가 없으면\n",
    "        cur_sp_list.append(np.nan)\n",
    "        next_sp_list.append(np.nan)\n",
    "    else:\n",
    "        # 주가 데이터 및 결산월 가져오기\n",
    "        sp_data = sp_data_dict[corp]\n",
    "        settle_month = settle_month_dict[corp]\n",
    "        # 현재 주가 탐색 및 추가\n",
    "        try:\n",
    "            cur_date = sub_due_dict[settle_month, year] \n",
    "            cur_sp = find_closest_stock_price(sp_data, cur_date)\n",
    "            cur_sp_list.append(cur_sp)\n",
    "        except:\n",
    "            cur_sp_list.append(np.nan)\n",
    "        # 미래 주가 탐색 및 추가 \n",
    "        try:\n",
    "            next_date = sub_due_dict[settle_month, year+1]\n",
    "            next_sp = find_closest_stock_price(sp_data, next_date)\n",
    "            next_sp_list.append(next_sp)\n",
    "        except:\n",
    "            next_sp_list.append(np.nan)\n",
    "        \n",
    "data['현재_주가'] = cur_sp_list\n",
    "data['미래_주가'] = next_sp_list"
   ]
  },
  {
   "cell_type": "markdown",
   "id": "7b221840",
   "metadata": {},
   "source": [
    "### 배당금 및 PER 데이터 병합"
   ]
  },
  {
   "cell_type": "markdown",
   "id": "af5563f7",
   "metadata": {},
   "source": [
    "#### 데이터 불러오기 및 확인"
   ]
  },
  {
   "cell_type": "code",
   "execution_count": null,
   "id": "85bdd552",
   "metadata": {},
   "outputs": [],
   "source": [
    "div_data = pd.read_csv(\"../../데이터/배당금.csv\", encoding = \"euc-kr\")\n",
    "PER_data = pd.read_csv(\"../../데이터/PER.csv\", encoding = \"euc-kr\")"
   ]
  },
  {
   "cell_type": "code",
   "execution_count": null,
   "id": "0f50dfbf",
   "metadata": {},
   "outputs": [],
   "source": [
    "display(div_data.head())\n",
    "display(PER_data.head())"
   ]
  },
  {
   "cell_type": "markdown",
   "id": "b62da1f8",
   "metadata": {},
   "source": [
    "#### 데이터 구조 변환"
   ]
  },
  {
   "cell_type": "code",
   "execution_count": null,
   "id": "ac1e072c",
   "metadata": {
    "scrolled": true
   },
   "outputs": [],
   "source": [
    "year_col_list = ['2013', '2014', '2015', '2016', '2017', '2018', '2019', '2020']\n",
    "div_data = div_data.melt(id_vars = ['stock_name'], value_vars = year_col_list)\n",
    "display(div_data.head())"
   ]
  },
  {
   "cell_type": "code",
   "execution_count": null,
   "id": "0465f27f",
   "metadata": {},
   "outputs": [],
   "source": [
    "div_data.rename({\"stock_name\":\"기업\", \"variable\":\"연도\", \"value\":\"배당금\"},\n",
    "                 axis = 1, inplace = True)\n",
    "div_data['연도'] = div_data['연도'].astype(int)"
   ]
  },
  {
   "cell_type": "code",
   "execution_count": null,
   "id": "c44b4c59",
   "metadata": {},
   "outputs": [],
   "source": [
    "PER_data = PER_data.melt(id_vars = ['stock_name'], value_vars = year_col_list)\n",
    "PER_data.rename({\"stock_name\":\"기업\", \"variable\":\"연도\", \"value\":\"PER\"},\n",
    "                            axis = 1, inplace = True)\n",
    "PER_data['연도'] = PER_data['연도'].astype(int)"
   ]
  },
  {
   "cell_type": "markdown",
   "id": "2515b2bd",
   "metadata": {},
   "source": [
    "#### 데이터 병합"
   ]
  },
  {
   "cell_type": "code",
   "execution_count": null,
   "id": "138f1c3b",
   "metadata": {
    "scrolled": true
   },
   "outputs": [],
   "source": [
    "data = pd.merge(data, div_data, on = ['기업', '연도'], how = \"left\")\n",
    "data = pd.merge(data, PER_data, on = ['기업', '연도'], how = \"left\")"
   ]
  },
  {
   "cell_type": "markdown",
   "id": "21856533",
   "metadata": {},
   "source": [
    "#### 데이터 내보내기"
   ]
  },
  {
   "cell_type": "code",
   "execution_count": null,
   "id": "537b8ecd",
   "metadata": {},
   "outputs": [],
   "source": [
    "display(data.head())"
   ]
  },
  {
   "cell_type": "code",
   "execution_count": null,
   "id": "f7b26d0a",
   "metadata": {},
   "outputs": [],
   "source": [
    "data.to_csv(\"../../데이터/재무제표_분석용데이터.csv\", index = False, encoding = \"euc-kr\")"
   ]
  }
 ],
 "metadata": {
  "kernelspec": {
   "display_name": "Python 3",
   "language": "python",
   "name": "python3"
  },
  "language_info": {
   "codemirror_mode": {
    "name": "ipython",
    "version": 3
   },
   "file_extension": ".py",
   "mimetype": "text/x-python",
   "name": "python",
   "nbconvert_exporter": "python",
   "pygments_lexer": "ipython3",
   "version": "3.8.8"
  }
 },
 "nbformat": 4,
 "nbformat_minor": 5
}
