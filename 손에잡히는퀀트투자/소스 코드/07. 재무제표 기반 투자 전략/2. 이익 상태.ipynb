{
 "cells": [
  {
   "cell_type": "markdown",
   "id": "4a29c673",
   "metadata": {},
   "source": [
    "### 데이터 준비"
   ]
  },
  {
   "cell_type": "code",
   "execution_count": null,
   "id": "9e9ca2c7",
   "metadata": {},
   "outputs": [],
   "source": [
    "import pandas as pd\n",
    "cols = [\"기업\", \"연도\", \"현재_주가\", \"미래_주가\", \"영업이익_상태\", \"당기순이익_상태\"]\n",
    "data = pd.read_csv(\"../../데이터/재무제표_분석용데이터.csv\",\n",
    "                   usecols = cols,\n",
    "                   encoding=\"euc-kr\")"
   ]
  },
  {
   "cell_type": "code",
   "execution_count": null,
   "id": "e2922885",
   "metadata": {},
   "outputs": [],
   "source": [
    "data.dropna(inplace = True)"
   ]
  },
  {
   "cell_type": "markdown",
   "id": "c78e14b1",
   "metadata": {},
   "source": [
    "### 환경 설정"
   ]
  },
  {
   "cell_type": "code",
   "execution_count": null,
   "id": "a3b7142a",
   "metadata": {},
   "outputs": [],
   "source": [
    "import warnings\n",
    "warnings.filterwarnings(\"ignore\")"
   ]
  },
  {
   "cell_type": "code",
   "execution_count": null,
   "id": "14dde219",
   "metadata": {},
   "outputs": [],
   "source": [
    "import seaborn as sns\n",
    "from matplotlib import pyplot as plt\n",
    "from matplotlib import rcParams\n",
    "sns.set()\n",
    "%matplotlib inline\n",
    "rcParams['font.family'] = 'Malgun Gothic'\n",
    "rcParams['axes.unicode_minus'] = False"
   ]
  },
  {
   "cell_type": "markdown",
   "id": "9351bdae",
   "metadata": {},
   "source": [
    "### 데이터 탐색 및 시각화"
   ]
  },
  {
   "cell_type": "markdown",
   "id": "49d7b75a",
   "metadata": {},
   "source": [
    "#### 상태 변수 분포 확인"
   ]
  },
  {
   "cell_type": "code",
   "execution_count": null,
   "id": "ba42de5d",
   "metadata": {},
   "outputs": [],
   "source": [
    "display(data['영업이익_상태'].value_counts(normalize = True))"
   ]
  },
  {
   "cell_type": "code",
   "execution_count": null,
   "id": "7b2233fa",
   "metadata": {
    "scrolled": true
   },
   "outputs": [],
   "source": [
    "display(data['당기순이익_상태'].value_counts(normalize = True))"
   ]
  },
  {
   "cell_type": "markdown",
   "id": "3a70ff93",
   "metadata": {},
   "source": [
    "#### 상태에 따른 수익률 시각화"
   ]
  },
  {
   "cell_type": "code",
   "execution_count": null,
   "id": "378dec68",
   "metadata": {},
   "outputs": [],
   "source": [
    "data['수익률'] = (data['미래_주가'] - data['현재_주가']) / data['현재_주가'] * 100"
   ]
  },
  {
   "cell_type": "code",
   "execution_count": null,
   "id": "2ac3eef5",
   "metadata": {},
   "outputs": [],
   "source": [
    "# 영업이익 상태에 따른 수익률 시각화\n",
    "plt.figure(figsize = (10, 6))\n",
    "graph_data = []\n",
    "for state in [\"흑자지속\", \"적자지속\", \"흑자전환\", \"적자전환\"]:\n",
    "    value = data.loc[data[\"영업이익_상태\"] == state, \"수익률\"]\n",
    "    graph_data.append(value)\n",
    "plt.boxplot(graph_data)\n",
    "plt.ylim(-100, 100)\n",
    "plt.xticks([1, 2, 3, 4], [\"흑자지속\", \"적자지속\", \"흑자전환\", \"적자전환\"])\n",
    "plt.ylabel(\"수익률\")"
   ]
  },
  {
   "cell_type": "code",
   "execution_count": null,
   "id": "85337443",
   "metadata": {},
   "outputs": [],
   "source": [
    "# 당기순이익 상태에 따른 수익률 시각화\n",
    "plt.figure(figsize = (10, 6))\n",
    "graph_data = []\n",
    "for state in [\"흑자지속\", \"적자지속\", \"흑자전환\", \"적자전환\"]:\n",
    "    value = data.loc[data[\"당기순이익_상태\"] == state, \"수익률\"]\n",
    "    graph_data.append(value)\n",
    "plt.boxplot(graph_data)\n",
    "plt.ylim(-100, 100)\n",
    "plt.xticks([1, 2, 3, 4], [\"흑자지속\", \"적자지속\", \"흑자전환\", \"적자전환\"])\n",
    "plt.ylabel(\"수익률\")"
   ]
  },
  {
   "cell_type": "markdown",
   "id": "664d853d",
   "metadata": {},
   "source": [
    "#### 상태에 따른 수익률 통계량 확인"
   ]
  },
  {
   "cell_type": "code",
   "execution_count": null,
   "id": "f2a083c6",
   "metadata": {},
   "outputs": [],
   "source": [
    "display(data.groupby(['영업이익_상태'])['수익률'].describe().round(2))"
   ]
  },
  {
   "cell_type": "code",
   "execution_count": null,
   "id": "e5c71e84",
   "metadata": {
    "scrolled": true
   },
   "outputs": [],
   "source": [
    "display(data.groupby(['당기순이익_상태'])['수익률'].describe().round(2))"
   ]
  },
  {
   "cell_type": "markdown",
   "id": "4513c623",
   "metadata": {},
   "source": [
    "### 동일 가중 교체 매매 방법에 따른 수익 비교"
   ]
  },
  {
   "cell_type": "markdown",
   "id": "5d820377",
   "metadata": {},
   "source": [
    "#### 영업이익 상태 기준"
   ]
  },
  {
   "cell_type": "code",
   "execution_count": null,
   "id": "c4a2950f",
   "metadata": {},
   "outputs": [],
   "source": [
    "result = []\n",
    "for year in range(2014, 2020):\n",
    "    y_data = data.loc[data['연도'] == year]\n",
    "    for state in [\"흑자지속\", \"적자지속\", \"흑자전환\", \"적자전환\"]:\n",
    "        # 영업이익 상태와 연도에 따른 수익률 정의 \n",
    "        ror_list = y_data.loc[data[\"영업이익_상태\"] == state, \"수익률\"]\n",
    "        inve_per_stock = 10 ** 8 / len(ror_list) # 종목별 투자금 계산\n",
    "        profit = (inve_per_stock * ror_list / 100).sum()\n",
    "        profit_ratio = profit / 10 ** 8 * 100\n",
    "        result.append([year, state, profit_ratio])\n",
    "result = pd.DataFrame(result, columns = [\"연도\", \"상태\", \"수익률\"]) "
   ]
  },
  {
   "cell_type": "code",
   "execution_count": null,
   "id": "7772be0c",
   "metadata": {},
   "outputs": [],
   "source": [
    "plt.figure(figsize = (10, 4))\n",
    "for state in [\"흑자지속\", \"적자지속\", \"흑자전환\", \"적자전환\"]:\n",
    "    graph_data = result.loc[(result['상태'] ==  state), '수익률'].values    \n",
    "    plt.plot(graph_data, marker = \"o\", label = state)\n",
    "plt.xticks(range(6), range(2014, 2020))\n",
    "plt.legend()\n",
    "plt.ylabel(\"수익률(%)\")\n",
    "plt.xlabel(\"연도\")"
   ]
  },
  {
   "cell_type": "code",
   "execution_count": null,
   "id": "401a3d2a",
   "metadata": {},
   "outputs": [],
   "source": [
    "display(result.groupby('상태')['수익률'].describe().round(2))"
   ]
  },
  {
   "cell_type": "markdown",
   "id": "19894275",
   "metadata": {},
   "source": [
    "#### 당기순이익 상태 기준"
   ]
  },
  {
   "cell_type": "code",
   "execution_count": null,
   "id": "8d739e42",
   "metadata": {},
   "outputs": [],
   "source": [
    "result = []\n",
    "for year in range(2014, 2020):\n",
    "    y_data = data.loc[data['연도'] == year]\n",
    "    for state in [\"흑자지속\", \"적자지속\", \"흑자전환\", \"적자전환\"]:\n",
    "        # 당기순이익 상태와 연도에 따른 수익률 정의 \n",
    "        ror_list = y_data.loc[data[\"당기순이익_상태\"] == state, \"수익률\"]\n",
    "        inve_per_stock = 10 ** 8 / len(ror_list) # 종목별 투자금 계산\n",
    "        profit = (inve_per_stock * ror_list / 100).sum()\n",
    "        profit_ratio = profit / 10 ** 8 * 100\n",
    "        result.append([year, state, profit_ratio])\n",
    "result = pd.DataFrame(result, columns = [\"연도\", \"상태\", \"수익률\"]) "
   ]
  },
  {
   "cell_type": "code",
   "execution_count": null,
   "id": "f82dde19",
   "metadata": {},
   "outputs": [],
   "source": [
    "plt.figure(figsize = (10, 4))\n",
    "for state in [\"흑자지속\", \"적자지속\", \"흑자전환\", \"적자전환\"]:\n",
    "    graph_data = result.loc[(result['상태'] ==  state), '수익률'].values    \n",
    "    plt.plot(graph_data, marker = \"o\", label = state)\n",
    "plt.xticks(range(6), range(2014, 2020))\n",
    "plt.legend()\n",
    "plt.ylabel(\"수익률\")\n",
    "plt.xlabel(\"연도\")"
   ]
  },
  {
   "cell_type": "code",
   "execution_count": null,
   "id": "300deaa9",
   "metadata": {},
   "outputs": [],
   "source": [
    "display(result.groupby('상태')['수익률'].describe().round(2))"
   ]
  }
 ],
 "metadata": {
  "kernelspec": {
   "display_name": "Python 3",
   "language": "python",
   "name": "python3"
  },
  "language_info": {
   "codemirror_mode": {
    "name": "ipython",
    "version": 3
   },
   "file_extension": ".py",
   "mimetype": "text/x-python",
   "name": "python",
   "nbconvert_exporter": "python",
   "pygments_lexer": "ipython3",
   "version": "3.8.8"
  }
 },
 "nbformat": 4,
 "nbformat_minor": 5
}
