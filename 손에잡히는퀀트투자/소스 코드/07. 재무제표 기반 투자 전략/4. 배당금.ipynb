{
 "cells": [
  {
   "cell_type": "markdown",
   "id": "9d547906",
   "metadata": {},
   "source": [
    "### 환경 설정"
   ]
  },
  {
   "cell_type": "code",
   "execution_count": null,
   "id": "742db802",
   "metadata": {},
   "outputs": [],
   "source": [
    "import warnings\n",
    "warnings.filterwarnings(\"ignore\")"
   ]
  },
  {
   "cell_type": "code",
   "execution_count": null,
   "id": "f6ddc853",
   "metadata": {},
   "outputs": [],
   "source": [
    "import seaborn as sns\n",
    "from matplotlib import pyplot as plt\n",
    "from matplotlib import rcParams\n",
    "sns.set()\n",
    "%matplotlib inline\n",
    "rcParams['font.family'] = 'Malgun Gothic'\n",
    "rcParams['axes.unicode_minus'] = False "
   ]
  },
  {
   "cell_type": "markdown",
   "id": "6eff6a6d",
   "metadata": {},
   "source": [
    "### 데이터 준비"
   ]
  },
  {
   "cell_type": "code",
   "execution_count": null,
   "id": "fdf2833c",
   "metadata": {},
   "outputs": [],
   "source": [
    "import pandas as pd\n",
    "data = pd.read_csv(\"../../데이터/재무제표_분석용데이터.csv\",\n",
    "                   encoding = \"euc-kr\",\n",
    "                   usecols = ['기업', '연도', '현재_주가', '미래_주가', '배당금'])"
   ]
  },
  {
   "cell_type": "code",
   "execution_count": null,
   "id": "2006e876",
   "metadata": {},
   "outputs": [],
   "source": [
    "import numpy as np\n",
    "# 미래_배당금 및 배당유무 컬럼 추가\n",
    "data.rename({\"배당금\":\"현재_배당금\"}, axis = 1, inplace = True)\n",
    "data['미래_배당금'] = np.nan\n",
    "data['미래_배당금'].iloc[:-1] = data['현재_배당금'].iloc[1:]\n",
    "data.loc[data['연도'] == 2020, '미래_배당금'] = np.nan\n",
    "data['배당유무'] = (data['현재_배당금'] > 0)\n",
    "data.dropna(inplace = True)"
   ]
  },
  {
   "cell_type": "markdown",
   "id": "2e65c693",
   "metadata": {},
   "source": [
    "### 데이터 탐색 및 시각화"
   ]
  },
  {
   "cell_type": "markdown",
   "id": "2f817199",
   "metadata": {},
   "source": [
    "#### 배당 비율 시각화"
   ]
  },
  {
   "cell_type": "code",
   "execution_count": null,
   "id": "2272a201",
   "metadata": {},
   "outputs": [],
   "source": [
    "num_div = data.groupby('연도')['배당유무'].sum() \n",
    "num_corp = data['연도'].value_counts()\n",
    "div_ratio = num_div / num_corp\n",
    "div_ratio.plot(kind = \"bar\", figsize = (8, 5), title = \"배당한 기업 비율\")"
   ]
  },
  {
   "cell_type": "markdown",
   "id": "069927c6",
   "metadata": {},
   "source": [
    "#### 배당 유무에 따른 수익률 비교"
   ]
  },
  {
   "cell_type": "code",
   "execution_count": null,
   "id": "5c41ee4f",
   "metadata": {},
   "outputs": [],
   "source": [
    "data['수익률'] = (data['미래_주가'] - data['현재_주가']) / data['현재_주가'] * 100"
   ]
  },
  {
   "cell_type": "code",
   "execution_count": null,
   "id": "b526e955",
   "metadata": {},
   "outputs": [],
   "source": [
    "display(data.groupby(['연도', '배당유무'])['수익률'].describe().round(2))"
   ]
  },
  {
   "cell_type": "markdown",
   "id": "9a3a0173",
   "metadata": {},
   "source": [
    "#### 주가 대비 배당 비율에 따른 수익률 비교"
   ]
  },
  {
   "cell_type": "code",
   "execution_count": null,
   "id": "bd6286cf",
   "metadata": {},
   "outputs": [],
   "source": [
    "data['배당금/주가'] = data['현재_배당금'] / data['현재_주가']"
   ]
  },
  {
   "cell_type": "code",
   "execution_count": null,
   "id": "10ffa3a1",
   "metadata": {},
   "outputs": [],
   "source": [
    "data[\"배당금/주가 그룹\"] = 0\n",
    "for year in range(2013, 2020):\n",
    "    idx = data.loc[(data[\"연도\"] == year) & (data[\"배당유무\"])].index\n",
    "    data.loc[idx, \"배당금/주가 그룹\"] = pd.qcut(\n",
    "        data.loc[idx, \"배당금/주가\"], 4, labels=[1, 2, 3, 4]\n",
    "    ).astype(int)"
   ]
  },
  {
   "cell_type": "code",
   "execution_count": null,
   "id": "6aa634e3",
   "metadata": {},
   "outputs": [],
   "source": [
    "graph_data = data.groupby(['연도', '배당금/주가 그룹'])['수익률'].mean().unstack()\n",
    "plt.figure(figsize = (6, 6))\n",
    "sns.heatmap(graph_data, annot = True, fmt = \".2f\", linewidth = 1)\n",
    "plt.show()"
   ]
  },
  {
   "cell_type": "markdown",
   "id": "b9e7b8ee",
   "metadata": {},
   "source": [
    "### 동일 가중 교체 매매에 따른 수익 비교"
   ]
  },
  {
   "cell_type": "code",
   "execution_count": null,
   "id": "a815ff31",
   "metadata": {},
   "outputs": [],
   "source": [
    "result = []\n",
    "for year in range(2013, 2020):\n",
    "    y_data = data.loc[data['연도'] == year]\n",
    "    record = []\n",
    "    for group in range(5):\n",
    "        group_data = y_data.loc[data['배당금/주가 그룹'] == group]\n",
    "        inve_per_stock = 10**8 / len(group_data)\n",
    "        num_stock_list = inve_per_stock / group_data['현재_주가']\n",
    "        ror_list = (group_data['미래_주가'] - group_data['현재_주가'] + group_data['미래_배당금']) / group_data['현재_주가'] * 100\n",
    "        profit = (inve_per_stock * ror_list / 100).sum()\n",
    "        profit_ratio = profit / 10 ** 8 * 100\n",
    "        result.append([year, group, profit_ratio])\n",
    "result = pd.DataFrame(result, columns = [\"연도\", \"그룹\", \"수익률\"])"
   ]
  },
  {
   "cell_type": "code",
   "execution_count": null,
   "id": "5190e0a1",
   "metadata": {},
   "outputs": [],
   "source": [
    "plt.figure(figsize = (12, 6))\n",
    "for group in range(5):\n",
    "    graph_data = result.loc[(result['그룹'] == group), '수익률'].values    \n",
    "    plt.plot(graph_data, marker = \"o\", label = group)\n",
    "plt.xticks(range(7), range(2013, 2020))\n",
    "plt.legend()\n",
    "plt.ylabel(\"수익률\")\n",
    "plt.xlabel(\"연도\")"
   ]
  },
  {
   "cell_type": "code",
   "execution_count": null,
   "id": "42795f8a",
   "metadata": {},
   "outputs": [],
   "source": [
    "display(result.groupby('그룹')['수익률'].describe().round(2))"
   ]
  }
 ],
 "metadata": {
  "kernelspec": {
   "display_name": "Python 3",
   "language": "python",
   "name": "python3"
  },
  "language_info": {
   "codemirror_mode": {
    "name": "ipython",
    "version": 3
   },
   "file_extension": ".py",
   "mimetype": "text/x-python",
   "name": "python",
   "nbconvert_exporter": "python",
   "pygments_lexer": "ipython3",
   "version": "3.8.8"
  }
 },
 "nbformat": 4,
 "nbformat_minor": 5
}
