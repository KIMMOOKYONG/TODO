{
 "cells": [
  {
   "cell_type": "markdown",
   "id": "24f2e5f0",
   "metadata": {},
   "source": [
    "### 그래프 환경설정"
   ]
  },
  {
   "cell_type": "code",
   "execution_count": null,
   "id": "e6d796b2",
   "metadata": {},
   "outputs": [],
   "source": [
    "import seaborn as sns\n",
    "from matplotlib import pyplot as plt\n",
    "from matplotlib import rcParams\n",
    "sns.set()\n",
    "%matplotlib inline\n",
    "rcParams['font.family'] = 'Malgun Gothic'\n",
    "rcParams['axes.unicode_minus'] = False"
   ]
  },
  {
   "cell_type": "markdown",
   "id": "360c8755",
   "metadata": {},
   "source": [
    "### 데이터 정제"
   ]
  },
  {
   "cell_type": "code",
   "execution_count": null,
   "id": "b3eca4d8",
   "metadata": {
    "scrolled": true
   },
   "outputs": [],
   "source": [
    "import pandas as pd\n",
    "data = pd.read_csv(\"../../데이터/주가리포트.txt\", sep = \"\\t\", encoding = \"euc-kr\")\n",
    "display(data.head())"
   ]
  },
  {
   "cell_type": "markdown",
   "id": "0e45f1e6",
   "metadata": {},
   "source": [
    "#### 의견 표현 통일"
   ]
  },
  {
   "cell_type": "code",
   "execution_count": null,
   "id": "2e8f9fd3",
   "metadata": {},
   "outputs": [],
   "source": [
    "display(data['의견'].value_counts())"
   ]
  },
  {
   "cell_type": "code",
   "execution_count": null,
   "id": "db850c21",
   "metadata": {},
   "outputs": [],
   "source": [
    "data = data.loc[~data['의견'].isin(['매도', '-', 'Market Under Perform'])]"
   ]
  },
  {
   "cell_type": "code",
   "execution_count": null,
   "id": "f8ba70ed",
   "metadata": {},
   "outputs": [],
   "source": [
    "buy_opinions = ['매수(유지)', \"Outperform\", \"StrongBuy\", \"강력매수\", \"신규매수\", \"단기매수\", \"적극매수\"]\n",
    "data.loc[data['의견'].isin(buy_opinions), '의견'] = \"매수\"\n",
    "data.loc[data['의견'] != \"매수\", \"의견\"] = \"중립\""
   ]
  },
  {
   "cell_type": "code",
   "execution_count": null,
   "id": "1b2a6b45",
   "metadata": {},
   "outputs": [],
   "source": [
    "display(data['의견'].value_counts(normalize = True))"
   ]
  },
  {
   "cell_type": "markdown",
   "id": "fd4aaf64",
   "metadata": {},
   "source": [
    "#### 적정 숫자로 표현 "
   ]
  },
  {
   "cell_type": "code",
   "execution_count": null,
   "id": "96020faa",
   "metadata": {},
   "outputs": [],
   "source": [
    "import numpy as np\n",
    "def filtering_numeric(value):\n",
    "    if type(value) == float:\n",
    "        return value\n",
    "    else:\n",
    "        output = ''\n",
    "        for s in value:\n",
    "            if s.isnumeric():\n",
    "                output += s\n",
    "        if len(output) == 0:\n",
    "            return np.nan\n",
    "        else:\n",
    "            return int(output)"
   ]
  },
  {
   "cell_type": "code",
   "execution_count": null,
   "id": "4d1bf6f3",
   "metadata": {},
   "outputs": [],
   "source": [
    "print(filtering_numeric('12345'))\n",
    "print(filtering_numeric('없음'))\n",
    "print(filtering_numeric('12345원'))"
   ]
  },
  {
   "cell_type": "code",
   "execution_count": null,
   "id": "edc04550",
   "metadata": {
    "scrolled": true
   },
   "outputs": [],
   "source": [
    "data['적정가격'] = data['적정가격'].apply(filtering_numeric)\n",
    "data.dropna(inplace = True)"
   ]
  },
  {
   "cell_type": "markdown",
   "id": "1c14c6af",
   "metadata": {},
   "source": [
    "#### 주가 부착"
   ]
  },
  {
   "cell_type": "code",
   "execution_count": null,
   "id": "5eac78b4",
   "metadata": {},
   "outputs": [],
   "source": [
    "import os\n",
    "sp_data_dict = dict()\n",
    "path = \"../../데이터/주가데이터/\"\n",
    "for stock_name in data['종목명'].unique():\n",
    "    if stock_name + \".csv\" in os.listdir(path):\n",
    "        sp_data = pd.read_csv(path + stock_name + \".csv\", parse_dates = ['Date'])\n",
    "        sp_data_dict[stock_name] = sp_data\n",
    "    else:\n",
    "        data = data.loc[data['종목명'] != stock_name]"
   ]
  },
  {
   "cell_type": "code",
   "execution_count": null,
   "id": "a3a42fd0",
   "metadata": {},
   "outputs": [],
   "source": [
    "def find_stock_price(stock_name, date, direction = \"past\"):    \n",
    "    stock_data = sp_data_dict[stock_name]\n",
    "    if (direction == \"past\") and (stock_data['Date'].min() > date):\n",
    "        return np.nan    \n",
    "    elif (direction == \"future\") and (stock_data['Date'].max() < date):\n",
    "        return np.nan \n",
    "    else:\n",
    "        while True:\n",
    "            if sum(stock_data['Date'] == date) > 0: \n",
    "                value = stock_data.loc[stock_data['Date'] == date, 'Close'].iloc[0]  \n",
    "                break\n",
    "            else:\n",
    "                if direction == \"past\":\n",
    "                    date -= pd.to_timedelta(1, 'D')\n",
    "                else:\n",
    "                    date += pd.to_timedelta(1, 'D')\n",
    "        return value"
   ]
  },
  {
   "cell_type": "code",
   "execution_count": null,
   "id": "0901a8a3",
   "metadata": {},
   "outputs": [],
   "source": [
    "data[\"날짜\"] = pd.to_datetime(data[\"날짜\"])\n",
    "sp_col = []\n",
    "for idx, row in data.iterrows():\n",
    "    value = find_stock_price(row[\"종목명\"], row[\"날짜\"], direction = \"past\")\n",
    "    sp_col.append(value)\n",
    "data[\"주가\"] = sp_col"
   ]
  },
  {
   "cell_type": "markdown",
   "id": "14f3c44a",
   "metadata": {},
   "source": [
    "### 적정 가격과 주가 차이 탐색"
   ]
  },
  {
   "cell_type": "code",
   "execution_count": null,
   "id": "34500b9e",
   "metadata": {
    "scrolled": false
   },
   "outputs": [],
   "source": [
    "temp = (data['적정가격'] - data['주가']) / data['주가'] * 100\n",
    "temp.plot(kind = \"box\", ylim = (0, 100))"
   ]
  },
  {
   "cell_type": "code",
   "execution_count": null,
   "id": "590ccb4b",
   "metadata": {},
   "outputs": [],
   "source": [
    "display(temp.describe().round(3))"
   ]
  },
  {
   "cell_type": "code",
   "execution_count": null,
   "id": "27aa46ee",
   "metadata": {},
   "outputs": [],
   "source": [
    "display(data.iloc[temp.argmax()])\n",
    "display(data.iloc[temp.argmin()])"
   ]
  },
  {
   "cell_type": "code",
   "execution_count": null,
   "id": "14cd8694",
   "metadata": {},
   "outputs": [],
   "source": [
    "data = data.loc[~data['종목명'].isin(['삼성전자', '대한해운'])]\n",
    "data = data[data['적정가격'] > 0]"
   ]
  },
  {
   "cell_type": "markdown",
   "id": "652d81d6",
   "metadata": {},
   "source": [
    "### 리포트에 따른 투자 시 기대 수익률 계산"
   ]
  },
  {
   "cell_type": "code",
   "execution_count": null,
   "id": "36d460a7",
   "metadata": {},
   "outputs": [],
   "source": [
    "def calc_ror_based_on_report(report_data, D):\n",
    "    cur_sp_list = report_data['주가'].values\n",
    "    fut_date_list = (report_data['날짜'] + pd.to_timedelta(D, \"D\")).values\n",
    "    fut_sp_list = []\n",
    "    for stock_name, fut_date in zip(report_data['종목명'], fut_date_list):\n",
    "        fut_sp = find_stock_price(stock_name, fut_date, \"future\")\n",
    "        fut_sp_list.append(fut_sp)\n",
    "    fut_sp_list = np.array(fut_sp_list)\n",
    "    ror_list = (fut_sp_list - cur_sp_list) / cur_sp_list * 100\n",
    "    ror_list = ror_list[~np.isnan(ror_list)]\n",
    "    return ror_list"
   ]
  },
  {
   "cell_type": "code",
   "execution_count": null,
   "id": "83f0f40e",
   "metadata": {},
   "outputs": [],
   "source": [
    "buy_data = data.loc[data['의견'] == \"매수\"]\n",
    "hold_data = data.loc[data['의견'] == \"중립\"]"
   ]
  },
  {
   "cell_type": "code",
   "execution_count": null,
   "id": "60c3d0cc",
   "metadata": {},
   "outputs": [],
   "source": [
    "buy_3M_ror_list = calc_ror_based_on_report(buy_data, 90)\n",
    "hold_3M_ror_list = calc_ror_based_on_report(hold_data, 90)\n",
    "buy_6M_ror_list = calc_ror_based_on_report(buy_data, 180)\n",
    "hold_6M_ror_list = calc_ror_based_on_report(hold_data, 180)\n",
    "buy_1Y_ror_list = calc_ror_based_on_report(buy_data, 365)\n",
    "hold_1Y_ror_list = calc_ror_based_on_report(hold_data, 365)"
   ]
  },
  {
   "cell_type": "markdown",
   "id": "766c5bd4",
   "metadata": {},
   "source": [
    "#### 시각화"
   ]
  },
  {
   "cell_type": "code",
   "execution_count": null,
   "id": "dbec55e1",
   "metadata": {},
   "outputs": [],
   "source": [
    "plt.figure(figsize = (10, 6))\n",
    "plt.boxplot([buy_3M_ror_list, hold_3M_ror_list,\n",
    "             buy_6M_ror_list, hold_6M_ror_list,\n",
    "             buy_1Y_ror_list, hold_1Y_ror_list])\n",
    "plt.ylim(-30, 100)\n",
    "plt.xticks(range(1, 7), ['매수-3개월', '중립-3개월',\n",
    "                         '매수-6개월', '중립-6개월',\n",
    "                         '매수-1년', '중립-1년'])\n",
    "plt.show()"
   ]
  },
  {
   "cell_type": "code",
   "execution_count": null,
   "id": "fcb83ddb",
   "metadata": {},
   "outputs": [],
   "source": [
    "result = pd.concat([pd.Series(buy_3M_ror_list).describe(),\n",
    "                    pd.Series(hold_3M_ror_list).describe(),\n",
    "                    pd.Series(buy_6M_ror_list).describe(),\n",
    "                    pd.Series(hold_6M_ror_list).describe(),\n",
    "                    pd.Series(buy_1Y_ror_list).describe(),\n",
    "                    pd.Series(hold_1Y_ror_list).describe()],\n",
    "                   axis = 1)\n",
    "\n",
    "result.columns = ['매수-3개월', '중립-3개월', '매수-6개월', '중립-6개월', '매수-1년', '중립-1년']\n",
    "display(result.round(2))"
   ]
  },
  {
   "cell_type": "markdown",
   "id": "7b7b7d7b",
   "metadata": {},
   "source": [
    "### 적정 가격 관련 분석"
   ]
  },
  {
   "cell_type": "markdown",
   "id": "ec221798",
   "metadata": {},
   "source": [
    "#### 적정 가격과 현재 가격의 차이 (%) 계산"
   ]
  },
  {
   "cell_type": "code",
   "execution_count": null,
   "id": "58f39ada",
   "metadata": {},
   "outputs": [],
   "source": [
    "data['적정증가율'] = (data['적정가격'] - data['주가']) / data['주가'] * 100\n",
    "data = data.loc[data['적정증가율'] > 0]"
   ]
  },
  {
   "cell_type": "code",
   "execution_count": null,
   "id": "8be42255",
   "metadata": {},
   "outputs": [],
   "source": [
    "def assign_group(inc):\n",
    "    if inc >= 100:\n",
    "        return \"100%이상\"\n",
    "    elif inc >= 80:\n",
    "        return \"80-100%\"\n",
    "    elif inc >= 60:\n",
    "        return \"60-80%\"\n",
    "    elif inc>= 40:\n",
    "        return \"40-60%\"\n",
    "    elif inc>=20:\n",
    "        return \"20-40%\"\n",
    "    else:\n",
    "        return \"0-20%\""
   ]
  },
  {
   "cell_type": "code",
   "execution_count": null,
   "id": "20dcc619",
   "metadata": {
    "scrolled": true
   },
   "outputs": [],
   "source": [
    "data['적정증가율_그룹'] = data['적정증가율'].apply(assign_group)\n",
    "display(data['적정증가율_그룹'].value_counts())"
   ]
  },
  {
   "cell_type": "markdown",
   "id": "e187bba6",
   "metadata": {},
   "source": [
    "#### 적정 가격 도달까지 걸리는 시간 계산"
   ]
  },
  {
   "cell_type": "code",
   "execution_count": null,
   "id": "7f7d4239",
   "metadata": {},
   "outputs": [],
   "source": [
    "def cal_time_to_price(stock_name, date, price):\n",
    "    stock_data = sp_data_dict[stock_name]\n",
    "    cond = (stock_data['Date'] >= date) & (stock_data['Close'] >= price)\n",
    "    if sum(cond) > 0:\n",
    "        target_date = stock_data.loc[cond, 'Date'].iloc[0]\n",
    "        return (target_date - date).days\n",
    "    else:\n",
    "        return np.nan"
   ]
  },
  {
   "cell_type": "code",
   "execution_count": null,
   "id": "4a095371",
   "metadata": {},
   "outputs": [],
   "source": [
    "value_list = []\n",
    "for idx, row in data.iterrows():\n",
    "    value = cal_time_to_price(row[\"종목명\"], row[\"날짜\"], row[\"적정가격\"])\n",
    "    value_list.append(value)\n",
    "data[\"적정가격_도달시간\"] = value_list"
   ]
  },
  {
   "cell_type": "markdown",
   "id": "c8cee2e0",
   "metadata": {},
   "source": [
    "#### 적정 가격까지 도달한 종목의 비율 확인"
   ]
  },
  {
   "cell_type": "code",
   "execution_count": null,
   "id": "ce1446bb",
   "metadata": {},
   "outputs": [],
   "source": [
    "A = data[\"날짜\"] < pd.to_datetime(\"2021-06-30\")\n",
    "B = data[\"적정가격_도달시간\"].notnull()\n",
    "print(\"3개월 이전: {}\".format(round(sum(A&B) / sum(A),3)))\n",
    "\n",
    "A = data[\"날짜\"] < pd.to_datetime(\"2021-03-31\")\n",
    "B = data[\"적정가격_도달시간\"].notnull()\n",
    "print(\"6개월 이전: {}\".format(round(sum(A&B) / sum(A),3)))\n",
    "\n",
    "A = data[\"날짜\"] < pd.to_datetime(\"2020-09-30\")\n",
    "B = data[\"적정가격_도달시간\"].notnull()\n",
    "print(\"1년 이전: {}\".format(round(sum(A&B) / sum(A),3)))"
   ]
  },
  {
   "cell_type": "markdown",
   "id": "94fc5bab",
   "metadata": {},
   "source": [
    "#### 적정 가격에 도달하기까지 소요된 시간 분포 확인"
   ]
  },
  {
   "cell_type": "code",
   "execution_count": null,
   "id": "131cd45f",
   "metadata": {},
   "outputs": [],
   "source": [
    "data.dropna(inplace = True)"
   ]
  },
  {
   "cell_type": "code",
   "execution_count": null,
   "id": "7fd345d2",
   "metadata": {},
   "outputs": [],
   "source": [
    "display(data['적정가격_도달시간'].describe().astype(int))"
   ]
  },
  {
   "cell_type": "code",
   "execution_count": null,
   "id": "b45fe5c5",
   "metadata": {},
   "outputs": [],
   "source": [
    "display(data.groupby(['적정증가율_그룹'])['적정가격_도달시간'].describe().round(2))"
   ]
  }
 ],
 "metadata": {
  "kernelspec": {
   "display_name": "Python 3",
   "language": "python",
   "name": "python3"
  },
  "language_info": {
   "codemirror_mode": {
    "name": "ipython",
    "version": 3
   },
   "file_extension": ".py",
   "mimetype": "text/x-python",
   "name": "python",
   "nbconvert_exporter": "python",
   "pygments_lexer": "ipython3",
   "version": "3.8.8"
  }
 },
 "nbformat": 4,
 "nbformat_minor": 5
}
