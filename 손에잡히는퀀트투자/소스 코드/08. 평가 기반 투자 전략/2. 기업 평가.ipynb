{
 "cells": [
  {
   "cell_type": "markdown",
   "id": "ef8fae09",
   "metadata": {},
   "source": [
    "### 환경 설정"
   ]
  },
  {
   "cell_type": "code",
   "execution_count": null,
   "id": "afa0653e",
   "metadata": {},
   "outputs": [],
   "source": [
    "import warnings\n",
    "warnings.filterwarnings(\"ignore\")"
   ]
  },
  {
   "cell_type": "code",
   "execution_count": null,
   "id": "73730944",
   "metadata": {},
   "outputs": [],
   "source": [
    "import seaborn as sns\n",
    "from matplotlib import pyplot as plt\n",
    "from matplotlib import rcParams\n",
    "sns.set()\n",
    "%matplotlib inline\n",
    "rcParams['font.family'] = 'Malgun Gothic'\n",
    "rcParams['axes.unicode_minus'] = False "
   ]
  },
  {
   "cell_type": "markdown",
   "id": "3fa7b410",
   "metadata": {},
   "source": [
    "### 데이터 준비"
   ]
  },
  {
   "cell_type": "code",
   "execution_count": null,
   "id": "6ded21bf",
   "metadata": {
    "scrolled": false
   },
   "outputs": [],
   "source": [
    "import pandas as pd\n",
    "data = pd.read_csv(\"../../데이터/기업월별평점.csv\", encoding = \"euc-kr\")\n",
    "display(data.head())"
   ]
  },
  {
   "cell_type": "markdown",
   "id": "27f5a20c",
   "metadata": {},
   "source": [
    "#### 연도와 월 컬럼 생성"
   ]
  },
  {
   "cell_type": "code",
   "execution_count": null,
   "id": "7a5f72d6",
   "metadata": {},
   "outputs": [],
   "source": [
    "data[['연도', '월']] = data['날짜'].str.split('. ', expand = True).astype(int)"
   ]
  },
  {
   "cell_type": "markdown",
   "id": "5fdd4087",
   "metadata": {},
   "source": [
    "#### 주가 데이터와 병합"
   ]
  },
  {
   "cell_type": "code",
   "execution_count": null,
   "id": "4e2de5a2",
   "metadata": {},
   "outputs": [],
   "source": [
    "import numpy as np\n",
    "import os\n",
    "\n",
    "path = \"../../데이터/주가데이터/\"\n",
    "\n",
    "total_M_sp_data = pd.DataFrame()\n",
    "for stock_name in data['기업'].unique():\n",
    "    # 주가 데이터 불러오기 \n",
    "    if stock_name + \".csv\" in os.listdir(path):\n",
    "        sp_data = pd.read_csv(path + stock_name + \".csv\", parse_dates = [\"Date\"])\n",
    "    else:\n",
    "        data = data.loc[data['기업'] != stock_name]\n",
    "        continue\n",
    "    \n",
    "    # 연도와 월 추출\n",
    "    sp_data[\"연도\"] = sp_data[\"Date\"].dt.year\n",
    "    sp_data[\"월\"] = sp_data[\"Date\"].dt.month\n",
    "    \n",
    "    # 월별 평균가격, 월말가격 계산\n",
    "    M_sp_data = sp_data.groupby(['연도', '월'])['Close'].agg([np.mean,\n",
    "                                                              lambda x:x.iloc[-1]])\n",
    "    M_sp_data.reset_index(inplace = True)\n",
    "    M_sp_data.columns = [\"연도\", \"월\", \"평균가격\", \"월말가격\"]\n",
    "    M_sp_data[\"차월말가격\"] = np.nan\n",
    "    M_sp_data[\"차월말가격\"].iloc[:-1] = M_sp_data[\"월말가격\"].values[1:]\n",
    "    M_sp_data[\"기업\"] = stock_name\n",
    "\n",
    "    # 데이터 병합\n",
    "    total_M_sp_data = pd.concat([total_M_sp_data, M_sp_data],\n",
    "                                axis = 0, ignore_index = True)"
   ]
  },
  {
   "cell_type": "code",
   "execution_count": null,
   "id": "3cf11602",
   "metadata": {
    "scrolled": true
   },
   "outputs": [],
   "source": [
    "data = pd.merge(total_M_sp_data, data, on = [\"연도\", \"월\", \"기업\"])\n",
    "display(data.head())"
   ]
  },
  {
   "cell_type": "markdown",
   "id": "b5af1495",
   "metadata": {},
   "source": [
    "### 주가와 평점 간 관계 분석"
   ]
  },
  {
   "cell_type": "markdown",
   "id": "92d33dce",
   "metadata": {},
   "source": [
    "#### 상관관계 분석"
   ]
  },
  {
   "cell_type": "code",
   "execution_count": null,
   "id": "971e4c5b",
   "metadata": {},
   "outputs": [],
   "source": [
    "corr_result = []\n",
    "cols = [\"전체평점\", \"승진기회및가능성\", \"복지및급여\", \"업무와삶의균형\", \"사내문화\", \"경영진\"]\n",
    "for corp in data['기업'].unique():\n",
    "    corp_data = data.loc[data['기업'] == corp]\n",
    "    record = corp_data.corr().loc['평균가격', cols].values\n",
    "    corr_result.append(record)\n",
    "corr_result = pd.DataFrame(corr_result, columns = cols)"
   ]
  },
  {
   "cell_type": "code",
   "execution_count": null,
   "id": "a81c1e41",
   "metadata": {},
   "outputs": [],
   "source": [
    "display(corr_result.describe().round(3))"
   ]
  },
  {
   "cell_type": "code",
   "execution_count": null,
   "id": "a562c031",
   "metadata": {},
   "outputs": [],
   "source": [
    "plt.figure(figsize = (10 ,6))\n",
    "x = data.loc[data['기업'] == \"삼성전자\", '날짜'].values\n",
    "y1 = data.loc[data['기업'] == \"삼성전자\", '전체평점'].values\n",
    "y2 = data.loc[data['기업'] == \"삼성전자\", '평균가격'].values\n",
    "y2 = y2 / max(y2) * 5\n",
    "\n",
    "xticks_range = np.arange(0, sum(data['기업'] == \"삼성전자\"), 12)\n",
    "plt.xticks(xticks_range, x[xticks_range])\n",
    "plt.title(\"삼성전자\")\n",
    "plt.xlabel(\"날짜\")\n",
    "plt.plot(x, y1, label = \"평점\")\n",
    "plt.plot(x, y2, label = \"주가\")\n",
    "plt.legend()"
   ]
  },
  {
   "cell_type": "markdown",
   "id": "f482b45c",
   "metadata": {},
   "source": [
    "### 동일가중 교체 매매에 따른 수익 비교"
   ]
  },
  {
   "cell_type": "code",
   "execution_count": null,
   "id": "74aeea48",
   "metadata": {},
   "outputs": [],
   "source": [
    "def make_group(rating):\n",
    "    if rating <= 3.0:\n",
    "        return 1\n",
    "    elif rating <= 3.3:\n",
    "        return 2\n",
    "    elif rating <= 3.5:\n",
    "        return 3\n",
    "    elif rating <= 4.0:\n",
    "        return 4\n",
    "    else:\n",
    "        return 5"
   ]
  },
  {
   "cell_type": "code",
   "execution_count": null,
   "id": "d1992d60",
   "metadata": {},
   "outputs": [],
   "source": [
    "data['수익률'] = (data['차월말가격'] - data['월말가격']) / data['월말가격'] * 100\n",
    "data.dropna(inplace = True)"
   ]
  },
  {
   "cell_type": "code",
   "execution_count": null,
   "id": "253130a5",
   "metadata": {},
   "outputs": [],
   "source": [
    "def calc_ror_using_eqw_str(data, r_col): \n",
    "    group_list = data[r_col].apply(make_group)\n",
    "    ym_list = data[['연도', '월']].sort_values(['연도', '월']).drop_duplicates().values\n",
    "    result = []\n",
    "    for year, month in ym_list:\n",
    "        ym_data = data.loc[(data[\"연도\"] == year) & (data[\"월\"] == month)]\n",
    "        for group in range(1, 6):\n",
    "            group_data = ym_data.loc[group_list == group]\n",
    "            if len(group_data) == 0:\n",
    "                result.append([year, month, group, 0])\n",
    "            else:\n",
    "                ror_list = group_data['수익률']\n",
    "                inve_per_stock = 10**8 / len(ror_list)\n",
    "                profit = (inve_per_stock * ror_list / 100).sum()\n",
    "                profit_ratio = profit / 10 ** 8 * 100\n",
    "                result.append([year, month, group, profit_ratio])\n",
    "\n",
    "    result = pd.DataFrame(result, columns = [\"연도\", \"월\", \"그룹\", \"수익률\"])\n",
    "    return result"
   ]
  },
  {
   "cell_type": "code",
   "execution_count": null,
   "id": "b6fd6ce0",
   "metadata": {},
   "outputs": [],
   "source": [
    "def visualize_result(result):\n",
    "    ym_list = result[['연도', '월']].sort_values(['연도', '월']).drop_duplicates().values\n",
    "    plt.figure(figsize = (14, 5))\n",
    "    for group in range(1, 6):\n",
    "        plt.plot(result.loc[result['그룹'] == group, '수익률'].values, label = group)\n",
    "    xticks_range = np.arange(0, len(ym_list), 12)\n",
    "    plt.xticks(xticks_range, ym_list[xticks_range, 0])\n",
    "    plt.ylabel(\"수익률\")\n",
    "    plt.legend()"
   ]
  },
  {
   "cell_type": "markdown",
   "id": "faecc349",
   "metadata": {},
   "source": [
    "#### 전체평점"
   ]
  },
  {
   "cell_type": "code",
   "execution_count": null,
   "id": "9195f933",
   "metadata": {},
   "outputs": [],
   "source": [
    "r_col = \"전체평점\"\n",
    "result = calc_ror_using_eqw_str(data, r_col)"
   ]
  },
  {
   "cell_type": "code",
   "execution_count": null,
   "id": "22c10bc1",
   "metadata": {},
   "outputs": [],
   "source": [
    "visualize_result(result)"
   ]
  },
  {
   "cell_type": "code",
   "execution_count": null,
   "id": "f5984a61",
   "metadata": {},
   "outputs": [],
   "source": [
    "display(result.groupby('그룹')['수익률'].describe().round(3))"
   ]
  },
  {
   "cell_type": "markdown",
   "id": "d6208568",
   "metadata": {},
   "source": [
    "#### 승진 기회 및 가능성"
   ]
  },
  {
   "cell_type": "code",
   "execution_count": null,
   "id": "5020c7f9",
   "metadata": {},
   "outputs": [],
   "source": [
    "r_col = \"승진기회및가능성\"\n",
    "result = calc_ror_using_eqw_str(data, r_col)"
   ]
  },
  {
   "cell_type": "code",
   "execution_count": null,
   "id": "39141ae4",
   "metadata": {},
   "outputs": [],
   "source": [
    "visualize_result(result)"
   ]
  },
  {
   "cell_type": "code",
   "execution_count": null,
   "id": "047fe52d",
   "metadata": {},
   "outputs": [],
   "source": [
    "display(result.groupby('그룹')['수익률'].describe().round(3))"
   ]
  },
  {
   "cell_type": "markdown",
   "id": "4b929df9",
   "metadata": {},
   "source": [
    "#### 복지 및 급여"
   ]
  },
  {
   "cell_type": "code",
   "execution_count": null,
   "id": "1d2f18db",
   "metadata": {},
   "outputs": [],
   "source": [
    "r_col = \"복지및급여\"\n",
    "result = calc_ror_using_eqw_str(data, r_col)"
   ]
  },
  {
   "cell_type": "code",
   "execution_count": null,
   "id": "a46e5c02",
   "metadata": {},
   "outputs": [],
   "source": [
    "visualize_result(result)"
   ]
  },
  {
   "cell_type": "code",
   "execution_count": null,
   "id": "0ebe31ee",
   "metadata": {},
   "outputs": [],
   "source": [
    "display(result.groupby('그룹')['수익률'].describe().round(3))"
   ]
  },
  {
   "cell_type": "markdown",
   "id": "f8357023",
   "metadata": {},
   "source": [
    "#### 업무와 삶의 균형"
   ]
  },
  {
   "cell_type": "code",
   "execution_count": null,
   "id": "6b7577ae",
   "metadata": {},
   "outputs": [],
   "source": [
    "r_col = \"업무와삶의균형\"\n",
    "result = calc_ror_using_eqw_str(data, r_col)"
   ]
  },
  {
   "cell_type": "code",
   "execution_count": null,
   "id": "a715f3b8",
   "metadata": {},
   "outputs": [],
   "source": [
    "visualize_result(result)"
   ]
  },
  {
   "cell_type": "code",
   "execution_count": null,
   "id": "5077c21c",
   "metadata": {},
   "outputs": [],
   "source": [
    "display(result.groupby('그룹')['수익률'].describe().round(3))"
   ]
  },
  {
   "cell_type": "markdown",
   "id": "09b1b68a",
   "metadata": {},
   "source": [
    "#### 사내 문화"
   ]
  },
  {
   "cell_type": "code",
   "execution_count": null,
   "id": "b34fcb9f",
   "metadata": {},
   "outputs": [],
   "source": [
    "r_col = \"사내문화\"\n",
    "result = calc_ror_using_eqw_str(data, r_col)"
   ]
  },
  {
   "cell_type": "code",
   "execution_count": null,
   "id": "7ee7e2da",
   "metadata": {},
   "outputs": [],
   "source": [
    "visualize_result(result)"
   ]
  },
  {
   "cell_type": "code",
   "execution_count": null,
   "id": "980571c6",
   "metadata": {},
   "outputs": [],
   "source": [
    "display(result.groupby('그룹')['수익률'].describe().round(3))"
   ]
  },
  {
   "cell_type": "markdown",
   "id": "7b13de15",
   "metadata": {},
   "source": [
    "#### 경영진"
   ]
  },
  {
   "cell_type": "code",
   "execution_count": null,
   "id": "4e5e3706",
   "metadata": {},
   "outputs": [],
   "source": [
    "r_col = \"경영진\"\n",
    "result = calc_ror_using_eqw_str(data, r_col)"
   ]
  },
  {
   "cell_type": "code",
   "execution_count": null,
   "id": "83a638c2",
   "metadata": {
    "scrolled": true
   },
   "outputs": [],
   "source": [
    "visualize_result(result)"
   ]
  },
  {
   "cell_type": "code",
   "execution_count": null,
   "id": "fac209f1",
   "metadata": {},
   "outputs": [],
   "source": [
    "display(result.dropna().groupby('그룹')['수익률'].describe().round(3))"
   ]
  },
  {
   "cell_type": "code",
   "execution_count": null,
   "id": "0e880475",
   "metadata": {
    "scrolled": true
   },
   "outputs": [],
   "source": [
    "display(result.groupby('그룹')['수익률'].describe().round(3))"
   ]
  }
 ],
 "metadata": {
  "kernelspec": {
   "display_name": "Python 3",
   "language": "python",
   "name": "python3"
  },
  "language_info": {
   "codemirror_mode": {
    "name": "ipython",
    "version": 3
   },
   "file_extension": ".py",
   "mimetype": "text/x-python",
   "name": "python",
   "nbconvert_exporter": "python",
   "pygments_lexer": "ipython3",
   "version": "3.8.8"
  }
 },
 "nbformat": 4,
 "nbformat_minor": 5
}
