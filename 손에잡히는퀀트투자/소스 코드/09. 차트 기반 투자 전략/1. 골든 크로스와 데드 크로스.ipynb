{
 "cells": [
  {
   "cell_type": "markdown",
   "id": "f42f3ad8",
   "metadata": {},
   "source": [
    "### 환경 설정"
   ]
  },
  {
   "cell_type": "code",
   "execution_count": null,
   "id": "9af650cb",
   "metadata": {},
   "outputs": [],
   "source": [
    "import warnings\n",
    "warnings.filterwarnings(\"ignore\")"
   ]
  },
  {
   "cell_type": "code",
   "execution_count": null,
   "id": "2e0b41ad",
   "metadata": {},
   "outputs": [],
   "source": [
    "import seaborn as sns\n",
    "from matplotlib import pyplot as plt\n",
    "from matplotlib import rcParams\n",
    "sns.set()\n",
    "%matplotlib inline\n",
    "rcParams['font.family'] = 'Malgun Gothic'\n",
    "rcParams['font.size'] = 20\n",
    "rcParams['axes.unicode_minus'] = False "
   ]
  },
  {
   "cell_type": "code",
   "execution_count": null,
   "id": "f2636b41",
   "metadata": {},
   "outputs": [],
   "source": [
    "import os\n",
    "os.chdir(\"../../데이터\")"
   ]
  },
  {
   "cell_type": "markdown",
   "id": "1037412f",
   "metadata": {},
   "source": [
    "### 데이터 준비"
   ]
  },
  {
   "cell_type": "code",
   "execution_count": null,
   "id": "958518a9",
   "metadata": {},
   "outputs": [],
   "source": [
    "import pandas as pd\n",
    "sp_data_dict = dict()\n",
    "for file_name in os.listdir(\"주가데이터\"):\n",
    "    sp_data = pd.read_csv(\"주가데이터/\" + file_name, parse_dates = ['Date'])\n",
    "    stock_name = file_name.replace('.csv', '')\n",
    "    sp_data_dict[stock_name] = sp_data"
   ]
  },
  {
   "cell_type": "markdown",
   "id": "49c838c8",
   "metadata": {},
   "source": [
    "####  이동 평균 계산"
   ]
  },
  {
   "cell_type": "code",
   "execution_count": null,
   "id": "31b9b7d4",
   "metadata": {},
   "outputs": [],
   "source": [
    "for stock_name in sp_data_dict.keys():\n",
    "    # 이동 평균 계산\n",
    "    sp_data = sp_data_dict[stock_name]\n",
    "    sp_data['MA_5'] = sp_data['Close'].rolling(5).mean()\n",
    "    sp_data['MA_20'] = sp_data['Close'].rolling(20).mean()\n",
    "    sp_data['MA_60'] = sp_data['Close'].rolling(60).mean()\n",
    "    sp_data['MA_120'] = sp_data['Close'].rolling(120).mean()\n",
    "    sp_data.dropna(inplace = True)"
   ]
  },
  {
   "cell_type": "markdown",
   "id": "5d26afc9",
   "metadata": {},
   "source": [
    "#### 골든 크로스, 데드 크로스 변수 추가"
   ]
  },
  {
   "cell_type": "code",
   "execution_count": null,
   "id": "a67b1d34",
   "metadata": {},
   "outputs": [],
   "source": [
    "import itertools\n",
    "import numpy as np\n",
    "\n",
    "for stock_name in sp_data_dict.keys():\n",
    "    sp_data = sp_data_dict[stock_name]\n",
    "    for cross, st, lt in itertools.product(['G', 'D'], [5, 20], [60, 120]):\n",
    "        output_col = \"{}_{}_{}\".format(cross, st, lt)\n",
    "        st_col = \"MA_\" + str(st)\n",
    "        lt_col = \"MA_\" + str(lt)\n",
    "        st_data = sp_data[st_col].values\n",
    "        lt_data = sp_data[lt_col].values\n",
    "        if cross == \"G\":\n",
    "            output = (st_data[1:] >= lt_data[1:]) & (st_data[:-1] < lt_data[:-1])\n",
    "        elif cross == \"D\":\n",
    "            output = (st_data[1:] < lt_data[1:]) & (st_data[:-1] >= lt_data[:-1])\n",
    "        output = np.insert(output, 0, False)\n",
    "        sp_data[output_col] = output   "
   ]
  },
  {
   "cell_type": "markdown",
   "id": "3b283ded",
   "metadata": {},
   "source": [
    "#### 이동 평균선과 골든/데드 크로스 시각화: 삼성전자 예시"
   ]
  },
  {
   "cell_type": "code",
   "execution_count": null,
   "id": "013d3524",
   "metadata": {},
   "outputs": [],
   "source": [
    "plt.figure(figsize = (15, 8))\n",
    "samsung = sp_data_dict['삼성전자']\n",
    "plt.plot(samsung['Date'], samsung['MA_5'], label = \"5\")\n",
    "plt.plot(samsung['Date'], samsung['MA_60'], label = \"60\")\n",
    "\n",
    "golden_cross_data = samsung.loc[samsung['G_5_60']]\n",
    "dead_cross_data = samsung.loc[samsung['D_5_60']]\n",
    "\n",
    "plt.scatter(golden_cross_data['Date'], golden_cross_data['MA_60'],\n",
    "            label = \"골든크로스\", color = \"red\", s = 60)\n",
    "plt.scatter(dead_cross_data['Date'], dead_cross_data['MA_60'],\n",
    "            label = \"데드크로스\", color = \"blue\", s = 60)\n",
    "plt.legend()\n",
    "plt.ylabel(\"주가\")\n",
    "plt.xlabel(\"날짜\")"
   ]
  },
  {
   "cell_type": "markdown",
   "id": "09c5989f",
   "metadata": {},
   "source": [
    "### 골든/데드 크로스 발생시 매매하는 전략 검증"
   ]
  },
  {
   "cell_type": "markdown",
   "id": "865f21ed",
   "metadata": {},
   "source": [
    "#### 매매 전략 구현"
   ]
  },
  {
   "cell_type": "code",
   "execution_count": null,
   "id": "28d96ff3",
   "metadata": {},
   "outputs": [],
   "source": [
    "def calc_ror_using_gd_cross(sp_data_dict, stock_name, st, lt):\n",
    "    money = 10 ** 8\n",
    "    sp_data = sp_data_dict[stock_name]\n",
    "    gc_idx_list = sp_data.loc[sp_data['G_{}_{}'.format(st, lt)]].index\n",
    "    dc_idx_list = sp_data.loc[sp_data['D_{}_{}'.format(st, lt)]].index\n",
    "\n",
    "    for buy_idx in gc_idx_list:\n",
    "        if sum(dc_idx_list > buy_idx) == 0:\n",
    "            sell_idx = sp_data.index.max()\n",
    "        else:\n",
    "            sell_idx = dc_idx_list[dc_idx_list > buy_idx].min()\n",
    "        buy_price = sp_data.loc[buy_idx, 'Close']\n",
    "        sell_price = sp_data.loc[sell_idx, 'Close']\n",
    "        num_stocks = money / buy_price\n",
    "        money = num_stocks * sell_price\n",
    "    ror = (money - 10 ** 8) / 10 ** 8 * 100\n",
    "    return round(ror, 3)"
   ]
  },
  {
   "cell_type": "code",
   "execution_count": null,
   "id": "46b72343",
   "metadata": {},
   "outputs": [],
   "source": [
    "print(calc_ror_using_gd_cross(sp_data_dict, \"삼성전자\", 5, 60))"
   ]
  },
  {
   "cell_type": "code",
   "execution_count": null,
   "id": "01a1c0ae",
   "metadata": {},
   "outputs": [],
   "source": [
    "def calc_ror_using_buy_and_hold(sp_data_dict, stock_name):\n",
    "    sp_data = sp_data_dict[stock_name]\n",
    "    buy_price = sp_data[\"Close\"].iloc[0]\n",
    "    sell_price = sp_data[\"Close\"].iloc[-1]\n",
    "    ror = (sell_price - buy_price) / buy_price * 100\n",
    "    return ror"
   ]
  },
  {
   "cell_type": "code",
   "execution_count": null,
   "id": "49df9579",
   "metadata": {},
   "outputs": [],
   "source": [
    "print(calc_ror_using_buy_and_hold(sp_data_dict, \"삼성전자\"))"
   ]
  },
  {
   "cell_type": "code",
   "execution_count": null,
   "id": "32d3f0be",
   "metadata": {
    "scrolled": true
   },
   "outputs": [],
   "source": [
    "print(samsung.loc[samsung['G_5_60'], 'Date'].iloc[0])\n",
    "print(samsung.loc[samsung['D_5_60'], 'Date'].iloc[-1])\n",
    "print(samsung['Date'].iloc[0])\n",
    "print(samsung['Date'].iloc[-1])"
   ]
  },
  {
   "cell_type": "markdown",
   "id": "4bd741de",
   "metadata": {},
   "source": [
    "#### 시장을 고려하지 않은 매매 전략 검증"
   ]
  },
  {
   "cell_type": "code",
   "execution_count": null,
   "id": "c76563d2",
   "metadata": {},
   "outputs": [],
   "source": [
    "result = []\n",
    "for stock_name in sp_data_dict.keys():\n",
    "    record = [stock_name]\n",
    "    for st, lt in itertools.product([5, 20], [60, 120]):\n",
    "        profit = calc_ror_using_gd_cross(sp_data_dict, stock_name, st, lt)\n",
    "        record.append(profit)\n",
    "    ror = calc_ror_using_buy_and_hold(sp_data_dict, stock_name)    \n",
    "    record.append(ror)\n",
    "    result.append(record)\n",
    "\n",
    "result = pd.DataFrame(result,\n",
    "         columns = [\"종목명\", \"5-60\", \"5-120\", \"20-60\", \"20-120\", \"바이앤홀드\"])"
   ]
  },
  {
   "cell_type": "code",
   "execution_count": null,
   "id": "6418f864",
   "metadata": {},
   "outputs": [],
   "source": [
    "display(result.describe().round(2))"
   ]
  },
  {
   "cell_type": "code",
   "execution_count": null,
   "id": "3c0a720c",
   "metadata": {},
   "outputs": [],
   "source": [
    "result.set_index('종목명').idxmax(axis = 1).value_counts(normalize = True)"
   ]
  },
  {
   "cell_type": "markdown",
   "id": "b1af8af8",
   "metadata": {},
   "source": [
    "#### 시장을 고려한 매매 전략 검증"
   ]
  },
  {
   "cell_type": "code",
   "execution_count": null,
   "id": "a39b05fc",
   "metadata": {
    "scrolled": false
   },
   "outputs": [],
   "source": [
    "market_cap = pd.read_excel(\"211104_시가총액.xlsx\")\n",
    "market_cap = market_cap.loc[market_cap['종목명'].isin(result['종목명'])]\n",
    "market_cap['그룹'] = pd.qcut(market_cap['시가총액'], 20, labels = range(1, 21))\n",
    "market_cap['그룹'] = market_cap['그룹'].astype(int)\n",
    "market_cap = market_cap[['종목명', '시장구분', '그룹']]\n",
    "display(market_cap.head())"
   ]
  },
  {
   "cell_type": "code",
   "execution_count": null,
   "id": "8eb43ae1",
   "metadata": {},
   "outputs": [],
   "source": [
    "result = pd.merge(result, market_cap, on = \"종목명\")"
   ]
  },
  {
   "cell_type": "code",
   "execution_count": null,
   "id": "8321eb7e",
   "metadata": {},
   "outputs": [],
   "source": [
    "cols = ['5-60', '5-120', '20-60', '20-120', '바이앤홀드']\n",
    "display(result.groupby('시장구분')[cols].apply(np.mean))"
   ]
  },
  {
   "cell_type": "code",
   "execution_count": null,
   "id": "5935e8be",
   "metadata": {
    "scrolled": false
   },
   "outputs": [],
   "source": [
    "result.groupby('그룹')[cols].apply(np.mean).plot(kind = 'bar', figsize = (15, 6))"
   ]
  },
  {
   "cell_type": "markdown",
   "id": "5c4a8fbb",
   "metadata": {},
   "source": [
    "### 골든 크로스 지점에서 매수시의 효과 분석"
   ]
  },
  {
   "cell_type": "markdown",
   "id": "40ea2c99",
   "metadata": {},
   "source": [
    "#### 거래량 컬럼 추가"
   ]
  },
  {
   "cell_type": "code",
   "execution_count": null,
   "id": "b15eae15",
   "metadata": {},
   "outputs": [],
   "source": [
    "for stock_name in sp_data_dict.keys():\n",
    "    stock_data = sp_data_dict[stock_name]\n",
    "    stock_data['V5'] = stock_data['Volume'].rolling(5).mean()\n",
    "    stock_data.dropna(inplace = True)\n",
    "    V5_10 = np.quantile(stock_data['V5'], 0.9)\n",
    "    V5_20 = np.quantile(stock_data['V5'], 0.8)\n",
    "    stock_data['V5_10_group'] = stock_data['V5'] > V5_10\n",
    "    stock_data['V5_20_group'] = stock_data['V5'] > V5_20"
   ]
  },
  {
   "cell_type": "markdown",
   "id": "106c80bb",
   "metadata": {},
   "source": [
    "#### 전략 구현"
   ]
  },
  {
   "cell_type": "code",
   "execution_count": null,
   "id": "a519541c",
   "metadata": {},
   "outputs": [],
   "source": [
    "def calc_ror(stock_data, buy_idx, num_day):\n",
    "    sell_idx = buy_idx + num_day\n",
    "    if sell_idx in stock_data.index:\n",
    "        buy_price = stock_data['Close'].loc[buy_idx]\n",
    "        sell_price = stock_data['Close'].loc[sell_idx]\n",
    "        ror = (sell_price - buy_price) / buy_price * 100\n",
    "        return ror\n",
    "    else:\n",
    "        return np.nan"
   ]
  },
  {
   "cell_type": "code",
   "execution_count": null,
   "id": "962394c9",
   "metadata": {},
   "outputs": [],
   "source": [
    "S = pd.Series([1,2,3,4], index = [\"A\", \"B\", \"C\", \"D\"])"
   ]
  },
  {
   "cell_type": "code",
   "execution_count": null,
   "id": "4f185a50",
   "metadata": {},
   "outputs": [],
   "source": [
    "print((S % 2 == 0).index)"
   ]
  },
  {
   "cell_type": "code",
   "execution_count": null,
   "id": "5651a8df",
   "metadata": {},
   "outputs": [],
   "source": [
    "result_dict = dict()\n",
    "for num_day in [60, 120, 240]:\n",
    "    gc_result = []  # 골든 크로스\n",
    "    v10_gc_result = []  # 거래량 상위 10% 골든 크로스\n",
    "    v20_gc_result = []  # 거래량 상위 20% 골든 크로스\n",
    "    random_result = []  # 임의\n",
    "\n",
    "    for stock_name in sp_data_dict.keys():\n",
    "        stock_data = sp_data_dict[stock_name]\n",
    "        # 인덱스 정의\n",
    "        gc_idx_list = stock_data.loc[stock_data[\"G_5_60\"]].index\n",
    "        v10_idx_list = stock_data.loc[stock_data[\"V5_10_group\"]].index\n",
    "        v10_gc_idx_list = v10_idx_list & gc_idx_list\n",
    "        v20_idx_list = stock_data.loc[stock_data[\"V5_20_group\"]].index\n",
    "        v20_gc_idx_list = v20_idx_list & gc_idx_list\n",
    "        ran_idx_candidate = stock_data.index[:-num_day]\n",
    "        ran_idx_list = np.random.choice(\n",
    "            ran_idx_candidate, min(len(ran_idx_candidate), 50), replace=False\n",
    "        )\n",
    "\n",
    "        for gc_idx in gc_idx_list:\n",
    "            ror = calc_ror(stock_data, gc_idx, num_day)\n",
    "            gc_result.append(ror)\n",
    "        for v10_gc_idx in v10_gc_idx_list:\n",
    "            ror = calc_ror(stock_data, v10_gc_idx, num_day)\n",
    "            v10_gc_result.append(ror)\n",
    "        for v20_gc_idx in v20_gc_idx_list:\n",
    "            ror = calc_ror(stock_data, v20_gc_idx, num_day)\n",
    "            v20_gc_result.append(ror)\n",
    "        for random_idx in ran_idx_list:\n",
    "            ror = calc_ror(stock_data, random_idx, num_day)\n",
    "            random_result.append(ror)\n",
    "    result_dict[num_day] = [gc_result, v10_gc_result, v20_gc_result, random_result]"
   ]
  },
  {
   "cell_type": "markdown",
   "id": "716f9982",
   "metadata": {},
   "source": [
    "#### 결과 확인"
   ]
  },
  {
   "cell_type": "code",
   "execution_count": null,
   "id": "559cb38c",
   "metadata": {},
   "outputs": [],
   "source": [
    "gc_result, v10_gc_result, v20_gc_result, random_result = result_dict[60]  # 60일\n",
    "gc_result = pd.Series(gc_result).describe()\n",
    "v10_gc_result = pd.Series(v10_gc_result).describe()\n",
    "v20_gc_result = pd.Series(v20_gc_result).describe()\n",
    "random_result = pd.Series(random_result).describe()\n",
    "total_result = pd.concat(\n",
    "    [gc_result, v10_gc_result, v20_gc_result, random_result], axis=1\n",
    ")\n",
    "total_result.columns = [\"골든크로스\", \"10%_골든크로스\", \"20%_골든크로스\", \"임의\"]\n",
    "display(total_result)"
   ]
  },
  {
   "cell_type": "code",
   "execution_count": null,
   "id": "f43632a1",
   "metadata": {},
   "outputs": [],
   "source": [
    "gc_result, v10_gc_result, v20_gc_result, random_result = result_dict[120]  # 120일\n",
    "gc_result = pd.Series(gc_result).describe()\n",
    "v10_gc_result = pd.Series(v10_gc_result).describe()\n",
    "v20_gc_result = pd.Series(v20_gc_result).describe()\n",
    "random_result = pd.Series(random_result).describe()\n",
    "total_result = pd.concat(\n",
    "    [gc_result, v10_gc_result, v20_gc_result, random_result], axis=1\n",
    ")\n",
    "total_result.columns = [\"골든크로스\", \"10%_골든크로스\", \"20%_골든크로스\", \"임의\"]\n",
    "display(total_result)"
   ]
  },
  {
   "cell_type": "code",
   "execution_count": null,
   "id": "674bf4ed",
   "metadata": {},
   "outputs": [],
   "source": [
    "gc_result, v10_gc_result, v20_gc_result, random_result = result_dict[240]  # 240일\n",
    "gc_result = pd.Series(gc_result).describe()\n",
    "v10_gc_result = pd.Series(v10_gc_result).describe()\n",
    "v20_gc_result = pd.Series(v20_gc_result).describe()\n",
    "random_result = pd.Series(random_result).describe()\n",
    "total_result = pd.concat(\n",
    "    [gc_result, v10_gc_result, v20_gc_result, random_result], axis=1\n",
    ")\n",
    "total_result.columns = [\"골든크로스\", \"10%_골든크로스\", \"20%_골든크로스\", \"임의\"]\n",
    "display(total_result)"
   ]
  }
 ],
 "metadata": {
  "kernelspec": {
   "display_name": "Python 3",
   "language": "python",
   "name": "python3"
  },
  "language_info": {
   "codemirror_mode": {
    "name": "ipython",
    "version": 3
   },
   "file_extension": ".py",
   "mimetype": "text/x-python",
   "name": "python",
   "nbconvert_exporter": "python",
   "pygments_lexer": "ipython3",
   "version": "3.8.8"
  }
 },
 "nbformat": 4,
 "nbformat_minor": 5
}
