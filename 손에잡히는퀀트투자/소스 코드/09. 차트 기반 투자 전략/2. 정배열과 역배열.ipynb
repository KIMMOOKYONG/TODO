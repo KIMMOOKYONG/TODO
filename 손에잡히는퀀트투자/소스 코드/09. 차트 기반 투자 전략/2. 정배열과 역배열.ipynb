{
 "cells": [
  {
   "cell_type": "markdown",
   "id": "bb8a2126",
   "metadata": {},
   "source": [
    "### 데이터 준비"
   ]
  },
  {
   "cell_type": "markdown",
   "id": "de575f60",
   "metadata": {},
   "source": [
    "#### 데이터 불러오기"
   ]
  },
  {
   "cell_type": "code",
   "execution_count": null,
   "id": "fedf21bd",
   "metadata": {},
   "outputs": [],
   "source": [
    "import pandas as pd\n",
    "stock_info = pd.read_excel(\"../../데이터/211104_시가총액.xlsx\")\n",
    "KOSPI_list = stock_info.loc[stock_info[\"시장구분\"] == \"KOSPI\", \"종목명\"].tolist()\n",
    "KOSDAQ_list = stock_info.loc[stock_info[\"시장구분\"] == \"KOSDAQ\", \"종목명\"].tolist()\n",
    "TOP100_list = stock_info.sort_values(by = \"시가총액\", ascending = False)['종목명'].iloc[:100].tolist()"
   ]
  },
  {
   "cell_type": "code",
   "execution_count": null,
   "id": "c0db4631",
   "metadata": {},
   "outputs": [],
   "source": [
    "import os\n",
    "sp_data_dict = dict()\n",
    "for file_name in os.listdir(\"../../데이터/주가데이터\"):\n",
    "    stock_name = file_name.replace('.csv', '')\n",
    "    sp_data = pd.read_csv(\"../../데이터/주가데이터/\" + file_name, \n",
    "                           usecols = [\"Date\", \"Close\"], parse_dates = ['Date'])\n",
    "    sp_data_dict[stock_name] = sp_data"
   ]
  },
  {
   "cell_type": "markdown",
   "id": "84fd946f",
   "metadata": {},
   "source": [
    "#### 정배열 및 역배열 컬럼 생성"
   ]
  },
  {
   "cell_type": "code",
   "execution_count": null,
   "id": "bc89de5a",
   "metadata": {},
   "outputs": [],
   "source": [
    "for stock_name in sp_data_dict.keys():\n",
    "    sp_data = sp_data_dict[stock_name]\n",
    "    sp_data[\"5일선\"] = sp_data[\"Close\"].rolling(5).mean()\n",
    "    sp_data[\"20일선\"] = sp_data[\"Close\"].rolling(20).mean()\n",
    "    sp_data[\"60일선\"] = sp_data[\"Close\"].rolling(60).mean()\n",
    "    sp_data[\"120일선\"] = sp_data[\"Close\"].rolling(120).mean()\n",
    "    sp_data.dropna(inplace = True)\n",
    "\n",
    "    sp_data[\"정배열\"] = (sp_data[\"5일선\"] >= sp_data[\"20일선\"])\\\n",
    "                          & (sp_data[\"20일선\"] >= sp_data[\"60일선\"])\\\n",
    "                          & (sp_data[\"60일선\"] >= sp_data[\"120일선\"])\n",
    "\n",
    "    sp_data[\"역배열\"] = (sp_data[\"5일선\"] <= sp_data[\"20일선\"])\\\n",
    "                          & (sp_data[\"20일선\"] <= sp_data[\"60일선\"])\\\n",
    "                          & (sp_data[\"60일선\"] <= sp_data[\"120일선\"])"
   ]
  },
  {
   "cell_type": "markdown",
   "id": "df9b1220",
   "metadata": {},
   "source": [
    "### 정배열 구간에서의 기대 수익 계산"
   ]
  },
  {
   "cell_type": "markdown",
   "id": "2f52e317",
   "metadata": {},
   "source": [
    "#### 매매 전략 구현"
   ]
  },
  {
   "cell_type": "code",
   "execution_count": null,
   "id": "006c618f",
   "metadata": {},
   "outputs": [],
   "source": [
    "import numpy as np\n",
    "def calc_ror_in_forward(sp_data):\n",
    "    ror_list = []\n",
    "    buy_point_list = sp_data[\"정배열\"].values[1:] > sp_data[\"정배열\"].values[:-1]\n",
    "    buy_point_list = np.insert(buy_point_list, 0, False)\n",
    "    buy_point_list = sp_data.index[buy_point_list]\n",
    "    sell_point_list = sp_data[\"정배열\"].values[:-1] > sp_data[\"정배열\"].values[1:]\n",
    "    sell_point_list = np.insert(sell_point_list, 0, False)\n",
    "    sell_point_list = sp_data.index[sell_point_list]\n",
    "\n",
    "    for buy_point in buy_point_list:\n",
    "        if (sum(buy_point<sell_point_list) > 0) and (buy_point+1 <= sp_data.index[-1]):\n",
    "            buy_price = sp_data.loc[buy_point + 1, \"Close\"]\n",
    "            sell_point = sell_point_list[sell_point_list > buy_point][0] + 1\n",
    "            if sell_point <= sp_data.index[-1]:\n",
    "                sell_price = sp_data.loc[sell_point, \"Close\"]\n",
    "                ror = (sell_price - buy_price) / buy_price * 100\n",
    "                ror_list.append(ror)\n",
    "        else:\n",
    "            break\n",
    "    return ror_list"
   ]
  },
  {
   "cell_type": "markdown",
   "id": "3af0dccb",
   "metadata": {},
   "source": [
    "#### 전체 종목"
   ]
  },
  {
   "cell_type": "code",
   "execution_count": null,
   "id": "14377734",
   "metadata": {},
   "outputs": [],
   "source": [
    "total_ror_list = []\n",
    "for stock_name in sp_data_dict.keys():\n",
    "    sp_data = sp_data_dict[stock_name]\n",
    "    ror_list = calc_ror_in_forward(sp_data)\n",
    "    total_ror_list += ror_list\n",
    "display(pd.Series(total_ror_list).describe().round(2))"
   ]
  },
  {
   "cell_type": "markdown",
   "id": "1606ab44",
   "metadata": {},
   "source": [
    "#### 코스피 종목"
   ]
  },
  {
   "cell_type": "code",
   "execution_count": null,
   "id": "ffb4c53e",
   "metadata": {},
   "outputs": [],
   "source": [
    "total_ror_list = []\n",
    "for stock_name in sp_data_dict.keys() & set(KOSPI_list):\n",
    "    stock_data = sp_data_dict[stock_name]\n",
    "    ror_list = calc_ror_in_forward(stock_data)\n",
    "    total_ror_list += ror_list\n",
    "display(pd.Series(total_ror_list).describe().round(2))"
   ]
  },
  {
   "cell_type": "markdown",
   "id": "5f36293d",
   "metadata": {},
   "source": [
    "#### 코스닥 종목"
   ]
  },
  {
   "cell_type": "code",
   "execution_count": null,
   "id": "40255779",
   "metadata": {},
   "outputs": [],
   "source": [
    "total_ror_list = []\n",
    "for stock_name in sp_data_dict.keys() & set(KOSDAQ_list):\n",
    "    stock_data = sp_data_dict[stock_name]\n",
    "    ror_list = calc_ror_in_forward(stock_data)\n",
    "    total_ror_list += ror_list\n",
    "display(pd.Series(total_ror_list).describe().round(2))"
   ]
  },
  {
   "cell_type": "markdown",
   "id": "c9a0abe1",
   "metadata": {},
   "source": [
    "#### 우량 종목"
   ]
  },
  {
   "cell_type": "code",
   "execution_count": null,
   "id": "23186c90",
   "metadata": {},
   "outputs": [],
   "source": [
    "total_ror_list = []\n",
    "for stock_name in sp_data_dict.keys() & set(TOP100_list):\n",
    "    stock_data = sp_data_dict[stock_name]\n",
    "    ror_list = calc_ror_in_forward(stock_data)\n",
    "    total_ror_list += ror_list\n",
    "display(pd.Series(total_ror_list).describe().round(2))"
   ]
  },
  {
   "cell_type": "markdown",
   "id": "6c57e775",
   "metadata": {},
   "source": [
    "### 정배열 시작 – 역배열 시작 구간에서의 기대 수익 계산"
   ]
  },
  {
   "cell_type": "markdown",
   "id": "cb6bb9ec",
   "metadata": {},
   "source": [
    "#### 매매 전략 구현"
   ]
  },
  {
   "cell_type": "code",
   "execution_count": null,
   "id": "f2147d22",
   "metadata": {},
   "outputs": [],
   "source": [
    "def calc_ror_in_for_rev(sp_data):\n",
    "    ror_list = []\n",
    "    buy_point_list = sp_data[\"정배열\"].values[1:] > sp_data[\"정배열\"].values[:-1]\n",
    "    buy_point_list = np.insert(buy_point_list, 0, False)\n",
    "    buy_point_list = sp_data.index[buy_point_list]\n",
    "    sell_point_list = sp_data[\"역배열\"].values[1:] > sp_data[\"역배열\"].values[:-1]\n",
    "    sell_point_list = np.insert(sell_point_list, 0, False)\n",
    "    sell_point_list = sp_data.index[sell_point_list]\n",
    "\n",
    "    for buy_point in buy_point_list:\n",
    "        if (sum(buy_point<sell_point_list) > 0) and (buy_point+1<=sp_data.index[-1]):\n",
    "            buy_price = sp_data.loc[buy_point + 1, \"Close\"]\n",
    "            sell_point = sell_point_list[sell_point_list > buy_point][0] + 1\n",
    "            if sell_point <= sp_data.index[-1]:\n",
    "                sell_price = sp_data.loc[sell_point, \"Close\"]\n",
    "                ror = (sell_price - buy_price) / buy_price * 100\n",
    "                ror_list.append(ror)\n",
    "        else:\n",
    "            break\n",
    "    return ror_list"
   ]
  },
  {
   "cell_type": "markdown",
   "id": "a7dce40e",
   "metadata": {},
   "source": [
    "#### 전체 종목"
   ]
  },
  {
   "cell_type": "code",
   "execution_count": null,
   "id": "bf5e5e8f",
   "metadata": {},
   "outputs": [],
   "source": [
    "total_ror_list = []\n",
    "for stock_name in sp_data_dict.keys():\n",
    "    sp_data = sp_data_dict[stock_name]\n",
    "    ror_list = calc_ror_in_for_rev(sp_data)\n",
    "    total_ror_list += ror_list\n",
    "display(pd.Series(total_ror_list).describe().round(2))"
   ]
  },
  {
   "cell_type": "markdown",
   "id": "613553aa",
   "metadata": {},
   "source": [
    "#### 코스피 종목"
   ]
  },
  {
   "cell_type": "code",
   "execution_count": null,
   "id": "b46cd627",
   "metadata": {},
   "outputs": [],
   "source": [
    "total_ror_list = []\n",
    "for stock_name in sp_data_dict.keys() & set(KOSPI_list):\n",
    "    stock_data = sp_data_dict[stock_name]\n",
    "    ror_list = calc_ror_in_for_rev(stock_data)\n",
    "    total_ror_list += ror_list\n",
    "display(pd.Series(total_ror_list).describe().round(2))"
   ]
  },
  {
   "cell_type": "markdown",
   "id": "6cc98085",
   "metadata": {},
   "source": [
    "#### 코스닥 종목"
   ]
  },
  {
   "cell_type": "code",
   "execution_count": null,
   "id": "34bd690f",
   "metadata": {},
   "outputs": [],
   "source": [
    "total_ror_list = []\n",
    "for stock_name in sp_data_dict.keys() & set(KOSDAQ_list):\n",
    "    stock_data = sp_data_dict[stock_name]\n",
    "    ror_list = calc_ror_in_for_rev(stock_data)\n",
    "    total_ror_list += ror_list\n",
    "display(pd.Series(total_ror_list).describe().round(2))"
   ]
  },
  {
   "cell_type": "markdown",
   "id": "e428068b",
   "metadata": {},
   "source": [
    "#### 우량 종목"
   ]
  },
  {
   "cell_type": "code",
   "execution_count": null,
   "id": "88726d09",
   "metadata": {},
   "outputs": [],
   "source": [
    "total_ror_list = []\n",
    "for stock_name in sp_data_dict.keys() & set(TOP100_list):\n",
    "    stock_data = sp_data_dict[stock_name]\n",
    "    ror_list = calc_ror_in_for_rev(stock_data)\n",
    "    total_ror_list += ror_list\n",
    "display(pd.Series(total_ror_list).describe().round(2))"
   ]
  }
 ],
 "metadata": {
  "kernelspec": {
   "display_name": "Python 3",
   "language": "python",
   "name": "python3"
  },
  "language_info": {
   "codemirror_mode": {
    "name": "ipython",
    "version": 3
   },
   "file_extension": ".py",
   "mimetype": "text/x-python",
   "name": "python",
   "nbconvert_exporter": "python",
   "pygments_lexer": "ipython3",
   "version": "3.8.8"
  }
 },
 "nbformat": 4,
 "nbformat_minor": 5
}
