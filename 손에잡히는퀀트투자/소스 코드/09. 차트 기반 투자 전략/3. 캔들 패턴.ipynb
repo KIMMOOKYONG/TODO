{
 "cells": [
  {
   "cell_type": "markdown",
   "id": "8759d140",
   "metadata": {},
   "source": [
    "### 데이터 준비 및 환경 설정"
   ]
  },
  {
   "cell_type": "code",
   "execution_count": null,
   "id": "3a8c5451",
   "metadata": {},
   "outputs": [],
   "source": [
    "import os\n",
    "os.chdir(\"../../데이터\")"
   ]
  },
  {
   "cell_type": "code",
   "execution_count": null,
   "id": "958518a9",
   "metadata": {},
   "outputs": [],
   "source": [
    "import pandas as pd\n",
    "sp_data_dict = dict()\n",
    "for file_name in os.listdir(\"주가데이터\"):\n",
    "    sp_data = pd.read_csv(\"주가데이터/\" + file_name, parse_dates = ['Date'])\n",
    "    stock_name = file_name.replace('.csv', '')\n",
    "    sp_data_dict[stock_name] = sp_data"
   ]
  },
  {
   "cell_type": "code",
   "execution_count": null,
   "id": "c0661c34",
   "metadata": {},
   "outputs": [],
   "source": [
    "import seaborn as sns\n",
    "from matplotlib import pyplot as plt\n",
    "from matplotlib import rcParams\n",
    "sns.set()\n",
    "%matplotlib inline\n",
    "rcParams['font.family'] = 'Malgun Gothic'\n",
    "rcParams['axes.unicode_minus'] = False "
   ]
  },
  {
   "cell_type": "code",
   "execution_count": null,
   "id": "cd070d0d",
   "metadata": {},
   "outputs": [],
   "source": [
    "import warnings\n",
    "warnings.filterwarnings(\"ignore\")"
   ]
  },
  {
   "cell_type": "markdown",
   "id": "b85f610b",
   "metadata": {},
   "source": [
    "### 상승장악형"
   ]
  },
  {
   "cell_type": "markdown",
   "id": "f48039ae",
   "metadata": {},
   "source": [
    "#### 패턴 탐지"
   ]
  },
  {
   "cell_type": "code",
   "execution_count": null,
   "id": "3f775a1f",
   "metadata": {},
   "outputs": [],
   "source": [
    "# 현대차 예시\n",
    "sample_data = sp_data_dict[\"현대차\"]"
   ]
  },
  {
   "cell_type": "code",
   "execution_count": null,
   "id": "b948fae9",
   "metadata": {},
   "outputs": [],
   "source": [
    "import numpy as np\n",
    "cond_1 = (sample_data['Open'] > sample_data['Close']).values[:-1]\n",
    "cond_2 = (sample_data['Open'] < sample_data['Close']).values[1:]\n",
    "cond_3 = (sample_data['Low'].values[:-1] > sample_data['Open'].values[1:])\n",
    "cond_4 = (sample_data['High'].values[:-1] < sample_data['Close'].values[1:])\n",
    "\n",
    "cond = cond_1 & cond_2 & cond_3 & cond_4\n",
    "cond = np.insert(cond, 0, False)\n",
    "sample_data[\"상승장악형\"] = cond"
   ]
  },
  {
   "cell_type": "code",
   "execution_count": null,
   "id": "2e06e063",
   "metadata": {},
   "outputs": [],
   "source": [
    "# 전종목 적용\n",
    "for stock_name in sp_data_dict.keys():\n",
    "    sp_data = sp_data_dict[stock_name]\n",
    "    cond_1 = (sp_data['Open'] > sp_data['Close']).values[:-1]\n",
    "    cond_2 = (sp_data['Open'] < sp_data['Close']).values[1:]\n",
    "    cond_3 = (sp_data['Low'].values[:-1] > sp_data['Open'].values[1:])\n",
    "    cond_4 = (sp_data['High'].values[:-1] < sp_data['Close'].values[1:])\n",
    "\n",
    "    cond = cond_1 & cond_2 & cond_3 & cond_4\n",
    "    cond = np.insert(cond, 0, False)\n",
    "    sp_data[\"상승장악형\"] = cond"
   ]
  },
  {
   "cell_type": "markdown",
   "id": "8e8a1ed6",
   "metadata": {},
   "source": [
    "#### 기대 수익 계산"
   ]
  },
  {
   "cell_type": "code",
   "execution_count": null,
   "id": "093d6808",
   "metadata": {},
   "outputs": [],
   "source": [
    "def calc_ror_after_patt(sp_data, patt_col, n):\n",
    "    patt_idx_list = sp_data.loc[sp_data[patt_col]].index\n",
    "    no_patt_idx_list = sp_data.index.difference(patt_idx_list)\n",
    "    max_idx = max(sp_data.index)\n",
    "    \n",
    "    patt_bidx_list = patt_idx_list[patt_idx_list + n < max_idx] + 1\n",
    "    patt_sidx_list = patt_bidx_list + n\n",
    "    no_patt_bidx_list = no_patt_idx_list[no_patt_idx_list + n < max_idx] + 1\n",
    "    no_patt_sidx_list = no_patt_bidx_list + n\n",
    "    # 패턴 발생 후 수익률 계산\n",
    "    patt_bp_list = sp_data.loc[patt_bidx_list, 'Close'].values\n",
    "    patt_sp_list = sp_data.loc[patt_sidx_list, 'Close'].values\n",
    "    patt_ror_list = (patt_sp_list - patt_bp_list) / patt_bp_list * 100\n",
    "    # 패턴 미 발생 후 수익률 계산\n",
    "    no_patt_bp_list = sp_data.loc[no_patt_bidx_list, 'Close'].values\n",
    "    no_patt_sp_list = sp_data.loc[no_patt_sidx_list, 'Close'].values\n",
    "    no_patt_ror_list = (no_patt_sp_list - no_patt_bp_list) / no_patt_bp_list * 100\n",
    "    \n",
    "    return patt_ror_list.tolist(), no_patt_ror_list.tolist()"
   ]
  },
  {
   "cell_type": "code",
   "execution_count": null,
   "id": "b3070210",
   "metadata": {},
   "outputs": [],
   "source": [
    "result_dict = dict()\n",
    "for n in [5, 20, 60, 120]:\n",
    "    total_patt_ror_list = []\n",
    "    total_no_patt_ror_list = []\n",
    "    for stock_name in sp_data_dict.keys():\n",
    "        sp_data = sp_data_dict[stock_name]\n",
    "        patt_ror_list, no_patt_ror_list = calc_ror_after_patt(sp_data, \"상승장악형\", n)\n",
    "        total_patt_ror_list += patt_ror_list\n",
    "        total_no_patt_ror_list += no_patt_ror_list\n",
    "    result_dict[n] = total_patt_ror_list, total_no_patt_ror_list"
   ]
  },
  {
   "cell_type": "markdown",
   "id": "180065e7",
   "metadata": {},
   "source": [
    "#### 5영업일 보유 시 수익 비교"
   ]
  },
  {
   "cell_type": "code",
   "execution_count": null,
   "id": "a3095481",
   "metadata": {},
   "outputs": [],
   "source": [
    "plt.title(\"상승장악형 - 5영업일 이후\")\n",
    "plt.boxplot(result_dict[5])\n",
    "plt.xticks([1, 2], [\"패턴발생\", \"패턴미발생\"])\n",
    "plt.ylim(-100, 100)\n",
    "plt.show()"
   ]
  },
  {
   "cell_type": "code",
   "execution_count": null,
   "id": "b7421f5f",
   "metadata": {},
   "outputs": [],
   "source": [
    "total_patt_ror_list, total_no_patt_ror_list = result_dict[5]\n",
    "result = pd.concat([pd.Series(total_patt_ror_list).describe(),\n",
    "                   pd.Series(total_no_patt_ror_list).describe()],\n",
    "                   axis = 1)\n",
    "result.columns = ['패턴발생', '패턴미발생']\n",
    "display(result.round(2))"
   ]
  },
  {
   "cell_type": "markdown",
   "id": "2b020edf",
   "metadata": {},
   "source": [
    "#### 20영업일 보유 시 수익 비교"
   ]
  },
  {
   "cell_type": "code",
   "execution_count": null,
   "id": "73ae426b",
   "metadata": {},
   "outputs": [],
   "source": [
    "total_patt_ror_list, total_no_patt_ror_list = result_dict[20]\n",
    "result = pd.concat([pd.Series(total_patt_ror_list).describe(),\n",
    "                   pd.Series(total_no_patt_ror_list).describe()],\n",
    "                   axis = 1)\n",
    "result.columns = ['패턴발생', '패턴미발생']\n",
    "display(result.round(2))"
   ]
  },
  {
   "cell_type": "markdown",
   "id": "5c4f79bd",
   "metadata": {},
   "source": [
    "#### 60영업일 보유 시 수익 비교"
   ]
  },
  {
   "cell_type": "code",
   "execution_count": null,
   "id": "161bb6a8",
   "metadata": {
    "scrolled": true
   },
   "outputs": [],
   "source": [
    "total_patt_ror_list, total_no_patt_ror_list = result_dict[60]\n",
    "result = pd.concat([pd.Series(total_patt_ror_list).describe(),\n",
    "                   pd.Series(total_no_patt_ror_list).describe()],\n",
    "                   axis = 1)\n",
    "result.columns = ['패턴발생', '패턴미발생']\n",
    "display(result.round(2))"
   ]
  },
  {
   "cell_type": "markdown",
   "id": "4566be8a",
   "metadata": {},
   "source": [
    "#### 120영업일 보유 시 수익 비교"
   ]
  },
  {
   "cell_type": "code",
   "execution_count": null,
   "id": "6a112196",
   "metadata": {
    "scrolled": true
   },
   "outputs": [],
   "source": [
    "total_patt_ror_list, total_no_patt_ror_list = result_dict[120]\n",
    "result = pd.concat([pd.Series(total_patt_ror_list).describe(),\n",
    "                   pd.Series(total_no_patt_ror_list).describe()],\n",
    "                   axis = 1)\n",
    "result.columns = ['패턴발생', '패턴미발생']\n",
    "display(result.round(2))"
   ]
  },
  {
   "cell_type": "markdown",
   "id": "4d31b1f5",
   "metadata": {},
   "source": [
    "### 하락장악형"
   ]
  },
  {
   "cell_type": "markdown",
   "id": "9052123e",
   "metadata": {},
   "source": [
    "#### 패턴 탐지"
   ]
  },
  {
   "cell_type": "code",
   "execution_count": null,
   "id": "0ad94338",
   "metadata": {},
   "outputs": [],
   "source": [
    "for stock_name in sp_data_dict.keys():\n",
    "    sp_data = sp_data_dict[stock_name]\n",
    "    cond_1 = (sp_data['Open'] < sp_data['Close']).values[:-1]\n",
    "    cond_2 = (sp_data['Open'] > sp_data['Close']).values[1:]\n",
    "    cond_3 = (sp_data['High'].values[:-1] < sp_data['Open'].values[1:])\n",
    "    cond_4 = (sp_data['Low'].values[:-1] > sp_data['Close'].values[1:])\n",
    "\n",
    "    cond = cond_1 & cond_2 & cond_3 & cond_4\n",
    "    cond = np.insert(cond, 0, False)\n",
    "    sp_data[\"하락장악형\"] = cond"
   ]
  },
  {
   "cell_type": "markdown",
   "id": "78a66b68",
   "metadata": {},
   "source": [
    "#### 기대 수익 계산"
   ]
  },
  {
   "cell_type": "code",
   "execution_count": null,
   "id": "aea84624",
   "metadata": {},
   "outputs": [],
   "source": [
    "result_dict = dict()\n",
    "for n in [5, 20, 60, 120]:\n",
    "    total_patt_ror_list = []\n",
    "    total_no_patt_ror_list = []\n",
    "    for stock_name in sp_data_dict.keys():\n",
    "        sp_data = sp_data_dict[stock_name]\n",
    "        patt_ror_list, no_patt_ror_list = calc_ror_after_patt(sp_data, \"하락장악형\", n)\n",
    "        total_patt_ror_list += patt_ror_list\n",
    "        total_no_patt_ror_list += no_patt_ror_list\n",
    "    result_dict[n] = total_patt_ror_list, total_no_patt_ror_list"
   ]
  },
  {
   "cell_type": "markdown",
   "id": "77d59094",
   "metadata": {},
   "source": [
    "#### 5영업일 보유 시 수익 비교"
   ]
  },
  {
   "cell_type": "code",
   "execution_count": null,
   "id": "8509ddde",
   "metadata": {},
   "outputs": [],
   "source": [
    "total_patt_ror_list, total_no_patt_ror_list = result_dict[5]\n",
    "result = pd.concat([pd.Series(total_patt_ror_list).describe(),\n",
    "                   pd.Series(total_no_patt_ror_list).describe()],\n",
    "                   axis = 1)\n",
    "result.columns = ['패턴발생', '패턴미발생']\n",
    "display(result.round(2))"
   ]
  },
  {
   "cell_type": "markdown",
   "id": "e600c045",
   "metadata": {},
   "source": [
    "#### 20영업일 보유 시 수익 비교"
   ]
  },
  {
   "cell_type": "code",
   "execution_count": null,
   "id": "df10a073",
   "metadata": {},
   "outputs": [],
   "source": [
    "total_patt_ror_list, total_no_patt_ror_list = result_dict[20]\n",
    "result = pd.concat([pd.Series(total_patt_ror_list).describe(),\n",
    "                   pd.Series(total_no_patt_ror_list).describe()],\n",
    "                   axis = 1)\n",
    "result.columns = ['패턴발생', '패턴미발생']\n",
    "display(result.round(2))"
   ]
  },
  {
   "cell_type": "markdown",
   "id": "5c9ff8ea",
   "metadata": {},
   "source": [
    "#### 60영업일 보유 시 수익 비교"
   ]
  },
  {
   "cell_type": "code",
   "execution_count": null,
   "id": "3de1a432",
   "metadata": {
    "scrolled": true
   },
   "outputs": [],
   "source": [
    "total_patt_ror_list, total_no_patt_ror_list = result_dict[60]\n",
    "result = pd.concat([pd.Series(total_patt_ror_list).describe(),\n",
    "                   pd.Series(total_no_patt_ror_list).describe()],\n",
    "                   axis = 1)\n",
    "result.columns = ['패턴발생', '패턴미발생']\n",
    "display(result.round(2))"
   ]
  },
  {
   "cell_type": "markdown",
   "id": "73902ce2",
   "metadata": {},
   "source": [
    "#### 120영업일 보유 시 수익 비교"
   ]
  },
  {
   "cell_type": "code",
   "execution_count": null,
   "id": "a1f74051",
   "metadata": {
    "scrolled": true
   },
   "outputs": [],
   "source": [
    "total_patt_ror_list, total_no_patt_ror_list = result_dict[120]\n",
    "result = pd.concat([pd.Series(total_patt_ror_list).describe(),\n",
    "                   pd.Series(total_no_patt_ror_list).describe()],\n",
    "                   axis = 1)\n",
    "result.columns = ['패턴발생', '패턴미발생']\n",
    "display(result.round(2))"
   ]
  },
  {
   "cell_type": "markdown",
   "id": "1147acec",
   "metadata": {},
   "source": [
    "### 적삼병"
   ]
  },
  {
   "cell_type": "markdown",
   "id": "e097cfbf",
   "metadata": {},
   "source": [
    "#### 패턴 탐지"
   ]
  },
  {
   "cell_type": "code",
   "execution_count": null,
   "id": "57f18698",
   "metadata": {},
   "outputs": [],
   "source": [
    "for stock_name in sp_data_dict.keys():\n",
    "    sp_data = sp_data_dict[stock_name]\n",
    "    cur_price = sp_data[\"Close\"].values[2:]\n",
    "    pre_price = sp_data[\"Close\"].values[1:-1]\n",
    "    sec_pre_price = sp_data[\"Close\"].values[:-2]\n",
    "    \n",
    "    cond_1 = (cur_price > pre_price) & (pre_price > sec_pre_price)\n",
    "    cond_2 = (sp_data['Open'] < sp_data['Close']).values[:-2]\n",
    "    cond_3 = (sp_data['Open'] < sp_data['Close']).values[1:-1]\n",
    "    cond_4 = (sp_data['Open'] < sp_data['Close']).values[2:]\n",
    "\n",
    "    cond = cond_1 & cond_2 & cond_3 & cond_4\n",
    "    cond = np.insert(cond, [0, 0], False)\n",
    "    sp_data[\"적삼병\"] = cond"
   ]
  },
  {
   "cell_type": "markdown",
   "id": "91a9a4c3",
   "metadata": {},
   "source": [
    "#### 기대 수익 계산"
   ]
  },
  {
   "cell_type": "code",
   "execution_count": null,
   "id": "563af308",
   "metadata": {},
   "outputs": [],
   "source": [
    "result_dict = dict()\n",
    "for n in [5, 20, 60, 120]:\n",
    "    total_patt_ror_list = []\n",
    "    total_no_patt_ror_list = []\n",
    "    for stock_name in sp_data_dict.keys():\n",
    "        sp_data = sp_data_dict[stock_name]\n",
    "        patt_ror_list, no_patt_ror_list = calc_ror_after_patt(sp_data, \"적삼병\", n)\n",
    "        total_patt_ror_list += patt_ror_list\n",
    "        total_no_patt_ror_list += no_patt_ror_list\n",
    "    result_dict[n] = total_patt_ror_list, total_no_patt_ror_list"
   ]
  },
  {
   "cell_type": "markdown",
   "id": "76f6d147",
   "metadata": {},
   "source": [
    "#### 5영업일 보유 시 수익 비교"
   ]
  },
  {
   "cell_type": "code",
   "execution_count": null,
   "id": "477986e1",
   "metadata": {},
   "outputs": [],
   "source": [
    "total_patt_ror_list, total_no_patt_ror_list = result_dict[5]\n",
    "result = pd.concat([pd.Series(total_patt_ror_list).describe(),\n",
    "                   pd.Series(total_no_patt_ror_list).describe()],\n",
    "                   axis = 1)\n",
    "result.columns = ['패턴발생', '패턴미발생']\n",
    "display(result.round(2))"
   ]
  },
  {
   "cell_type": "markdown",
   "id": "540a12ed",
   "metadata": {},
   "source": [
    "#### 20영업일 보유 시 수익 비교"
   ]
  },
  {
   "cell_type": "code",
   "execution_count": null,
   "id": "54bd1c1f",
   "metadata": {},
   "outputs": [],
   "source": [
    "total_patt_ror_list, total_no_patt_ror_list = result_dict[20]\n",
    "result = pd.concat([pd.Series(total_patt_ror_list).describe(),\n",
    "                   pd.Series(total_no_patt_ror_list).describe()],\n",
    "                   axis = 1)\n",
    "result.columns = ['패턴발생', '패턴미발생']\n",
    "display(result.round(2))"
   ]
  },
  {
   "cell_type": "markdown",
   "id": "7ac39149",
   "metadata": {},
   "source": [
    "#### 60영업일 보유 시 수익 비교"
   ]
  },
  {
   "cell_type": "code",
   "execution_count": null,
   "id": "7145660f",
   "metadata": {
    "scrolled": true
   },
   "outputs": [],
   "source": [
    "total_patt_ror_list, total_no_patt_ror_list = result_dict[60]\n",
    "result = pd.concat([pd.Series(total_patt_ror_list).describe(),\n",
    "                   pd.Series(total_no_patt_ror_list).describe()],\n",
    "                   axis = 1)\n",
    "result.columns = ['패턴발생', '패턴미발생']\n",
    "display(result.round(2))"
   ]
  },
  {
   "cell_type": "markdown",
   "id": "94fae2f1",
   "metadata": {},
   "source": [
    "#### 120영업일 보유 시 수익 비교"
   ]
  },
  {
   "cell_type": "code",
   "execution_count": null,
   "id": "613dda74",
   "metadata": {
    "scrolled": true
   },
   "outputs": [],
   "source": [
    "total_patt_ror_list, total_no_patt_ror_list = result_dict[120]\n",
    "result = pd.concat([pd.Series(total_patt_ror_list).describe(),\n",
    "                   pd.Series(total_no_patt_ror_list).describe()],\n",
    "                   axis = 1)\n",
    "result.columns = ['패턴발생', '패턴미발생']\n",
    "display(result.round(2))"
   ]
  },
  {
   "cell_type": "markdown",
   "id": "8f65ed46",
   "metadata": {},
   "source": [
    "### 흑삼병"
   ]
  },
  {
   "cell_type": "markdown",
   "id": "d69b1e36",
   "metadata": {},
   "source": [
    "#### 패턴 탐지"
   ]
  },
  {
   "cell_type": "code",
   "execution_count": null,
   "id": "7282f037",
   "metadata": {},
   "outputs": [],
   "source": [
    "for stock_name in sp_data_dict.keys():\n",
    "    sp_data = sp_data_dict[stock_name]\n",
    "    cur_price = sp_data[\"Close\"].values[2:]\n",
    "    pre_price = sp_data[\"Close\"].values[1:-1]\n",
    "    sec_pre_price = sp_data[\"Close\"].values[:-2]\n",
    "    \n",
    "    cond_1 = (cur_price < pre_price) & (pre_price < sec_pre_price)\n",
    "    cond_2 = (sp_data['Open'] > sp_data['Close']).values[:-2]\n",
    "    cond_3 = (sp_data['Open'] > sp_data['Close']).values[1:-1]\n",
    "    cond_4 = (sp_data['Open'] > sp_data['Close']).values[2:]\n",
    "\n",
    "    cond = cond_1 & cond_2 & cond_3 & cond_4\n",
    "    cond = np.insert(cond, [0, 0], False)\n",
    "    sp_data[\"흑삼병\"] = cond"
   ]
  },
  {
   "cell_type": "markdown",
   "id": "9eda77a7",
   "metadata": {},
   "source": [
    "#### 기대 수익 계산"
   ]
  },
  {
   "cell_type": "code",
   "execution_count": null,
   "id": "2441ecf3",
   "metadata": {},
   "outputs": [],
   "source": [
    "result_dict = dict()\n",
    "for n in [5, 20, 60, 120]:\n",
    "    total_patt_ror_list = []\n",
    "    total_no_patt_ror_list = []\n",
    "    for stock_name in sp_data_dict.keys():\n",
    "        sp_data = sp_data_dict[stock_name]\n",
    "        patt_ror_list, no_patt_ror_list = calc_ror_after_patt(sp_data, \"흑삼병\", n)\n",
    "        total_patt_ror_list += patt_ror_list\n",
    "        total_no_patt_ror_list += no_patt_ror_list\n",
    "    result_dict[n] = total_patt_ror_list, total_no_patt_ror_list"
   ]
  },
  {
   "cell_type": "markdown",
   "id": "49736dbb",
   "metadata": {},
   "source": [
    "#### 5영업일 보유 시 수익 비교"
   ]
  },
  {
   "cell_type": "code",
   "execution_count": null,
   "id": "c33fbccd",
   "metadata": {},
   "outputs": [],
   "source": [
    "total_patt_ror_list, total_no_patt_ror_list = result_dict[5]\n",
    "result = pd.concat([pd.Series(total_patt_ror_list).describe(),\n",
    "                   pd.Series(total_no_patt_ror_list).describe()],\n",
    "                   axis = 1)\n",
    "result.columns = ['패턴발생', '패턴미발생']\n",
    "display(result.round(2))"
   ]
  },
  {
   "cell_type": "markdown",
   "id": "faf2e482",
   "metadata": {},
   "source": [
    "#### 20영업일 보유 시 수익 비교"
   ]
  },
  {
   "cell_type": "code",
   "execution_count": null,
   "id": "d693671a",
   "metadata": {},
   "outputs": [],
   "source": [
    "total_patt_ror_list, total_no_patt_ror_list = result_dict[20]\n",
    "result = pd.concat([pd.Series(total_patt_ror_list).describe(),\n",
    "                   pd.Series(total_no_patt_ror_list).describe()],\n",
    "                   axis = 1)\n",
    "result.columns = ['패턴발생', '패턴미발생']\n",
    "display(result.round(2))"
   ]
  },
  {
   "cell_type": "markdown",
   "id": "2ab8418b",
   "metadata": {},
   "source": [
    "#### 60영업일 보유 시 수익 비교"
   ]
  },
  {
   "cell_type": "code",
   "execution_count": null,
   "id": "d4ccdf14",
   "metadata": {
    "scrolled": true
   },
   "outputs": [],
   "source": [
    "total_patt_ror_list, total_no_patt_ror_list = result_dict[60]\n",
    "result = pd.concat([pd.Series(total_patt_ror_list).describe(),\n",
    "                   pd.Series(total_no_patt_ror_list).describe()],\n",
    "                   axis = 1)\n",
    "result.columns = ['패턴발생', '패턴미발생']\n",
    "display(result.round(2))"
   ]
  },
  {
   "cell_type": "markdown",
   "id": "29e398c7",
   "metadata": {},
   "source": [
    "#### 120영업일 보유 시 수익 비교"
   ]
  },
  {
   "cell_type": "code",
   "execution_count": null,
   "id": "8f01b4cd",
   "metadata": {
    "scrolled": true
   },
   "outputs": [],
   "source": [
    "total_patt_ror_list, total_no_patt_ror_list = result_dict[120]\n",
    "result = pd.concat([pd.Series(total_patt_ror_list).describe(),\n",
    "                   pd.Series(total_no_patt_ror_list).describe()],\n",
    "                   axis = 1)\n",
    "result.columns = ['패턴발생', '패턴미발생']\n",
    "display(result.round(2))"
   ]
  },
  {
   "cell_type": "markdown",
   "id": "53701479",
   "metadata": {},
   "source": [
    "### 샛별형"
   ]
  },
  {
   "cell_type": "markdown",
   "id": "f65d50fc",
   "metadata": {},
   "source": [
    "#### 패턴 탐지"
   ]
  },
  {
   "cell_type": "code",
   "execution_count": null,
   "id": "88d5e8b8",
   "metadata": {},
   "outputs": [],
   "source": [
    "for stock_name in sp_data_dict.keys():\n",
    "    sp_data = sp_data_dict[stock_name]\n",
    "    cond_1 = sp_data[\"Close\"].values[:-2] <= sp_data[\"Open\"].values[:-2] * 1.1\n",
    "    cond_2 = sp_data[\"Close\"].values[1:-1] > sp_data[\"Open\"].values[1:-1]\n",
    "    cond_3 = sp_data[\"Close\"].values[1:-1] < sp_data[\"Open\"].values[1:-1] * 1.01\n",
    "    cond_4 = sp_data[\"Close\"].values[2:] >= sp_data[\"Open\"].values[2:] * 1.1\n",
    "    \n",
    "    cond = cond_1 & cond_2 & cond_3 & cond_4\n",
    "    cond = np.insert(cond, [0, 0], False)\n",
    "    sp_data[\"샛별형\"] = cond"
   ]
  },
  {
   "cell_type": "markdown",
   "id": "b0b61601",
   "metadata": {},
   "source": [
    "#### 기대 수익 계산"
   ]
  },
  {
   "cell_type": "code",
   "execution_count": null,
   "id": "6a7b44f3",
   "metadata": {},
   "outputs": [],
   "source": [
    "result_dict = dict()\n",
    "for n in [5, 20, 60, 120]:\n",
    "    total_patt_ror_list = []\n",
    "    total_no_patt_ror_list = []\n",
    "    for stock_name in sp_data_dict.keys():\n",
    "        sp_data = sp_data_dict[stock_name]\n",
    "        patt_ror_list, no_patt_ror_list = calc_ror_after_patt(sp_data, \"샛별형\", n)\n",
    "        total_patt_ror_list += patt_ror_list\n",
    "        total_no_patt_ror_list += no_patt_ror_list\n",
    "    result_dict[n] = total_patt_ror_list, total_no_patt_ror_list"
   ]
  },
  {
   "cell_type": "markdown",
   "id": "d2ca4ff0",
   "metadata": {},
   "source": [
    "#### 5영업일 보유 시 수익 비교"
   ]
  },
  {
   "cell_type": "code",
   "execution_count": null,
   "id": "bf18def3",
   "metadata": {},
   "outputs": [],
   "source": [
    "total_patt_ror_list, total_no_patt_ror_list = result_dict[5]\n",
    "result = pd.concat([pd.Series(total_patt_ror_list).describe(),\n",
    "                   pd.Series(total_no_patt_ror_list).describe()],\n",
    "                   axis = 1)\n",
    "result.columns = ['패턴발생', '패턴미발생']\n",
    "display(result.round(2))"
   ]
  },
  {
   "cell_type": "markdown",
   "id": "a1c8baf3",
   "metadata": {},
   "source": [
    "#### 20영업일 보유 시 수익 비교"
   ]
  },
  {
   "cell_type": "code",
   "execution_count": null,
   "id": "0de907d5",
   "metadata": {},
   "outputs": [],
   "source": [
    "total_patt_ror_list, total_no_patt_ror_list = result_dict[20]\n",
    "result = pd.concat([pd.Series(total_patt_ror_list).describe(),\n",
    "                   pd.Series(total_no_patt_ror_list).describe()],\n",
    "                   axis = 1)\n",
    "result.columns = ['패턴발생', '패턴미발생']\n",
    "display(result.round(2))"
   ]
  },
  {
   "cell_type": "markdown",
   "id": "fa5316eb",
   "metadata": {},
   "source": [
    "#### 60영업일 보유 시 수익 비교"
   ]
  },
  {
   "cell_type": "code",
   "execution_count": null,
   "id": "3401cee6",
   "metadata": {
    "scrolled": true
   },
   "outputs": [],
   "source": [
    "total_patt_ror_list, total_no_patt_ror_list = result_dict[60]\n",
    "result = pd.concat([pd.Series(total_patt_ror_list).describe(),\n",
    "                   pd.Series(total_no_patt_ror_list).describe()],\n",
    "                   axis = 1)\n",
    "result.columns = ['패턴발생', '패턴미발생']\n",
    "display(result.round(2))"
   ]
  },
  {
   "cell_type": "markdown",
   "id": "da26cec0",
   "metadata": {},
   "source": [
    "#### 120영업일 보유 시 수익 비교"
   ]
  },
  {
   "cell_type": "code",
   "execution_count": null,
   "id": "7295b48e",
   "metadata": {
    "scrolled": true
   },
   "outputs": [],
   "source": [
    "total_patt_ror_list, total_no_patt_ror_list = result_dict[120]\n",
    "result = pd.concat([pd.Series(total_patt_ror_list).describe(),\n",
    "                   pd.Series(total_no_patt_ror_list).describe()],\n",
    "                   axis = 1)\n",
    "result.columns = ['패턴발생', '패턴미발생']\n",
    "display(result.round(2))"
   ]
  }
 ],
 "metadata": {
  "kernelspec": {
   "display_name": "Python 3",
   "language": "python",
   "name": "python3"
  },
  "language_info": {
   "codemirror_mode": {
    "name": "ipython",
    "version": 3
   },
   "file_extension": ".py",
   "mimetype": "text/x-python",
   "name": "python",
   "nbconvert_exporter": "python",
   "pygments_lexer": "ipython3",
   "version": "3.8.8"
  }
 },
 "nbformat": 4,
 "nbformat_minor": 5
}
