{
 "cells": [
  {
   "cell_type": "markdown",
   "id": "228bda87",
   "metadata": {},
   "source": [
    "### 데이터 준비 및 환경 설정"
   ]
  },
  {
   "cell_type": "code",
   "execution_count": null,
   "id": "e02282ac",
   "metadata": {},
   "outputs": [],
   "source": [
    "import os\n",
    "import pandas as pd\n",
    "sp_data_dict = dict()\n",
    "for file_name in os.listdir(\"../../데이터/주가데이터\"):\n",
    "    sp_data = pd.read_csv(\"../../데이터/주가데이터/\" + file_name,\n",
    "                          parse_dates = ['Date'])\n",
    "    stock_name = file_name.replace('.csv', '')\n",
    "    sp_data_dict[stock_name] = sp_data"
   ]
  },
  {
   "cell_type": "code",
   "execution_count": null,
   "id": "9ac151c7",
   "metadata": {},
   "outputs": [],
   "source": [
    "import warnings\n",
    "warnings.filterwarnings(\"ignore\")"
   ]
  },
  {
   "cell_type": "code",
   "execution_count": null,
   "id": "a7fb8bd4",
   "metadata": {},
   "outputs": [],
   "source": [
    "import seaborn as sns\n",
    "from matplotlib import pyplot as plt\n",
    "from matplotlib import rcParams\n",
    "sns.set()\n",
    "%matplotlib inline\n",
    "rcParams['font.family'] = 'Malgun Gothic'\n",
    "rcParams['axes.unicode_minus'] = False"
   ]
  },
  {
   "cell_type": "markdown",
   "id": "bb2c1661",
   "metadata": {},
   "source": [
    "### 모멘텀"
   ]
  },
  {
   "cell_type": "markdown",
   "id": "5739f58f",
   "metadata": {},
   "source": [
    "#### 분석용 데이터 생성"
   ]
  },
  {
   "cell_type": "code",
   "execution_count": null,
   "id": "ad667eee",
   "metadata": {},
   "outputs": [],
   "source": [
    "import numpy as np\n",
    "mom_data = pd.DataFrame()\n",
    "for stock_name in sp_data_dict.keys():\n",
    "    sp_data = sp_data_dict[stock_name]\n",
    "    sp = sp_data[\"Close\"].values\n",
    "    \n",
    "    # 모멘텀 계산\n",
    "    mom_5 = (sp[5:] - sp[:-5]) / sp[:-5] * 100\n",
    "    mom_10 = (sp[10:] - sp[:-10]) / sp[:-10] * 100\n",
    "    mom_20 = (sp[20:] - sp[:-20]) / sp[:-20] * 100\n",
    "    mom_5 = np.insert(mom_5, [0] * 5, np.nan)\n",
    "    mom_10 = np.insert(mom_10, [0] * 10, np.nan)\n",
    "    mom_20 = np.insert(mom_20, [0] * 20, np.nan)\n",
    "    \n",
    "    # 모멘텀 변수 추가\n",
    "    temp = pd.DataFrame({\"Date\":sp_data['Date'].values})\n",
    "    temp[\"모멘텀_5\"] = mom_5\n",
    "    temp[\"모멘텀_10\"] = mom_10\n",
    "    temp[\"모멘텀_20\"] = mom_20\n",
    "    \n",
    "    # 수익률 추가 \n",
    "    ror_5 = np.insert(mom_5, [-1] * 5, np.nan)[5:]\n",
    "    ror_10 = np.insert(mom_10, [-1] * 10, np.nan)[10:]\n",
    "    ror_20 = np.insert(mom_20, [-1] * 20, np.nan)[20:]\n",
    "    temp[\"수익률_5\"] = ror_5\n",
    "    temp[\"수익률_10\"] = ror_10\n",
    "    temp[\"수익률_20\"] = ror_20\n",
    "    \n",
    "    temp.dropna(inplace = True)\n",
    "    mom_data = pd.concat([mom_data, temp], axis = 0, ignore_index = True)"
   ]
  },
  {
   "cell_type": "markdown",
   "id": "7acc79cf",
   "metadata": {},
   "source": [
    "#### 동일 가중 교체 매매 구현"
   ]
  },
  {
   "cell_type": "code",
   "execution_count": null,
   "id": "4e0e5318",
   "metadata": {},
   "outputs": [],
   "source": [
    "result = []\n",
    "date_list = sorted(mom_data[\"Date\"].unique())\n",
    "for date in date_list:\n",
    "    temp = mom_data.loc[mom_data['Date'] == date]\n",
    "    for n in [5, 10, 20]:\n",
    "        temp[\"그룹\"] = pd.qcut(temp['모멘텀_' + str(n)], 5,\n",
    "                               labels = range(5)).astype(int)\n",
    "        for group in range(5):\n",
    "            ror_list = temp.loc[temp[\"그룹\"] == group, \"수익률_\" + str(n)].values\n",
    "            inve_per_stock = 10 ** 8 / sum(temp[\"그룹\"] == group)\n",
    "            profit = (inve_per_stock * ror_list / 100).sum()\n",
    "            profit_ratio = profit / 10 ** 8 * 100\n",
    "            result.append([n, group, profit_ratio])\n",
    "\n",
    "result = pd.DataFrame(result, columns = [\"영업일\", \"그룹\", \"수익률\"])"
   ]
  },
  {
   "cell_type": "markdown",
   "id": "bb4f95e0",
   "metadata": {},
   "source": [
    "#### 결과 확인 및 시각화"
   ]
  },
  {
   "cell_type": "code",
   "execution_count": null,
   "id": "80c90260",
   "metadata": {},
   "outputs": [],
   "source": [
    "result.groupby(['영업일', '그룹'])['수익률'].mean().round(2).plot(kind = 'bar')"
   ]
  },
  {
   "cell_type": "code",
   "execution_count": null,
   "id": "e8927d23",
   "metadata": {},
   "outputs": [],
   "source": [
    "result.groupby(['영업일', '그룹'])['수익률'].median().round(2).plot(kind = 'bar')"
   ]
  },
  {
   "cell_type": "code",
   "execution_count": null,
   "id": "48f17f19",
   "metadata": {},
   "outputs": [],
   "source": [
    "display(result.groupby(['영업일', '그룹'])['수익률'].describe().round(2))"
   ]
  },
  {
   "cell_type": "markdown",
   "id": "c6b60afb",
   "metadata": {},
   "source": [
    "### 방향성 지수"
   ]
  },
  {
   "cell_type": "markdown",
   "id": "19bcaa3f",
   "metadata": {},
   "source": [
    "#### 분석용 데이터 생성"
   ]
  },
  {
   "cell_type": "code",
   "execution_count": null,
   "id": "df66937c",
   "metadata": {},
   "outputs": [],
   "source": [
    "dmi_data_dict = dict()\n",
    "for stock_name in sp_data_dict.keys():\n",
    "    # 데이터 정의\n",
    "    sp_data = sp_data_dict[stock_name]\n",
    "    high_price = sp_data[\"High\"].values\n",
    "    low_price = sp_data[\"Low\"].values\n",
    "    close_price = sp_data[\"Close\"].values\n",
    "    \n",
    "    # 당일과 전일의 고가, 저가, 종가 정의\n",
    "    cur_high_price = high_price[1:]\n",
    "    pre_high_price = high_price[:-1]\n",
    "    cur_low_price = low_price[1:]\n",
    "    pre_low_price = low_price[:-1]\n",
    "    cur_close_price = close_price[1:]\n",
    "    pre_close_price = close_price[:-1]\n",
    "    \n",
    "    # PDM과 MDM 계산\n",
    "    PDM = cur_high_price - pre_high_price\n",
    "    PDM[PDM < 0] = 0\n",
    "    MDM = cur_low_price - pre_low_price\n",
    "    MDM[MDM < 0] = 0\n",
    "    \n",
    "    # TR 계산\n",
    "    TR1 = np.abs(cur_high_price - cur_low_price)\n",
    "    TR2 = np.abs(cur_high_price - pre_close_price)\n",
    "    TR3 = np.abs(cur_low_price - pre_close_price)\n",
    "    TR = np.vstack([TR1, TR2, TR3]).max(axis = 0)\n",
    "    \n",
    "    dmi_data = pd.DataFrame({\"Close\":close_price})    \n",
    "    dmi_data.drop(0, inplace = True)\n",
    "    dmi_data[\"PDM\"] = PDM\n",
    "    dmi_data[\"MDM\"] = MDM\n",
    "    dmi_data[\"TR\"] = TR\n",
    "    for n in [5, 10, 20]:\n",
    "        PDM_n = dmi_data[\"PDM\"].rolling(n).mean()\n",
    "        MDM_n = dmi_data[\"MDM\"].rolling(n).mean()\n",
    "        TR_n = dmi_data[\"TR\"].rolling(n).mean()\n",
    "        PDI_n = PDM_n / TR_n\n",
    "        MDI_n = MDM_n / TR_n\n",
    "        DX_n = (PDI_n - MDI_n) / (PDI_n + MDI_n) * 100\n",
    "        ADX_n = DX_n.rolling(n).mean()\n",
    "        \n",
    "        dmi_data[\"PDI_\" + str(n)] = PDI_n\n",
    "        dmi_data[\"MDI_\" + str(n)] = MDI_n\n",
    "        dmi_data[\"ADX_\" + str(n)] = ADX_n\n",
    "    \n",
    "    dmi_data.drop(['PDM', 'MDM', 'TR'], axis = 1, inplace = True)\n",
    "    dmi_data_dict[stock_name] = dmi_data"
   ]
  },
  {
   "cell_type": "markdown",
   "id": "a1d59485",
   "metadata": {},
   "source": [
    "#### PDI와 MDI만 활용한 매매 전략 검증"
   ]
  },
  {
   "cell_type": "code",
   "execution_count": null,
   "id": "7423fd01",
   "metadata": {},
   "outputs": [],
   "source": [
    "result_dict = {5:[], 10:[], 20:[]}\n",
    "for stock_name in dmi_data_dict.keys():\n",
    "    dmi_data = dmi_data_dict[stock_name]\n",
    "    for n in [5, 10, 20]:\n",
    "        PDI = dmi_data[\"PDI_\" + str(n)].values\n",
    "        MDI = dmi_data[\"MDI_\" + str(n)].values\n",
    "        # 매수 시점 목록 정의\n",
    "        bp_list = (PDI[1:] > MDI[1:]) & (PDI[:-1] <= MDI[:-1])\n",
    "        bp_list = np.insert(bp_list, 0, False)\n",
    "        bp_list = dmi_data.index[bp_list]\n",
    "        # 매도 시점 목록 정의\n",
    "        sp_list = (PDI[1:] < MDI[1:]) & (PDI[:-1] > MDI[:-1])\n",
    "        sp_list = np.insert(sp_list, 0, False)\n",
    "        sp_list = dmi_data.index[sp_list]\n",
    "\n",
    "        for bp in bp_list:\n",
    "            if (sum(bp<sp_list) > 0) and (bp + 1 <= dmi_data.index[-1]):\n",
    "                buy_price = dmi_data.loc[bp + 1, \"Close\"]\n",
    "                sp = sp_list[sp_list > bp][0] + 1\n",
    "                if sp <= dmi_data.index[-1]:\n",
    "                    sell_price = dmi_data.loc[sp, \"Close\"]\n",
    "                    profit = (sell_price - buy_price) / buy_price * 100\n",
    "                    result_dict[n].append(profit)\n",
    "            else:\n",
    "                break"
   ]
  },
  {
   "cell_type": "code",
   "execution_count": null,
   "id": "2e271de6",
   "metadata": {},
   "outputs": [],
   "source": [
    "result = pd.DataFrame()\n",
    "for n in [5, 10, 20]:\n",
    "    result = pd.concat([result, pd.Series(result_dict[n]).describe()], axis = 1)\n",
    "result.columns = [5, 10, 20]\n",
    "display(result)"
   ]
  },
  {
   "cell_type": "markdown",
   "id": "285449e8",
   "metadata": {},
   "source": [
    "#### PDI, MDI, ADX를 활용한 매매 전략 검증"
   ]
  },
  {
   "cell_type": "code",
   "execution_count": null,
   "id": "58a6531d",
   "metadata": {},
   "outputs": [],
   "source": [
    "result_dict = {5:[], 10:[], 20:[]}\n",
    "for stock_name in dmi_data_dict.keys():\n",
    "    dmi_data = dmi_data_dict[stock_name]\n",
    "    for n in [5, 10, 20]:\n",
    "        PDI = dmi_data[\"PDI_\" + str(n)].values\n",
    "        MDI = dmi_data[\"MDI_\" + str(n)].values\n",
    "        ADX = dmi_data[\"ADX_\" + str(n)].values\n",
    "\n",
    "        bp_list = ((PDI[1:] > MDI[1:]) & (ADX[1:] >= 25)) \n",
    "        bp_list &= ((PDI[:-1] <= MDI[:-1]) | (ADX[:-1] < 25))\n",
    "        bp_list = np.insert(bp_list, 0, False)\n",
    "        bp_list = dmi_data.index[bp_list] \n",
    "\n",
    "        sp_list = ((PDI[1:] <= MDI[1:]) & (ADX[1:] >= 25)) \n",
    "        sp_list &= ((PDI[:-1] > MDI[:-1]) | (ADX[:-1] < 25))\n",
    "        sp_list = np.insert(sp_list, 0, False)\n",
    "        sp_list = dmi_data.index[sp_list] \n",
    "\n",
    "        for bp in bp_list:\n",
    "            if (sum(bp < sp_list) > 0) and (bp + 1 <= dmi_data.index[-1]):\n",
    "                buy_price = dmi_data.loc[bp + 1, \"Close\"]\n",
    "                sp = sp_list[sp_list > bp][0] + 1\n",
    "                if sp <= dmi_data.index[-1]:\n",
    "                    sell_price = dmi_data.loc[sp, \"Close\"]\n",
    "                    profit = (sell_price - buy_price) / buy_price * 100\n",
    "                    result_dict[n].append(profit)\n",
    "            else:\n",
    "                break"
   ]
  },
  {
   "cell_type": "code",
   "execution_count": null,
   "id": "594d5a4f",
   "metadata": {},
   "outputs": [],
   "source": [
    "result = pd.DataFrame()\n",
    "for n in [5, 10, 20]:\n",
    "    result = pd.concat([result, pd.Series(result_dict[n]).describe()], axis = 1)\n",
    "result.columns = [5, 10, 20]\n",
    "display(result)"
   ]
  },
  {
   "cell_type": "markdown",
   "id": "e88a0beb",
   "metadata": {},
   "source": [
    "### 엔빌롭"
   ]
  },
  {
   "cell_type": "markdown",
   "id": "b86ee2b3",
   "metadata": {},
   "source": [
    "#### 데이터 준비"
   ]
  },
  {
   "cell_type": "code",
   "execution_count": null,
   "id": "56f65591",
   "metadata": {},
   "outputs": [],
   "source": [
    "env_data_dict = dict()\n",
    "for stock_name in sp_data_dict.keys():\n",
    "    # 데이터 정의\n",
    "    sp_data = sp_data_dict[stock_name]\n",
    "    env_data = sp_data.copy() # sp_data 복제\n",
    "    low_price = env_data[\"Low\"].values\n",
    "    high_price = env_data[\"High\"].values\n",
    "    for n in [5, 10, 20]:\n",
    "        env_data[\"MA_\" + str(n)] = env_data[\"Close\"].rolling(n).mean()\n",
    "        for a in [0.05, 0.1, 0.15, 0.2]:\n",
    "            env_data[\"지지선_{}_{}\".format(n, a)] = env_data[\"MA_\" + str(n)] * (1-a)\n",
    "            env_data[\"저항선_{}_{}\".format(n, a)] = env_data[\"MA_\" + str(n)] * (1+a)\n",
    "    env_data_dict[stock_name] = env_data"
   ]
  },
  {
   "cell_type": "markdown",
   "id": "37d4e92a",
   "metadata": {},
   "source": [
    "#### 전략 검증 및 시각화"
   ]
  },
  {
   "cell_type": "code",
   "execution_count": null,
   "id": "bc4147a1",
   "metadata": {},
   "outputs": [],
   "source": [
    "mean_result = []\n",
    "median_result = []\n",
    "for n in [5, 10, 20]:\n",
    "    for a in [0.05, 0.1, 0.15, 0.2]:\n",
    "        ror_list = []\n",
    "        for stock_name in env_data_dict.keys():\n",
    "            env_data = env_data_dict[stock_name]\n",
    "            low_price = env_data[\"Low\"].values\n",
    "            high_price = env_data[\"High\"].values\n",
    "            res = env_data[\"저항선_{}_{}\".format(n, a)].values\n",
    "            sup = env_data[\"지지선_{}_{}\".format(n, a)].values\n",
    "            \n",
    "            bp_list = (low_price[1:] <= sup[1:]) & (low_price[:-1] > sup[:-1])\n",
    "            bp_list = np.insert(bp_list, 0, False)\n",
    "            bp_list = env_data.index[bp_list] \n",
    "            \n",
    "            sp_list = (high_price[1:] >= res[1:]) & (high_price[:-1] < res[:-1])\n",
    "            sp_list = np.insert(sp_list, 0, False)\n",
    "            sp_list = env_data.index[sp_list]\n",
    "            \n",
    "            for bp in bp_list:\n",
    "                if (sum(bp < sp_list) > 0) and (bp + 1 <= env_data.index[-1]):\n",
    "                    buy_price = env_data.loc[bp + 1, \"Close\"]\n",
    "                    sp = sp_list[sp_list > bp][0] + 1\n",
    "                    if sp <= env_data.index[-1]:\n",
    "                        sell_price = env_data.loc[sp, \"Close\"]\n",
    "                        ror = (sell_price - buy_price) / buy_price * 100\n",
    "                        ror_list.append(ror)\n",
    "                else:\n",
    "                    break\n",
    "\n",
    "        mean_result.append(np.mean(ror_list))\n",
    "        median_result.append(np.quantile(ror_list, 0.5))\n",
    "    \n",
    "mean_result = np.array(mean_result).reshape(3, 4)\n",
    "median_result = np.array(median_result).reshape(3, 4)"
   ]
  },
  {
   "cell_type": "code",
   "execution_count": null,
   "id": "2430272e",
   "metadata": {},
   "outputs": [],
   "source": [
    "sns.heatmap(mean_result, annot = True, fmt = \".2f\", linewidth = 1)\n",
    "plt.yticks([0.5, 1.5, 2.5], [5, 10, 20])\n",
    "plt.xticks([0.5, 1.5, 2.5, 3.5], [0.05, 0.1, 0.15, 0.2])\n",
    "plt.ylabel(\"n\")\n",
    "plt.xlabel(\"a\")\n",
    "plt.show()"
   ]
  },
  {
   "cell_type": "code",
   "execution_count": null,
   "id": "0b295043",
   "metadata": {},
   "outputs": [],
   "source": [
    "sns.heatmap(median_result, annot = True, fmt = \".2f\", linewidth = 1)\n",
    "plt.yticks([0.5, 1.5, 2.5], [5, 10, 20])\n",
    "plt.xticks([0.5, 1.5, 2.5, 3.5], [0.05, 0.1, 0.15, 0.2])\n",
    "plt.ylabel(\"n\")\n",
    "plt.xlabel(\"a\")\n",
    "plt.show()"
   ]
  }
 ],
 "metadata": {
  "kernelspec": {
   "display_name": "Python 3",
   "language": "python",
   "name": "python3"
  },
  "language_info": {
   "codemirror_mode": {
    "name": "ipython",
    "version": 3
   },
   "file_extension": ".py",
   "mimetype": "text/x-python",
   "name": "python",
   "nbconvert_exporter": "python",
   "pygments_lexer": "ipython3",
   "version": "3.8.8"
  }
 },
 "nbformat": 4,
 "nbformat_minor": 5
}
