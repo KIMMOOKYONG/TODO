{
 "cells": [
  {
   "cell_type": "markdown",
   "id": "08e2f1e4",
   "metadata": {},
   "source": [
    "### 데이터 준비 및 환경 설정"
   ]
  },
  {
   "cell_type": "code",
   "execution_count": null,
   "id": "f869dfc7",
   "metadata": {},
   "outputs": [],
   "source": [
    "import os\n",
    "import pandas as pd\n",
    "sp_data_dict = dict()\n",
    "for file_name in os.listdir(\"../../데이터/주가데이터\"):\n",
    "    sp_data = pd.read_csv(\"../../데이터/주가데이터/\" + file_name,\n",
    "                          parse_dates = ['Date'])\n",
    "    stock_name = file_name.replace('.csv', '')\n",
    "    sp_data_dict[stock_name] = sp_data"
   ]
  },
  {
   "cell_type": "code",
   "execution_count": null,
   "id": "6e0a9647",
   "metadata": {},
   "outputs": [],
   "source": [
    "import warnings\n",
    "warnings.filterwarnings(\"ignore\")"
   ]
  },
  {
   "cell_type": "code",
   "execution_count": null,
   "id": "f6caa2e8",
   "metadata": {},
   "outputs": [],
   "source": [
    "import seaborn as sns\n",
    "from matplotlib import pyplot as plt\n",
    "from matplotlib import rcParams\n",
    "sns.set()\n",
    "%matplotlib inline\n",
    "rcParams['font.family'] = 'Malgun Gothic'\n",
    "rcParams['axes.unicode_minus'] = False"
   ]
  },
  {
   "cell_type": "markdown",
   "id": "6524c07d",
   "metadata": {},
   "source": [
    "### EOM 지수"
   ]
  },
  {
   "cell_type": "markdown",
   "id": "afd51511",
   "metadata": {},
   "source": [
    "#### 분석용 데이터 준비"
   ]
  },
  {
   "cell_type": "code",
   "execution_count": null,
   "id": "2b1af846",
   "metadata": {},
   "outputs": [],
   "source": [
    "import numpy as np\n",
    "eom_data_dict = dict()\n",
    "for stock_name in sp_data_dict.keys():\n",
    "    eom_data = sp_data_dict[stock_name].copy()\n",
    "    high_price = eom_data[\"High\"].values\n",
    "    low_price = eom_data[\"Low\"].values\n",
    "    volume = eom_data[\"Volume\"].values\n",
    "    MM = ((high_price[1:] + low_price[1:]) - (high_price[:-1] + low_price[:-1])) / 2\n",
    "    BR = (volume[1:] / 10000) / (high_price[1:] - low_price[1:])\n",
    "    EOM = MM / BR\n",
    "    eom_data.drop(0, inplace = True)\n",
    "    eom_data[\"EOM\"] = EOM\n",
    "    eom_data[\"EOM_5\"] = eom_data[\"EOM\"].rolling(5).mean()\n",
    "    eom_data[\"EOM_10\"] = eom_data[\"EOM\"].rolling(10).mean()\n",
    "    eom_data[\"EOM_20\"] = eom_data[\"EOM\"].rolling(20).mean()\n",
    "    eom_data_dict[stock_name] = eom_data"
   ]
  },
  {
   "cell_type": "markdown",
   "id": "1038dfba",
   "metadata": {},
   "source": [
    "#### 전략 구현 및 검증"
   ]
  },
  {
   "cell_type": "code",
   "execution_count": null,
   "id": "34d815d3",
   "metadata": {},
   "outputs": [],
   "source": [
    "def ror_using_EOM(eom_data_dict, EOM_col):\n",
    "    ror_list = []\n",
    "    for stock_name in eom_data_dict.keys():\n",
    "        eom_data = eom_data_dict[stock_name]\n",
    "        EOM = eom_data[EOM_col].values\n",
    "        buy_point_list = (EOM[1:] > 0) & (EOM[:-1] <= 0)\n",
    "        buy_point_list = np.insert(buy_point_list, 0, False)\n",
    "        buy_point_list = eom_data.index[buy_point_list]\n",
    "\n",
    "        sell_point_list = (EOM[1:] < 0) & (EOM[:-1] >= 0)\n",
    "        sell_point_list = np.insert(sell_point_list, 0, False)\n",
    "        sell_point_list = eom_data.index[sell_point_list]\n",
    "        for bp in buy_point_list:\n",
    "            if (sum(bp < sell_point_list) > 0) and (bp + 1 <= eom_data.index[-1]):\n",
    "                buy_price = eom_data.loc[bp + 1, \"Close\"]\n",
    "                sp = sell_point_list[sell_point_list > bp][0] + 1\n",
    "                if sp <= eom_data.index[-1]:\n",
    "                    sell_price = eom_data.loc[sp, \"Close\"]\n",
    "                    ror = (sell_price - buy_price) / buy_price * 100\n",
    "                    ror_list.append(ror)\n",
    "            else:\n",
    "                break\n",
    "    return np.array(ror_list)"
   ]
  },
  {
   "cell_type": "code",
   "execution_count": null,
   "id": "138d51c7",
   "metadata": {},
   "outputs": [],
   "source": [
    "EOM_1_ror = ror_using_EOM(eom_data_dict, \"EOM\")\n",
    "EOM_5_ror = ror_using_EOM(eom_data_dict, \"EOM_5\")\n",
    "EOM_10_ror = ror_using_EOM(eom_data_dict, \"EOM_10\")\n",
    "EOM_20_ror = ror_using_EOM(eom_data_dict, \"EOM_20\")"
   ]
  },
  {
   "cell_type": "code",
   "execution_count": null,
   "id": "6d38727f",
   "metadata": {},
   "outputs": [],
   "source": [
    "plt.boxplot([EOM_1_ror, EOM_5_ror, EOM_10_ror, EOM_20_ror])\n",
    "plt.xticks([1, 2, 3, 4], [1, 5, 10, 20])\n",
    "plt.ylim(-10, 10)\n",
    "plt.show()"
   ]
  },
  {
   "cell_type": "code",
   "execution_count": null,
   "id": "cf6721c0",
   "metadata": {},
   "outputs": [],
   "source": [
    "result = pd.concat([pd.Series(EOM_1_ror).describe(),\n",
    "                    pd.Series(EOM_5_ror).describe(),\n",
    "                    pd.Series(EOM_10_ror).describe(),\n",
    "                    pd.Series(EOM_20_ror).describe()], axis = 1)\n",
    "display(result.round(3))"
   ]
  },
  {
   "cell_type": "markdown",
   "id": "5c310259",
   "metadata": {},
   "source": [
    "### RSI"
   ]
  },
  {
   "cell_type": "markdown",
   "id": "899f7f1b",
   "metadata": {},
   "source": [
    "#### 분석용 데이터 준비"
   ]
  },
  {
   "cell_type": "code",
   "execution_count": null,
   "id": "b154a35b",
   "metadata": {},
   "outputs": [],
   "source": [
    "rsi_data_dict = dict()\n",
    "for stock_name in sp_data_dict.keys():\n",
    "    rsi_data = sp_data_dict[stock_name][['Close']].copy()\n",
    "    price = rsi_data[\"Close\"].values\n",
    "    rise = price[1:] - price[:-1]\n",
    "    rise[rise < 0] = 0\n",
    "    fall = price[:-1] - price[1:]\n",
    "    fall[fall < 0] = 0\n",
    "    \n",
    "    rsi_data.drop(0, inplace = True)\n",
    "    rsi_data[\"상승폭\"] = rise\n",
    "    rsi_data[\"하락폭\"] = fall\n",
    "    \n",
    "    for n in [5, 10, 20]:\n",
    "        sum_rise_n = rsi_data[\"상승폭\"].rolling(n).sum()\n",
    "        sum_fall_n = rsi_data[\"하락폭\"].rolling(n).sum()\n",
    "        rsi_data[\"RSI_\" + str(n)] = sum_rise_n / (sum_rise_n + sum_fall_n)\n",
    "    rsi_data_dict[stock_name] = rsi_data"
   ]
  },
  {
   "cell_type": "markdown",
   "id": "25d27e67",
   "metadata": {},
   "source": [
    "#### 전략 1 구현 및 검증: RSI가 0.7 이상이면 매도, 0.3 미만이면 매수"
   ]
  },
  {
   "cell_type": "code",
   "execution_count": null,
   "id": "cbba5b35",
   "metadata": {},
   "outputs": [],
   "source": [
    "result = pd.DataFrame()\n",
    "for n in [5, 10, 20]:\n",
    "    record = []\n",
    "    for stock_name in rsi_data_dict.keys():\n",
    "        rsi_data = rsi_data_dict[stock_name]\n",
    "        RSI = rsi_data[\"RSI_\" + str(n)].values\n",
    "        \n",
    "        buy_point_list = (RSI[1:] < 0.3) & (RSI[:-1] >= 0.3)\n",
    "        buy_point_list = np.insert(buy_point_list, 0, False)\n",
    "        buy_point_list = rsi_data.index[buy_point_list] \n",
    "        sell_point_list = (RSI[1:] >= 0.7) & (RSI[:-1] < 0.7)\n",
    "        sell_point_list = np.insert(sell_point_list, 0, False)\n",
    "        sell_point_list = rsi_data.index[sell_point_list] \n",
    "        \n",
    "        for bp in buy_point_list:\n",
    "            if (sum(bp < sell_point_list) > 0) and (bp + 1 <= rsi_data.index[-1]):\n",
    "                buy_price = rsi_data.loc[bp + 1, \"Close\"]\n",
    "                sp = sell_point_list[sell_point_list > bp][0] + 1\n",
    "                if sp <= rsi_data.index[-1]:\n",
    "                    sell_price = rsi_data.loc[sp, \"Close\"]\n",
    "                    profit = (sell_price - buy_price) / buy_price * 100\n",
    "                    record.append(profit)\n",
    "            else:\n",
    "                break\n",
    "    result = pd.concat([result, pd.Series(record).describe()], axis = 1)\n",
    "\n",
    "result.columns = [5, 10, 20]\n",
    "display(result)"
   ]
  },
  {
   "cell_type": "markdown",
   "id": "f5389e3d",
   "metadata": {},
   "source": [
    "#### 전략 2 구현 및 검증: RSI가 0.5를 상향 돌파하면 매수, 하향 돌파하면 매도"
   ]
  },
  {
   "cell_type": "code",
   "execution_count": null,
   "id": "7c87afa4",
   "metadata": {},
   "outputs": [],
   "source": [
    "result = pd.DataFrame()\n",
    "for n in [5, 10, 20]:\n",
    "    record = []\n",
    "    for stock_name in rsi_data_dict.keys():\n",
    "        rsi_data = rsi_data_dict[stock_name]\n",
    "        RSI = rsi_data[\"RSI_\" + str(n)].values\n",
    "        \n",
    "        buy_point_list = (RSI[1:] >= 0.5) & (RSI[:-1] < 0.5)\n",
    "        buy_point_list = np.insert(buy_point_list, 0, False)\n",
    "        buy_point_list = rsi_data.index[buy_point_list] \n",
    "        sell_point_list = (RSI[1:] < 0.5) & (RSI[:-1] >= 0.5)\n",
    "        sell_point_list = np.insert(sell_point_list, 0, False)\n",
    "        sell_point_list = rsi_data.index[sell_point_list] \n",
    "        \n",
    "        for bp in buy_point_list:\n",
    "            if (sum(bp < sell_point_list) > 0) and (bp + 1 <= rsi_data.index[-1]):\n",
    "                buy_price = rsi_data.loc[bp + 1, \"Close\"]\n",
    "                sp = sell_point_list[sell_point_list > bp][0] + 1\n",
    "                if sp <= rsi_data.index[-1]:\n",
    "                    sell_price = rsi_data.loc[sp, \"Close\"]\n",
    "                    profit = (sell_price - buy_price) / buy_price * 100\n",
    "                    record.append(profit)\n",
    "            else:\n",
    "                break\n",
    "    result = pd.concat([result, pd.Series(record).describe()], axis = 1)\n",
    "\n",
    "result.columns = [5, 10, 20]\n",
    "display(result)"
   ]
  },
  {
   "cell_type": "markdown",
   "id": "95447e2b",
   "metadata": {},
   "source": [
    "### MFI"
   ]
  },
  {
   "cell_type": "markdown",
   "id": "dc83aaba",
   "metadata": {},
   "source": [
    "#### 분석용 데이터 준비"
   ]
  },
  {
   "cell_type": "code",
   "execution_count": null,
   "id": "4e461527",
   "metadata": {},
   "outputs": [],
   "source": [
    "mfi_data_dict = dict()\n",
    "for stock_name in sp_data_dict.keys():\n",
    "    mfi_data = sp_data_dict[stock_name][['Close']].copy()\n",
    "    sp_data = sp_data_dict[stock_name]\n",
    "    close_price = sp_data[\"Close\"].values\n",
    "    low_price = sp_data[\"Low\"].values\n",
    "    high_price = sp_data[\"High\"].values\n",
    "    volume = sp_data[\"Volume\"].values\n",
    "    \n",
    "    MF = volume[1:] * (high_price[1:] + low_price[1:] + close_price[1:]) / 3\n",
    "    PMF = np.zeros(len(MF))\n",
    "    NMF = np.zeros(len(MF))\n",
    "    \n",
    "    PMF[close_price[1:] > close_price[:-1]] = MF[close_price[1:] > close_price[:-1]]\n",
    "    NMF[close_price[1:] < close_price[:-1]] = MF[close_price[1:] < close_price[:-1]]\n",
    "    \n",
    "    mfi_data.drop(0, inplace = True)\n",
    "    mfi_data[\"PMF\"] = PMF\n",
    "    mfi_data[\"NMF\"] = NMF\n",
    "    \n",
    "    for n in [5, 10, 20]:\n",
    "        PMF_n = mfi_data[\"PMF\"].rolling(n).sum()\n",
    "        NMF_n = mfi_data[\"NMF\"].rolling(n).sum()\n",
    "        MR = PMF_n / NMF_n\n",
    "        mfi_data[\"MFI_\" + str(n)] = MR / (1 + MR)\n",
    "        \n",
    "    mfi_data_dict[stock_name] = mfi_data"
   ]
  },
  {
   "cell_type": "markdown",
   "id": "2f97194b",
   "metadata": {},
   "source": [
    "#### 전략 1 구현 및 검증: MFI가 0.7 이상이면 매도, 0.3 미만이면 매수"
   ]
  },
  {
   "cell_type": "code",
   "execution_count": null,
   "id": "05972427",
   "metadata": {},
   "outputs": [],
   "source": [
    "result = pd.DataFrame()\n",
    "for n in [5, 10, 20]:\n",
    "    record = []\n",
    "    for stock_name in mfi_data_dict.keys():\n",
    "        mfi_data = mfi_data_dict[stock_name]\n",
    "        MFI = mfi_data[\"MFI_\" + str(n)].values\n",
    "        \n",
    "        buy_point_list = (MFI[1:] < 0.3) & (MFI[:-1] >= 0.3)\n",
    "        buy_point_list = np.insert(buy_point_list, 0, False)\n",
    "        buy_point_list = mfi_data.index[buy_point_list] \n",
    "        sell_point_list = (MFI[1:] >= 0.7) & (MFI[:-1] < 0.7)\n",
    "        sell_point_list = np.insert(sell_point_list, 0, False)\n",
    "        sell_point_list = mfi_data.index[sell_point_list] \n",
    "        \n",
    "        for bp in buy_point_list:\n",
    "            if (sum(bp < sell_point_list) > 0) and (bp + 1 <= mfi_data.index[-1]):\n",
    "                buy_price = mfi_data.loc[bp + 1, \"Close\"]\n",
    "                sp = sell_point_list[sell_point_list > bp][0] + 1\n",
    "                if sp <= mfi_data.index[-1]:\n",
    "                    sell_price = mfi_data.loc[sp, \"Close\"]\n",
    "                    profit = (sell_price - buy_price) / buy_price * 100\n",
    "                    record.append(profit)\n",
    "            else:\n",
    "                break\n",
    "    result = pd.concat([result, pd.Series(record).describe()], axis = 1)\n",
    "\n",
    "result.columns = [5, 10, 20]\n",
    "display(result)"
   ]
  },
  {
   "cell_type": "markdown",
   "id": "7b406612",
   "metadata": {},
   "source": [
    "#### 전략 2 구현 및 검증: MFI가 0.5를 상향 돌파하면 매수, 하향 돌파하면 매도"
   ]
  },
  {
   "cell_type": "code",
   "execution_count": null,
   "id": "c3963343",
   "metadata": {},
   "outputs": [],
   "source": [
    "result = pd.DataFrame()\n",
    "for n in [5, 10, 20]:\n",
    "    record = []\n",
    "    for stock_name in mfi_data_dict.keys():\n",
    "        mfi_data = mfi_data_dict[stock_name]\n",
    "        MFI = mfi_data[\"MFI_\" + str(n)].values\n",
    "        \n",
    "        buy_point_list = (MFI[1:] >= 0.5) & (MFI[:-1] < 0.5)\n",
    "        buy_point_list = np.insert(buy_point_list, 0, False)\n",
    "        buy_point_list = mfi_data.index[buy_point_list] \n",
    "        sell_point_list = (MFI[1:] < 0.5) & (MFI[:-1] >= 0.5)\n",
    "        sell_point_list = np.insert(sell_point_list, 0, False)\n",
    "        sell_point_list = mfi_data.index[sell_point_list] \n",
    "        \n",
    "        for bp in buy_point_list:\n",
    "            if (sum(bp < sell_point_list) > 0) and (bp + 1 <= mfi_data.index[-1]):\n",
    "                buy_price = mfi_data.loc[bp + 1, \"Close\"]\n",
    "                sp = sell_point_list[sell_point_list > bp][0] + 1\n",
    "                if sp <= mfi_data.index[-1]:\n",
    "                    sell_price = mfi_data.loc[sp, \"Close\"]\n",
    "                    profit = (sell_price - buy_price) / buy_price * 100\n",
    "                    record.append(profit)\n",
    "            else:\n",
    "                break\n",
    "    result = pd.concat([result, pd.Series(record).describe()], axis = 1)\n",
    "\n",
    "result.columns = [5, 10, 20]\n",
    "display(result)"
   ]
  }
 ],
 "metadata": {
  "kernelspec": {
   "display_name": "Python 3",
   "language": "python",
   "name": "python3"
  },
  "language_info": {
   "codemirror_mode": {
    "name": "ipython",
    "version": 3
   },
   "file_extension": ".py",
   "mimetype": "text/x-python",
   "name": "python",
   "nbconvert_exporter": "python",
   "pygments_lexer": "ipython3",
   "version": "3.8.8"
  }
 },
 "nbformat": 4,
 "nbformat_minor": 5
}
