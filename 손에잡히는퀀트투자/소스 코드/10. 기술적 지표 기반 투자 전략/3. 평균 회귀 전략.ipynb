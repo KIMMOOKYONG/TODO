{
 "cells": [
  {
   "cell_type": "markdown",
   "id": "74b4aca0",
   "metadata": {},
   "source": [
    "### 데이터 준비 및 환경 설정"
   ]
  },
  {
   "cell_type": "code",
   "execution_count": null,
   "id": "97c7f9a3",
   "metadata": {},
   "outputs": [],
   "source": [
    "import os\n",
    "import pandas as pd\n",
    "sp_data_dict = dict()\n",
    "for file_name in os.listdir(\"../../데이터/주가데이터\"):\n",
    "    sp_data = pd.read_csv(\"../../데이터/주가데이터/\" + file_name,\n",
    "                          parse_dates = ['Date'])\n",
    "    stock_name = file_name.replace('.csv', '')\n",
    "    sp_data_dict[stock_name] = sp_data"
   ]
  },
  {
   "cell_type": "code",
   "execution_count": null,
   "id": "15af0620",
   "metadata": {},
   "outputs": [],
   "source": [
    "import seaborn as sns\n",
    "from matplotlib import pyplot as plt\n",
    "from matplotlib import rcParams\n",
    "sns.set()\n",
    "%matplotlib inline\n",
    "rcParams['font.family'] = 'Malgun Gothic'\n",
    "rcParams['axes.unicode_minus'] = False"
   ]
  },
  {
   "cell_type": "markdown",
   "id": "c848f24d",
   "metadata": {},
   "source": [
    "### 주가 회복 비율 계산"
   ]
  },
  {
   "cell_type": "code",
   "execution_count": null,
   "id": "474afd59",
   "metadata": {},
   "outputs": [],
   "source": [
    "def count_loss_and_recover(sp_data, n1, n2, m1, m2):\n",
    "    num_loss = 0\n",
    "    num_recover = 0\n",
    "    cur_price_list = sp_data[\"Close\"].values\n",
    "    n1_rmax_list = sp_data[\"Close\"].rolling(n1).max().values\n",
    "    n2_rmax_list = sp_data[\"Close\"].rolling(n2).max().values\n",
    "    pre_loss_list = (n1_rmax_list - cur_price_list) / n1_rmax_list * 100\n",
    "    \n",
    "    for i in range(n1, len(sp_data) - n2):\n",
    "        if pre_loss_list[i] >= m1:\n",
    "            num_loss += 1\n",
    "            if n2_rmax_list[i+n2] >= cur_price_list[i] * (1+m2 / 100):\n",
    "                num_recover += 1\n",
    "    return num_recover, num_loss"
   ]
  },
  {
   "cell_type": "code",
   "execution_count": null,
   "id": "46e858e9",
   "metadata": {},
   "outputs": [],
   "source": [
    "import numpy as np\n",
    "def sum_count_loss_and_recover(sp_data_dict, n1, n2, m1, m2):\n",
    "    total_num_recover, total_num_loss = 0, 0\n",
    "    for stock_name in sp_data_dict.keys():\n",
    "        sp_data = sp_data_dict[stock_name]\n",
    "        num_recover, num_loss = count_loss_and_recover(sp_data, n1, n2, m1, m2)\n",
    "        total_num_recover += num_recover\n",
    "        total_num_loss += num_loss\n",
    "    if total_num_loss > 0:\n",
    "        result = total_num_recover / total_num_loss\n",
    "    else:\n",
    "        result = np.nan\n",
    "    \n",
    "    return result"
   ]
  },
  {
   "cell_type": "markdown",
   "id": "03d2d1d1",
   "metadata": {},
   "source": [
    "### 주가 회복률 시각화"
   ]
  },
  {
   "cell_type": "code",
   "execution_count": null,
   "id": "70fe3593",
   "metadata": {},
   "outputs": [],
   "source": [
    "def make_heatmap(n1, n2, m1_range, m2_range):\n",
    "    graph_data = []\n",
    "    for m1 in m1_range:\n",
    "        record = []\n",
    "        for m2 in m2_range:\n",
    "            result = sum_count_loss_and_recover(sp_data_dict, n1, n2, m1, m2)\n",
    "            record.append(result)\n",
    "        graph_data.append(record)\n",
    "\n",
    "    sns.heatmap(graph_data, annot = True, fmt = \".2f\", linewidth = 1)\n",
    "    plt.xticks(np.arange(0.5, len(m2_range), 1), m2_range)\n",
    "    plt.yticks(np.arange(0.5, len(m1_range), 1), m1_range)\n",
    "    plt.show()"
   ]
  },
  {
   "cell_type": "code",
   "execution_count": null,
   "id": "30d68541",
   "metadata": {},
   "outputs": [],
   "source": [
    "make_heatmap(60, 60, range(5, 31, 5), range(30, 0, -5))"
   ]
  },
  {
   "cell_type": "code",
   "execution_count": null,
   "id": "63ff6709",
   "metadata": {},
   "outputs": [],
   "source": [
    "make_heatmap(120, 120, range(5, 31, 5), range(30, 0, -5))"
   ]
  },
  {
   "cell_type": "code",
   "execution_count": null,
   "id": "638088a4",
   "metadata": {},
   "outputs": [],
   "source": [
    "make_heatmap(240, 240, range(5, 31, 5), range(30, 0, -5))"
   ]
  },
  {
   "cell_type": "markdown",
   "id": "695703e0",
   "metadata": {},
   "source": [
    "### 평균 회귀 전략 구현 및 검증"
   ]
  },
  {
   "cell_type": "markdown",
   "id": "4357e65b",
   "metadata": {},
   "source": [
    "#### 전략 구현"
   ]
  },
  {
   "cell_type": "code",
   "execution_count": null,
   "id": "f11fac4e",
   "metadata": {},
   "outputs": [],
   "source": [
    "def calc_ror_using_mean_reg(sp_data_dict, n1, n2, m1, m2):\n",
    "    ror_list = []\n",
    "    for stock_name in sp_data_dict.keys():\n",
    "        sp_data = sp_data_dict[stock_name]\n",
    "        cur_price_list = sp_data[\"Close\"].values\n",
    "        n1_rmax_list = sp_data[\"Close\"].rolling(n1).max().values\n",
    "        pre_loss_list = (n1_rmax_list - cur_price_list) / n1_rmax_list * 100\n",
    "        for i in range(n1, len(sp_data) - n2 + 1):\n",
    "            if pre_loss_list[i] >= m1:\n",
    "                bp = cur_price_list[i] # 매수가\n",
    "                cand_sp_list = sp_data.loc[i:i+n2, \"Close\"].values # 매도가 후보 \n",
    "                if cand_sp_list.max() > bp * (1+m2/100): # 원하는 수준에 도달하면\n",
    "                    sp = cand_sp_list[cand_sp_list > bp * (1+m2/100)][0]\n",
    "                else:\n",
    "                    sp = cand_sp_list[-1]\n",
    "                ror = (sp - bp) / bp * 100\n",
    "                ror_list.append(ror)\n",
    "    return ror_list"
   ]
  },
  {
   "cell_type": "markdown",
   "id": "841eee99",
   "metadata": {},
   "source": [
    "#### 전 종목에 대한 검증"
   ]
  },
  {
   "cell_type": "code",
   "execution_count": null,
   "id": "e9928777",
   "metadata": {},
   "outputs": [],
   "source": [
    "n1 = 20; n2 = 20; m1 = 5; m2 = 5\n",
    "ror_list = calc_ror_using_mean_reg(sp_data_dict, n1, n2, m1, m2)\n",
    "display(pd.Series(ror_list).describe().round(3))"
   ]
  },
  {
   "cell_type": "code",
   "execution_count": null,
   "id": "f6bb8ba8",
   "metadata": {},
   "outputs": [],
   "source": [
    "n1 = 60; n2 = 120; m1 = 20; m2 = 10\n",
    "profit_list = calc_ror_using_mean_reg(sp_data_dict, n1, n2, m1, m2)\n",
    "display(pd.Series(profit_list).describe().round(3))"
   ]
  },
  {
   "cell_type": "code",
   "execution_count": null,
   "id": "543d08a9",
   "metadata": {},
   "outputs": [],
   "source": [
    "n1 = 240; n2 = 240; m1 = 30; m2 = 30\n",
    "profit_list = calc_ror_using_mean_reg(sp_data_dict, n1, n2, m1, m2)\n",
    "display(pd.Series(profit_list).describe().round(3))"
   ]
  },
  {
   "cell_type": "markdown",
   "id": "c0fd9e9b",
   "metadata": {},
   "source": [
    "#### 종목 유형에 따른 검증"
   ]
  },
  {
   "cell_type": "code",
   "execution_count": null,
   "id": "67c11938",
   "metadata": {},
   "outputs": [],
   "source": [
    "# 종목 정보 가져오기\n",
    "stock_info = pd.read_csv(\"../../데이터/종목정보.txt\", sep = \"\\t\", encoding = \"euc-kr\")\n",
    "market_cap = pd.read_excel(\"../../데이터/211104_시가총액.xlsx\")"
   ]
  },
  {
   "cell_type": "code",
   "execution_count": null,
   "id": "02db87d8",
   "metadata": {},
   "outputs": [],
   "source": [
    "stock_info = pd.read_excel(\"../../데이터/211104_시가총액.xlsx\")\n",
    "KOSPI_list = stock_info.loc[stock_info[\"시장구분\"] == \"KOSPI\", \"종목명\"].values\n",
    "KOSDAQ_list = stock_info.loc[stock_info[\"시장구분\"] == \"KOSDAQ\", \"종목명\"].values\n",
    "TOP100_list = stock_info.sort_values(by = \"시가총액\", ascending = False)[\"종목명\"].values[:100]"
   ]
  },
  {
   "cell_type": "code",
   "execution_count": null,
   "id": "9bce862b",
   "metadata": {},
   "outputs": [],
   "source": [
    "KOSPI_sp_data_dict = dict()\n",
    "KOSDAQ_sp_data_dict = dict()\n",
    "TOP100_sp_data_dict = dict()\n",
    "\n",
    "for stock_name in sp_data_dict.keys():\n",
    "    if stock_name in KOSPI_list:\n",
    "        KOSPI_sp_data_dict[stock_name] = sp_data_dict[stock_name]\n",
    "    if stock_name in KOSDAQ_list:\n",
    "        KOSDAQ_sp_data_dict[stock_name] = sp_data_dict[stock_name]\n",
    "    if stock_name in TOP100_list:\n",
    "        TOP100_sp_data_dict[stock_name] = sp_data_dict[stock_name]"
   ]
  },
  {
   "cell_type": "markdown",
   "id": "887aaff4",
   "metadata": {},
   "source": [
    "#### 코스피 종목에 대한 검증"
   ]
  },
  {
   "cell_type": "code",
   "execution_count": null,
   "id": "296092de",
   "metadata": {},
   "outputs": [],
   "source": [
    "n1 = 20; n2 = 20; m1 = 5; m2 = 5\n",
    "ror_list = calc_ror_using_mean_reg(KOSPI_sp_data_dict, n1, n2, m1, m2)\n",
    "display(pd.Series(ror_list).describe().round(3))"
   ]
  },
  {
   "cell_type": "code",
   "execution_count": null,
   "id": "3677f6ef",
   "metadata": {},
   "outputs": [],
   "source": [
    "n1 = 60; n2 = 120; m1 = 20; m2 = 10\n",
    "ror_list = calc_ror_using_mean_reg(KOSPI_sp_data_dict, n1, n2, m1, m2)\n",
    "display(pd.Series(ror_list).describe().round(3))"
   ]
  },
  {
   "cell_type": "code",
   "execution_count": null,
   "id": "e0899005",
   "metadata": {},
   "outputs": [],
   "source": [
    "n1 = 240; n2 = 240; m1 = 30; m2 = 30\n",
    "ror_list = calc_ror_using_mean_reg(KOSPI_sp_data_dict, n1, n2, m1, m2)\n",
    "display(pd.Series(ror_list).describe().round(3))"
   ]
  },
  {
   "cell_type": "markdown",
   "id": "20994046",
   "metadata": {},
   "source": [
    "#### 코스닥 종목에 대한 검증"
   ]
  },
  {
   "cell_type": "code",
   "execution_count": null,
   "id": "3d685780",
   "metadata": {},
   "outputs": [],
   "source": [
    "n1 = 20; n2 = 20; m1 = 5; m2 = 5\n",
    "ror_list = calc_ror_using_mean_reg(KOSDAQ_sp_data_dict, n1, n2, m1, m2)\n",
    "display(pd.Series(ror_list).describe().round(3))"
   ]
  },
  {
   "cell_type": "code",
   "execution_count": null,
   "id": "adcb8ac6",
   "metadata": {
    "scrolled": true
   },
   "outputs": [],
   "source": [
    "n1 = 60; n2 = 120; m1 = 20; m2 = 10\n",
    "ror_list = calc_ror_using_mean_reg(KOSDAQ_sp_data_dict, n1, n2, m1, m2)\n",
    "display(pd.Series(ror_list).describe().round(3))"
   ]
  },
  {
   "cell_type": "code",
   "execution_count": null,
   "id": "87d0c482",
   "metadata": {},
   "outputs": [],
   "source": [
    "n1 = 240; n2 = 240; m1 = 30; m2 = 30\n",
    "ror_list = calc_ror_using_mean_reg(KOSDAQ_sp_data_dict, n1, n2, m1, m2)\n",
    "display(pd.Series(ror_list).describe().round(3))"
   ]
  },
  {
   "cell_type": "markdown",
   "id": "8492486a",
   "metadata": {},
   "source": [
    "#### 우량 종목에 대한 검증"
   ]
  },
  {
   "cell_type": "code",
   "execution_count": null,
   "id": "7c6f8e84",
   "metadata": {},
   "outputs": [],
   "source": [
    "n1 = 20; n2 = 20; m1 = 5; m2 = 5\n",
    "ror_list = calc_ror_using_mean_reg(TOP100_sp_data_dict, n1, n2, m1, m2)\n",
    "display(pd.Series(ror_list).describe().round(3))"
   ]
  },
  {
   "cell_type": "code",
   "execution_count": null,
   "id": "d778141d",
   "metadata": {
    "scrolled": true
   },
   "outputs": [],
   "source": [
    "n1 = 60; n2 = 120; m1 = 20; m2 = 10\n",
    "ror_list = calc_ror_using_mean_reg(TOP100_sp_data_dict, n1, n2, m1, m2)\n",
    "display(pd.Series(ror_list).describe().round(3))"
   ]
  },
  {
   "cell_type": "code",
   "execution_count": null,
   "id": "e09cc6d4",
   "metadata": {},
   "outputs": [],
   "source": [
    "n1 = 240; n2 = 240; m1 = 30; m2 = 30\n",
    "ror_list = calc_ror_using_mean_reg(TOP100_sp_data_dict, n1, n2, m1, m2)\n",
    "display(pd.Series(ror_list).describe().round(3))"
   ]
  }
 ],
 "metadata": {
  "kernelspec": {
   "display_name": "Python 3",
   "language": "python",
   "name": "python3"
  },
  "language_info": {
   "codemirror_mode": {
    "name": "ipython",
    "version": 3
   },
   "file_extension": ".py",
   "mimetype": "text/x-python",
   "name": "python",
   "nbconvert_exporter": "python",
   "pygments_lexer": "ipython3",
   "version": "3.8.8"
  }
 },
 "nbformat": 4,
 "nbformat_minor": 5
}
